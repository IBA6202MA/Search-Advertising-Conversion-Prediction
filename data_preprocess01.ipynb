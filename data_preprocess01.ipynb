{
 "cells": [
  {
   "cell_type": "code",
   "execution_count": 15,
   "metadata": {},
   "outputs": [],
   "source": [
    "import numpy as np \n",
    "import pandas as pd \n",
    "import matplotlib.pyplot as plt\n",
    "import matplotlib as mpl\n",
    "import seaborn as sns\n",
    "import datetime\n",
    "from scipy import interpolate\n",
    "from sklearn.calibration import LabelEncoder\n",
    "color = sns.color_palette()"
   ]
  },
  {
   "cell_type": "code",
   "execution_count": 16,
   "metadata": {},
   "outputs": [],
   "source": [
    "train_origin=pd.read_csv(\"data/round2_train.txt\",sep=\" \")\n",
    "\n",
    "np.random.seed(0)  \n",
    "# 按照列的比例随机抽取数据  \n",
    "train_sample_ratio = 0.01  # 设置抽样比例为1%  \n",
    "train = train_origin.sample(frac=train_sample_ratio, random_state=0)  \n",
    "  "
   ]
  },
  {
   "cell_type": "code",
   "execution_count": 17,
   "metadata": {},
   "outputs": [],
   "source": [
    "test_a_origin=pd.read_csv(\"data/round2_ijcai_18_test_a_20180425.txt\",sep=\" \")\n",
    "test_b_origin=pd.read_csv(\"data/round2_ijcai_18_test_b_20180510.txt\",sep=\" \")\n",
    "\n",
    "np.random.seed(0)  \n",
    "# 按照列的比例随机抽取数据  \n",
    "test_a_sample_ratio = 0.01  # 设置抽样比例为1%  \n",
    "test_a = test_a_origin.sample(frac=test_a_sample_ratio, random_state=0)  \n",
    "\n",
    "# 按照列的比例随机抽取数据  \n",
    "test_b_sample_ratio = 0.01  # 设置抽样比例为1%  \n",
    "test_b = test_b_origin.sample(frac=test_b_sample_ratio, random_state=0)  "
   ]
  },
  {
   "cell_type": "code",
   "execution_count": 18,
   "metadata": {},
   "outputs": [
    {
     "name": "stderr",
     "output_type": "stream",
     "text": [
      "/var/folders/hv/0r6f95ls1ss09znhzxqsj0nr0000gn/T/ipykernel_22235/1659890164.py:1: FutureWarning: The frame.append method is deprecated and will be removed from pandas in a future version. Use pandas.concat instead.\n",
      "  test = test_a.append(test_b)\n"
     ]
    }
   ],
   "source": [
    "test = test_a.append(test_b)\n",
    "data = pd.concat([train, test])"
   ]
  },
  {
   "cell_type": "code",
   "execution_count": 19,
   "metadata": {},
   "outputs": [
    {
     "data": {
      "text/plain": [
       "['instance_id',\n",
       " 'item_id',\n",
       " 'item_category_list',\n",
       " 'item_property_list',\n",
       " 'item_brand_id',\n",
       " 'item_city_id',\n",
       " 'item_price_level',\n",
       " 'item_sales_level',\n",
       " 'item_collected_level',\n",
       " 'item_pv_level',\n",
       " 'user_id',\n",
       " 'user_gender_id',\n",
       " 'user_age_level',\n",
       " 'user_occupation_id',\n",
       " 'user_star_level',\n",
       " 'context_id',\n",
       " 'context_timestamp',\n",
       " 'context_page_id',\n",
       " 'predict_category_property',\n",
       " 'shop_id',\n",
       " 'shop_review_num_level',\n",
       " 'shop_review_positive_rate',\n",
       " 'shop_star_level',\n",
       " 'shop_score_service',\n",
       " 'shop_score_delivery',\n",
       " 'shop_score_description',\n",
       " 'is_trade']"
      ]
     },
     "execution_count": 19,
     "metadata": {},
     "output_type": "execute_result"
    }
   ],
   "source": [
    "#原始特征\n",
    "data.columns.tolist()"
   ]
  },
  {
   "cell_type": "code",
   "execution_count": 20,
   "metadata": {},
   "outputs": [
    {
     "data": {
      "text/plain": [
       "(121617, 27)"
      ]
     },
     "execution_count": 20,
     "metadata": {},
     "output_type": "execute_result"
    }
   ],
   "source": [
    "#初始维度\n",
    "data.shape"
   ]
  },
  {
   "cell_type": "code",
   "execution_count": 21,
   "metadata": {},
   "outputs": [],
   "source": [
    "#时间数据处理\n",
    "data['time'] = pd.to_datetime(data.context_timestamp, unit='s')\n",
    "data['time'] = data['time'].apply(lambda x: x + datetime.timedelta(hours=8)) # 考虑时区，这里我们假设是北京时间（UTC+8）  \n",
    "data['day'] = data['time'].apply(lambda x: int(str(x)[8:10]))\n",
    "data['hour'] = data['time'].apply(lambda x: int(str(x)[11:13]))   \n",
    "data['minute'] =  data['time'].apply(lambda x: int(str(x)[14:16]))\n"
   ]
  },
  {
   "cell_type": "code",
   "execution_count": 22,
   "metadata": {},
   "outputs": [],
   "source": [
    "#对一天中的不同时间段进行分类或分析。例如，您可能想要跟踪用户在不同时间段内的活动情况，或者根据时间段对某些数据进行分类\n",
    "def map_hour(s):\n",
    "    if s < 6:\n",
    "        return 1\n",
    "    elif s < 12:\n",
    "        return 2\n",
    "    elif s < 18:\n",
    "        return 3\n",
    "    else:\n",
    "        return 4"
   ]
  },
  {
   "cell_type": "code",
   "execution_count": 23,
   "metadata": {},
   "outputs": [],
   "source": [
    "data['maphour'] = data['hour'].map(map_hour)\n",
    "data['mapmin'] = data['minute'] % 15 + 1"
   ]
  },
  {
   "cell_type": "code",
   "execution_count": 24,
   "metadata": {},
   "outputs": [],
   "source": [
    "data_item_category = data.item_category_list.str.split(';', expand=True).add_prefix('item_category_')\n",
    "\n",
    "for i in range(3):\n",
    "    data['item_category_'+str(i)] =  data_item_category['item_category_'+str(i)]     \n",
    "del data['item_category_0']\n",
    "data['item_category_1'] = data['item_category_1'].apply(int)\n",
    "data['item_category_2'].fillna(value=0, inplace=True)\n",
    "data['item_category_2'] = data['item_category_2'].apply(int)"
   ]
  },
  {
   "cell_type": "code",
   "execution_count": 25,
   "metadata": {},
   "outputs": [],
   "source": [
    "label = ['item_category_1',  'item_category_2', 'context_id',  'item_brand_id', 'item_city_id', 'item_id', 'user_id', 'shop_id']\n",
    "    \n",
    "short_label = ['context_page_id', 'shop_star_level', 'user_age_level', 'user_occupation_id', 'user_star_level']\n",
    "\n",
    "score_label = ['shop_score_service', 'shop_review_positive_rate', 'shop_score_delivery', 'shop_score_description']\n",
    "    \n",
    "for col in label:\n",
    "    col_encoder = LabelEncoder()\n",
    "    col_encoder.fit(data[col])\n",
    "    data[col] = col_encoder.transform(data[col])\n",
    "\n",
    "for col in short_label:\n",
    "    col_encoder = LabelEncoder()\n",
    "    col_encoder.fit(data[col])\n",
    "    data[col] = col_encoder.transform(data[col])\n",
    "\n",
    "for col in score_label:\n",
    "    data[col] = round(data[col], 3)"
   ]
  },
  {
   "cell_type": "code",
   "execution_count": 26,
   "metadata": {},
   "outputs": [],
   "source": [
    "path = './data/'\n",
    "# 写入\n",
    "len = train.shape[0]\n",
    "train_all = data[:len]\n",
    "test_all = data[len:]\n",
    "\n",
    "\n",
    "train_all.to_csv(path+'train_all.csv', index=False)\n",
    "test_all.to_csv(path+'test_all.csv', index=False)\n",
    "\n"
   ]
  },
  {
   "cell_type": "code",
   "execution_count": 27,
   "metadata": {},
   "outputs": [
    {
     "data": {
      "image/png": "[encoded data removed]",
      "text/plain": [
       "<Figure size 864x432 with 2 Axes>"
      ]
     },
     "metadata": {
      "needs_background": "light"
     },
     "output_type": "display_data"
    }
   ],
   "source": [
    "grouped_df = train_all.groupby([\"day\", \"hour\"])[\"is_trade\"].aggregate(\"mean\").reset_index()\n",
    "grouped_df = grouped_df.pivot('day', 'hour', 'is_trade')\n",
    "plt.figure(figsize=(12,6))\n",
    "sns.heatmap(grouped_df)\n",
    "plt.title(\"CVR of Day Vs Hour\")\n",
    "plt.show()"
   ]
  },
  {
   "cell_type": "code",
   "execution_count": 28,
   "metadata": {},
   "outputs": [],
   "source": [
    "# # 写文件\n",
    "# def write_xlsx(df,path, sheetName):\n",
    "#     writer = pd.ExcelWriter(path, engine='openpyxl',mode='a', if_sheet_exists=\"overlay\")\n",
    "#     df.to_excel(writer, sheet_name=sheetName)\n",
    "#     writer.close()\n",
    "# # 写入同一个文件三张表\n",
    "# path = '../data_all.xlsx'\n",
    "# pd.DataFrame().to_excel(path,sheet_name='total') # 先创建文件\n",
    "# write_xlsx(train,path,'train')\n",
    "# write_xlsx(test_a, path,'test_a')\n",
    "# write_xlsx(test_b,path,'test_b')"
   ]
  }
 ],
 "metadata": {
  "kernelspec": {
   "display_name": "base",
   "language": "python",
   "name": "python3"
  },
  "language_info": {
   "codemirror_mode": {
    "name": "ipython",
    "version": 3
   },
   "file_extension": ".py",
   "mimetype": "text/x-python",
   "name": "python",
   "nbconvert_exporter": "python",
   "pygments_lexer": "ipython3",
   "version": "3.8.13"
  },
  "orig_nbformat": 4
 },
 "nbformat": 4,
 "nbformat_minor": 2
}
