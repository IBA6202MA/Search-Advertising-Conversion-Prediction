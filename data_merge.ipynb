{
 "cells": [
  {
   "cell_type": "code",
   "execution_count": 2,
   "metadata": {},
   "outputs": [],
   "source": [
    "#coding:utf-8\n",
    "import pandas as pd\n",
    "import numpy as np\n",
    "import time\n",
    "import datetime\n",
    "import gc\n",
    "from sklearn.metrics import log_loss\n",
    "from sklearn.preprocessing import LabelEncoder,OneHotEncoder\n",
    "from scipy import sparse\n",
    "import warnings"
   ]
  },
  {
   "cell_type": "code",
   "execution_count": 3,
   "metadata": {},
   "outputs": [],
   "source": [
    "import warnings\n",
    "\n",
    "def ignore_warn(*args ,**kwargs):\n",
    "    pass\n",
    "warnings.warn = ignore_warn\n"
   ]
  },
  {
   "cell_type": "code",
   "execution_count": 4,
   "metadata": {},
   "outputs": [],
   "source": [
    "path = '/Users/apple/Desktop/data/'"
   ]
  },
  {
   "cell_type": "markdown",
   "metadata": {},
   "source": [
    "7天数据：特征合并： 基本特征、统计特征、时间差特征、分段特征、概率特征、其他特征"
   ]
  },
  {
   "cell_type": "code",
   "execution_count": 5,
   "metadata": {},
   "outputs": [
    {
     "name": "stdout",
     "output_type": "stream",
     "text": [
      "----------------101_wang_feat,all,7----------------------\n",
      "data:\n",
      " (28054, 87)\n"
     ]
    }
   ],
   "source": [
    "print('----------------101_wang_feat,all,7----------------------')\n",
    "data = pd.read_csv(path+\"101_wang_feat.csv\")\n",
    "print('data:\\n', data.shape)"
   ]
  },
  {
   "cell_type": "code",
   "execution_count": 6,
   "metadata": {},
   "outputs": [
    {
     "name": "stdout",
     "output_type": "stream",
     "text": [
      "----------------102_trick_feat,all,7---------------------\n",
      "102_trick_feat:\n",
      " (28054, 16)\n"
     ]
    },
    {
     "data": {
      "text/plain": [
       "0"
      ]
     },
     "execution_count": 6,
     "metadata": {},
     "output_type": "execute_result"
    }
   ],
   "source": [
    "print('----------------102_trick_feat,all,7---------------------')\n",
    "trick_feat = pd.read_csv(path+\"102_trick_feat.csv\")\n",
    "print('102_trick_feat:\\n', trick_feat.shape)\n",
    "data = data.merge(trick_feat, how='left', on='instance_id')\n",
    "del trick_feat\n",
    "gc.collect()"
   ]
  },
  {
   "cell_type": "code",
   "execution_count": 7,
   "metadata": {},
   "outputs": [
    {
     "name": "stdout",
     "output_type": "stream",
     "text": [
      "---------------103_statistics_feat,7 ---------------------\n",
      "103_statistics_feat:\n",
      " (28054, 13)\n"
     ]
    },
    {
     "data": {
      "text/plain": [
       "0"
      ]
     },
     "execution_count": 7,
     "metadata": {},
     "output_type": "execute_result"
    }
   ],
   "source": [
    "print('---------------103_statistics_feat,7 ---------------------')\n",
    "statistics_feat = pd.read_csv(path+\"103_statistics_feat.csv\")\n",
    "print('103_statistics_feat:\\n', statistics_feat.shape)\n",
    "data = data.merge(statistics_feat, how='left', on='instance_id')\n",
    "del statistics_feat\n",
    "gc.collect()"
   ]
  },
  {
   "cell_type": "code",
   "execution_count": 8,
   "metadata": {},
   "outputs": [
    {
     "name": "stdout",
     "output_type": "stream",
     "text": [
      "----------------201_meng_feat, all,7--------------------\n",
      "201_meng_feat:\n",
      " (28054, 82)\n"
     ]
    },
    {
     "data": {
      "text/plain": [
       "0"
      ]
     },
     "execution_count": 8,
     "metadata": {},
     "output_type": "execute_result"
    }
   ],
   "source": [
    "print('----------------201_meng_feat, all,7--------------------')\n",
    "meng_feat = pd.read_csv(path+\"201_meng_feat.csv\")\n",
    "print('201_meng_feat:\\n', meng_feat.shape)\n",
    "data = data.merge(meng_feat, how='left', on='instance_id')\n",
    "del meng_feat\n",
    "gc.collect()"
   ]
  },
  {
   "cell_type": "code",
   "execution_count": 9,
   "metadata": {},
   "outputs": [
    {
     "name": "stdout",
     "output_type": "stream",
     "text": [
      "------------301_timediff_last_next_feat,all,7---------------\n",
      "301_timediff_last_next_feat:\n",
      " (28054, 64)\n"
     ]
    },
    {
     "data": {
      "text/plain": [
       "0"
      ]
     },
     "execution_count": 9,
     "metadata": {},
     "output_type": "execute_result"
    }
   ],
   "source": [
    "print('------------301_timediff_last_next_feat,all,7---------------')\n",
    "timediff_last_next_feat = pd.read_csv(path+\"301_timediff_last_next_feat.csv\")\n",
    "print('301_timediff_last_next_feat:\\n', timediff_last_next_feat.shape)\n",
    "data = data.merge(timediff_last_next_feat, how='left', on='instance_id')\n",
    "del timediff_last_next_feat\n",
    "gc.collect()"
   ]
  },
  {
   "cell_type": "code",
   "execution_count": 10,
   "metadata": {},
   "outputs": [
    {
     "name": "stdout",
     "output_type": "stream",
     "text": [
      "--------------401_list_till_feat,all,7----------------------\n",
      "401_list_till_feat:\n",
      " (28054, 38)\n"
     ]
    },
    {
     "data": {
      "text/plain": [
       "0"
      ]
     },
     "execution_count": 10,
     "metadata": {},
     "output_type": "execute_result"
    }
   ],
   "source": [
    "print('--------------401_list_till_feat,all,7----------------------')\n",
    "list_till_feat = pd.read_csv(path+\"401_list_till_feat.csv\")\n",
    "print('401_list_till_feat:\\n', list_till_feat.shape)\n",
    "data = data.merge(list_till_feat, how='left', on='instance_id')\n",
    "del list_till_feat\n",
    "gc.collect()"
   ]
  },
  {
   "cell_type": "code",
   "execution_count": 11,
   "metadata": {},
   "outputs": [
    {
     "name": "stdout",
     "output_type": "stream",
     "text": [
      "最终维度: (28054, 295)\n"
     ]
    }
   ],
   "source": [
    "#  # the last feature, wd_feat\n",
    "# wide_deep_feat_online = pd.read_csv(\"wide_deep_feat_online.csv\")\n",
    "# data = data.merge(wide_deep_feat_online, how='left', on='instance_id')\n",
    "\n",
    "# # qunge satcking feature\n",
    "# stacking_lgbm = pd.read_csv(\"stacking_lgbm.csv\")\n",
    "# data = data.merge(stacking_lgbm, how='left', on='instance_id')\n",
    "\n",
    "print('最终维度:',data.shape)\n",
    "\n",
    "now = datetime.datetime.now()\n",
    "now = now.strftime('%m-%d-%H-%M')\n",
    "data.to_csv(path+\"rate_final_data_%s.csv\" % now, index=False)"
   ]
  },
  {
   "cell_type": "markdown",
   "metadata": {},
   "source": [
    "全部数据"
   ]
  },
  {
   "cell_type": "code",
   "execution_count": 12,
   "metadata": {},
   "outputs": [
    {
     "name": "stdout",
     "output_type": "stream",
     "text": [
      "----------------101_wang_feat,all,7----------------------\n",
      "data:\n",
      " (121617, 87)\n"
     ]
    }
   ],
   "source": [
    "print('----------------101_wang_feat,all,7----------------------')\n",
    "data = pd.read_csv(path+\"101_wang_feat_all.csv\")\n",
    "print('data:\\n', data.shape)"
   ]
  },
  {
   "cell_type": "code",
   "execution_count": 13,
   "metadata": {},
   "outputs": [
    {
     "name": "stdout",
     "output_type": "stream",
     "text": [
      "----------------102_trick_feat,all,7---------------------\n",
      "102_trick_feat:\n",
      " (121617, 17)\n"
     ]
    },
    {
     "data": {
      "text/plain": [
       "0"
      ]
     },
     "execution_count": 13,
     "metadata": {},
     "output_type": "execute_result"
    }
   ],
   "source": [
    "print('----------------102_trick_feat,all,7---------------------')\n",
    "trick_feat = pd.read_csv(path+\"102_trick_feat_all.csv\")\n",
    "print('102_trick_feat:\\n', trick_feat.shape)\n",
    "data = data.merge(trick_feat, how='left', on='instance_id')\n",
    "del trick_feat\n",
    "gc.collect()"
   ]
  },
  {
   "cell_type": "code",
   "execution_count": 10,
   "metadata": {},
   "outputs": [],
   "source": [
    "print('----------------201_meng_feat, all,7--------------------')\n",
    "meng_feat = pd.read_csv(path+\"201_meng_feat_all.csv\")\n",
    "print('201_meng_feat:\\n', meng_feat.shape)\n",
    "data = data.merge(meng_feat, how='left', on='instance_id')\n",
    "del meng_feat\n",
    "gc.collect()"
   ]
  },
  {
   "cell_type": "code",
   "execution_count": 14,
   "metadata": {},
   "outputs": [
    {
     "name": "stdout",
     "output_type": "stream",
     "text": [
      "------------301_timediff_last_next_feat,all,7---------------\n",
      "301_timediff_last_next_feat:\n",
      " (121617, 65)\n"
     ]
    },
    {
     "data": {
      "text/plain": [
       "0"
      ]
     },
     "execution_count": 14,
     "metadata": {},
     "output_type": "execute_result"
    }
   ],
   "source": [
    "print('------------301_timediff_last_next_feat,all,7---------------')\n",
    "timediff_last_next_feat = pd.read_csv(path+\"301_timediff_last_next_feat_all.csv\")\n",
    "print('301_timediff_last_next_feat:\\n', timediff_last_next_feat.shape)\n",
    "data = data.merge(timediff_last_next_feat, how='left', on='instance_id')\n",
    "del timediff_last_next_feat\n",
    "gc.collect()"
   ]
  },
  {
   "cell_type": "code",
   "execution_count": 15,
   "metadata": {},
   "outputs": [
    {
     "name": "stdout",
     "output_type": "stream",
     "text": [
      "--------------401_list_till_feat,all,7----------------------\n",
      "401_list_till_feat:\n",
      " (121617, 39)\n"
     ]
    },
    {
     "data": {
      "text/plain": [
       "0"
      ]
     },
     "execution_count": 15,
     "metadata": {},
     "output_type": "execute_result"
    }
   ],
   "source": [
    "print('--------------401_list_till_feat,all,7----------------------')\n",
    "list_till_feat = pd.read_csv(path+\"401_list_till_feat_all.csv\")\n",
    "print('401_list_till_feat:\\n', list_till_feat.shape)\n",
    "data = data.merge(list_till_feat, how='left', on='instance_id')\n",
    "del list_till_feat\n",
    "gc.collect()"
   ]
  },
  {
   "cell_type": "code",
   "execution_count": null,
   "metadata": {},
   "outputs": [],
   "source": [
    "print('最终维度:',data.shape)\n",
    "\n",
    "now = datetime.datetime.now()\n",
    "now = now.strftime('%m-%d-%H-%M')\n",
    "data.to_csv(path+\"all_final_data_%s.csv\" % now, index=False)"
   ]
  }
 ],
 "metadata": {
  "kernelspec": {
   "display_name": "base",
   "language": "python",
   "name": "python3"
  },
  "language_info": {
   "codemirror_mode": {
    "name": "ipython",
    "version": 3
   },
   "file_extension": ".py",
   "mimetype": "text/x-python",
   "name": "python",
   "nbconvert_exporter": "python",
   "pygments_lexer": "ipython3",
   "version": "3.8.13"
  },
  "orig_nbformat": 4
 },
 "nbformat": 4,
 "nbformat_minor": 2
}
