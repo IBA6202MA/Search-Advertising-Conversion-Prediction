{
 "cells": [
  {
   "cell_type": "code",
   "execution_count": 2,
   "metadata": {},
   "outputs": [],
   "source": [
    "import pandas as pd\n",
    "import numpy as np\n",
    "import time\n",
    "import datetime\n",
    "import gc\n",
    "from sklearn.preprocessing import LabelEncoder,OneHotEncoder\n",
    "\n",
    "import warnings\n",
    "def ignore_warn(*args ,**kwargs):\n",
    "    pass\n",
    "warnings.warn = ignore_warn"
   ]
  },
  {
   "cell_type": "code",
   "execution_count": 3,
   "metadata": {},
   "outputs": [],
   "source": [
    "path =  '/Users/apple/Desktop/data/'\n",
    "   \n",
    "train = pd.read_csv(path+'train_all.csv')\n",
    "test = pd.read_csv(path+'test_all.csv')\n",
    "data = pd.concat([train, test])\n"
   ]
  },
  {
   "cell_type": "code",
   "execution_count": 19,
   "metadata": {},
   "outputs": [],
   "source": [
    "# 商品的曝光时间，计算每个商品在每个小时的广告时间里出现的次数\n",
    "exp_hour = data.groupby(['item_id', 'hour']).instance_id.nunique().to_frame()\n",
    "exp_hour.columns = ['item_hour_cnt']\n",
    "exp_hour = exp_hour.reset_index()\n",
    "exp_hour['item_hour_cnt_ratio'] = round(exp_hour.item_hour_cnt / exp_hour.groupby('item_id').item_hour_cnt.transform(np.sum), 5)\n",
    "exp_hour = exp_hour[['item_id', 'hour', 'item_hour_cnt_ratio']]\n",
    "data = data.merge(exp_hour, how='left', on=['item_id', 'hour'])"
   ]
  },
  {
   "cell_type": "code",
   "execution_count": 20,
   "metadata": {},
   "outputs": [],
   "source": [
    " # 商品分时间段曝光比例，得到每个item_id在每个时间段实例数量占比\n",
    "exp_tz = data.groupby(['item_id', 'maphour']).instance_id.nunique().to_frame()\n",
    "exp_tz.columns = ['item_maphour_cnt']\n",
    "exp_tz = exp_tz.reset_index()\n",
    "exp_tz['item_maphour_cnt_ratio'] = round(exp_tz.item_maphour_cnt / exp_tz.groupby('item_id').item_maphour_cnt.transform(np.sum), 5)\n",
    "exp_tz = exp_tz[['item_id', 'maphour', 'item_maphour_cnt_ratio']]\n",
    "data = data.merge(exp_tz, how='left', on=['item_id', 'maphour'])"
   ]
  },
  {
   "cell_type": "code",
   "execution_count": 21,
   "metadata": {},
   "outputs": [],
   "source": [
    "# 用户id每小时曝光数，得到每个user_id在每个hour的实例数量占比\n",
    "exp_hour = data.groupby(['user_id', 'hour']).instance_id.nunique().to_frame()\n",
    "exp_hour.columns = ['user_hour_cnt']\n",
    "exp_hour = exp_hour.reset_index()\n",
    "exp_hour['user_hour_cnt_ratio'] = round(exp_hour.user_hour_cnt / exp_hour.groupby('user_id').user_hour_cnt.transform(np.sum), 5)\n",
    "exp_hour = exp_hour[['user_id', 'hour', 'user_hour_cnt_ratio']]\n",
    "data = data.merge(exp_hour, how='left', on=['user_id', 'hour'])"
   ]
  },
  {
   "cell_type": "code",
   "execution_count": 22,
   "metadata": {},
   "outputs": [
    {
     "data": {
      "text/plain": [
       "2922"
      ]
     },
     "execution_count": 22,
     "metadata": {},
     "output_type": "execute_result"
    }
   ],
   "source": [
    "# 每个user_id在每个时间段的实例数量\n",
    "exp_tz = data.groupby(['user_id', 'maphour']).instance_id.nunique().to_frame()\n",
    "exp_tz.columns = ['user_maphour_cnt']\n",
    "exp_tz = exp_tz.reset_index()\n",
    "exp_tz['user_maphour_cnt_ratio'] = round(exp_tz.user_maphour_cnt / exp_tz.groupby('user_id').user_maphour_cnt.transform(np.sum), 5)\n",
    "exp_tz = exp_tz[['user_id', 'maphour', 'user_maphour_cnt_ratio']]\n",
    "data = data.merge(exp_tz, how='left', on=['user_id', 'maphour'])\n",
    "gc.collect() #垃圾回收机制"
   ]
  },
  {
   "cell_type": "code",
   "execution_count": 23,
   "metadata": {},
   "outputs": [],
   "source": [
    "#user_id和context_timestamp进行分组，并统计每个分组中的不重复的数量\n",
    "add = pd.DataFrame(data.groupby([\"user_id\", \"context_timestamp\"]).instance_id.nunique()).reset_index()\n",
    "add.columns = [\"user_id\", \"context_timestamp\", \"same_time_expo_cnt\"]\n",
    "data = data.merge(add, on=[\"user_id\", \"context_timestamp\"], how=\"left\")"
   ]
  },
  {
   "cell_type": "code",
   "execution_count": 24,
   "metadata": {},
   "outputs": [],
   "source": [
    "# 小时均值特征\n",
    "grouped = data.groupby('user_id')['hour'].mean().reset_index()\n",
    "grouped.columns = ['user_id', 'user_mean_hour']\n",
    "data = data.merge(grouped, how='left', on='user_id')\n",
    "grouped = data.groupby('item_id')['hour'].mean().reset_index()\n",
    "grouped.columns = ['item_id', 'item_mean_hour']\n",
    "data = data.merge(grouped, how='left', on='item_id')\n",
    "grouped = data.groupby('item_brand_id')['hour'].mean().reset_index()\n",
    "grouped.columns = ['item_brand_id', 'brand_mean_hour']\n",
    "data = data.merge(grouped, how='left', on='item_brand_id')\n",
    "grouped = data.groupby('shop_id')['hour'].mean().reset_index()\n",
    "grouped.columns = ['shop_id', 'shop_mean_hour']\n",
    "data = data.merge(grouped, how='left', on='shop_id')"
   ]
  },
  {
   "cell_type": "code",
   "execution_count": 25,
   "metadata": {},
   "outputs": [],
   "source": [
    "# 年龄均值特征\n",
    "grouped = data.groupby('user_id')['user_age_level'].mean().reset_index()\n",
    "grouped.columns = ['user_id', 'user_mean_age']\n",
    "data = data.merge(grouped, how='left', on='user_id')\n",
    "grouped = data.groupby('item_id')['user_age_level'].mean().reset_index()\n",
    "grouped.columns = ['item_id', 'item_mean_age']\n",
    "data = data.merge(grouped, how='left', on='item_id')\n",
    "grouped = data.groupby('item_brand_id')['user_age_level'].mean().reset_index()\n",
    "grouped.columns = ['item_brand_id', 'brand_mean_age']\n",
    "data = data.merge(grouped, how='left', on='item_brand_id')\n",
    "grouped = data.groupby('shop_id')['user_age_level'].mean().reset_index()\n",
    "grouped.columns = ['shop_id', 'shop_mean_age']\n",
    "data = data.merge(grouped, how='left', on='shop_id')"
   ]
  },
  {
   "cell_type": "code",
   "execution_count": 26,
   "metadata": {},
   "outputs": [],
   "source": [
    " #小时特征,每个用户计算活动\n",
    "add = pd.DataFrame(data.groupby([\"user_id\"]).hour.nunique()).reset_index()\n",
    "add.columns = [\"user_id\", \"user_active_hour\"]\n",
    "data = data.merge(add, on=[\"user_id\"], how=\"left\")"
   ]
  },
  {
   "cell_type": "code",
   "execution_count": 27,
   "metadata": {},
   "outputs": [],
   "source": [
    " # 活跃item_id数特征\n",
    "add = pd.DataFrame(data.groupby([\"item_category_list\", \"day\"]).item_id.nunique()).reset_index()\n",
    "add.columns = [\"item_category_list\", \"day\", \"category_day_active_item\"]\n",
    "data = data.merge(add, on=[\"item_category_list\", \"day\"], how=\"left\")"
   ]
  },
  {
   "cell_type": "code",
   "execution_count": 28,
   "metadata": {},
   "outputs": [],
   "source": [
    "# 活跃city数特征\n",
    "add = pd.DataFrame(data.groupby([\"user_id\", \"day\"]).item_city_id.nunique()).reset_index()\n",
    "add.columns = [\"user_id\", \"day\", \"user_day_active_city\"]\n",
    "data = data.merge(add, on=[\"user_id\", \"day\"], how=\"left\")"
   ]
  },
  {
   "cell_type": "code",
   "execution_count": 29,
   "metadata": {},
   "outputs": [],
   "source": [
    "#活跃user数特征\n",
    "add = pd.DataFrame(data.groupby([\"item_id\", \"day\"]).user_id.nunique()).reset_index()\n",
    "add.columns = [\"item_id\", \"day\", \"item_day_active_user\"]\n",
    "data = data.merge(add, on=[\"item_id\", \"day\"], how=\"left\")\n",
    "add = pd.DataFrame(data.groupby([\"shop_id\", \"day\"]).user_id.nunique()).reset_index()\n",
    "add.columns = [\"shop_id\", \"day\", \"shop_day_active_user\"]\n",
    "data = data.merge(add, on=[\"shop_id\", \"day\"], how=\"left\")\n",
    "add = pd.DataFrame(data.groupby([\"item_brand_id\", \"day\"]).user_id.nunique()).reset_index()\n",
    "add.columns = [\"item_brand_id\", \"day\", \"brand_day_active_user\"]\n",
    "data = data.merge(add, on=[\"item_brand_id\", \"day\"], how=\"left\")\n",
    "add = pd.DataFrame(data.groupby([\"item_category_list\", \"day\"]).user_id.nunique()).reset_index()\n",
    "add.columns = [\"item_category_list\", \"day\", \"category_day_active_user\"]\n",
    "data = data.merge(add, on=[\"item_category_list\", \"day\"], how=\"left\")\n",
    "\n",
    "\n",
    "add = pd.DataFrame(data.groupby([\"item_id\", \"day\", \"hour\"]).user_id.nunique()).reset_index()\n",
    "add.columns = [\"item_id\", \"day\", \"hour\", \"item_hour_active_user\"]\n",
    "data = data.merge(add, on=[\"item_id\", \"day\", \"hour\"], how=\"left\")\n",
    "add = pd.DataFrame(data.groupby([\"shop_id\", \"day\", \"hour\"]).user_id.nunique()).reset_index()\n",
    "add.columns = [\"shop_id\", \"day\", \"hour\", \"shop_hour_active_user\"]\n",
    "data = data.merge(add, on=[\"shop_id\", \"day\", \"hour\"], how=\"left\")\n"
   ]
  },
  {
   "cell_type": "code",
   "execution_count": 30,
   "metadata": {},
   "outputs": [],
   "source": [
    "# 活跃shop数特征\n",
    "add = pd.DataFrame(data.groupby([\"user_id\", \"day\"]).shop_id.nunique()).reset_index()\n",
    "add.columns = [\"user_id\", \"day\", \"user_day_active_shop\"]\n",
    "data = data.merge(add, on=[\"user_id\", \"day\"], how=\"left\")\n",
    "\n",
    "# 活跃brand数特征 \n",
    "add = pd.DataFrame(data.groupby([\"user_id\", \"day\"]).item_brand_id.nunique()).reset_index()\n",
    "add.columns = [\"user_id\", \"day\", \"user_day_active_brand\"]\n",
    "data = data.merge(add, on=[\"user_id\", \"day\"], how=\"left\")\n",
    "\n",
    "add = pd.DataFrame(data.groupby([\"user_id\", \"day\", \"hour\"]).item_brand_id.nunique()).reset_index()\n",
    "add.columns = [\"user_id\", \"day\", \"hour\", \"user_hour_active_brand\"]\n",
    "data = data.merge(add, on=[\"user_id\", \"day\", \"hour\"], how=\"left\")"
   ]
  },
  {
   "cell_type": "code",
   "execution_count": 31,
   "metadata": {},
   "outputs": [],
   "source": [
    "# shop_id仅求均值全局\n",
    "data_shop_item = data[['shop_id', 'item_price_level', 'item_sales_level', 'item_collected_level', 'item_pv_level']]\n",
    "data_shop_item.columns = ['shop_id', 'mean_item_price_level', 'mean_item_sales_level', 'mean_item_collected_level', 'mean_item_pv_level']\n",
    "shop_item = data_shop_item.groupby(['shop_id']).mean().reset_index()\n",
    "data = pd.merge(data, shop_item, 'left', on='shop_id')\n",
    "del data_shop_item\n",
    "del shop_item\n",
    "\n",
    "for colname in ['item_category_list', 'item_brand_id', 'item_city_id']:\n",
    "    gc.collect()\n",
    "    grouped = data.groupby([colname])\n",
    "    meancols = ['item_price_level', 'item_sales_level', 'item_collected_level', 'item_pv_level']\n",
    "    data_g = grouped[meancols].mean().reset_index()\n",
    "    colnames = [i for i in data_g.columns]\n",
    "    for i in range(len(colnames)):\n",
    "        if colnames[i] != colname:\n",
    "            colnames[i] += '_mean_by_'+colname.split('_')[1]\n",
    "    data_g.columns = colnames\n",
    "    data=pd.merge(data, data_g, how='left', on=colname)\n",
    "    colnames = colnames[1:]\n",
    "    for i in range(len(colnames)):\n",
    "        data[colnames[i]+'_ratio'] = round((data[meancols[i]]/data[colnames[i]]), 5)\n"
   ]
  },
  {
   "cell_type": "code",
   "execution_count": 32,
   "metadata": {},
   "outputs": [
    {
     "name": "stdout",
     "output_type": "stream",
     "text": [
      "经过处理后,全部训练集最终维度: (121617, 87)\n",
      "7号训练集,最终维度: (28054, 87)\n",
      "['instance_id', 'item_id', 'item_property_list', 'item_brand_id', 'item_city_id', 'item_price_level', 'item_sales_level', 'item_collected_level', 'item_pv_level', 'user_id', 'user_gender_id', 'user_age_level', 'user_occupation_id', 'user_star_level', 'context_id', 'context_timestamp', 'context_page_id', 'predict_category_property', 'shop_id', 'shop_review_num_level', 'shop_review_positive_rate', 'shop_star_level', 'shop_score_service', 'shop_score_delivery', 'shop_score_description', 'is_trade', 'time', 'day', 'hour', 'minute', 'maphour', 'mapmin', 'item_category_1', 'item_category_2', 'item_hour_cnt_ratio', 'item_maphour_cnt_ratio', 'user_hour_cnt_ratio', 'user_maphour_cnt_ratio', 'same_time_expo_cnt', 'user_mean_hour', 'item_mean_hour', 'brand_mean_hour', 'shop_mean_hour', 'user_mean_age', 'item_mean_age', 'brand_mean_age', 'shop_mean_age', 'user_active_hour', 'category_day_active_item', 'user_day_active_city', 'item_day_active_user', 'shop_day_active_user', 'brand_day_active_user', 'category_day_active_user', 'item_hour_active_user', 'shop_hour_active_user', 'user_day_active_shop', 'user_day_active_brand', 'user_hour_active_brand', 'mean_item_price_level', 'mean_item_sales_level', 'mean_item_collected_level', 'mean_item_pv_level', 'item_price_level_mean_by_category', 'item_sales_level_mean_by_category', 'item_collected_level_mean_by_category', 'item_pv_level_mean_by_category', 'item_price_level_mean_by_category_ratio', 'item_sales_level_mean_by_category_ratio', 'item_collected_level_mean_by_category_ratio', 'item_pv_level_mean_by_category_ratio', 'item_price_level_mean_by_brand', 'item_sales_level_mean_by_brand', 'item_collected_level_mean_by_brand', 'item_pv_level_mean_by_brand', 'item_price_level_mean_by_brand_ratio', 'item_sales_level_mean_by_brand_ratio', 'item_collected_level_mean_by_brand_ratio', 'item_pv_level_mean_by_brand_ratio', 'item_price_level_mean_by_city', 'item_sales_level_mean_by_city', 'item_collected_level_mean_by_city', 'item_pv_level_mean_by_city', 'item_price_level_mean_by_city_ratio', 'item_sales_level_mean_by_city_ratio', 'item_collected_level_mean_by_city_ratio', 'item_pv_level_mean_by_city_ratio']\n"
     ]
    }
   ],
   "source": [
    " ############挖掘新的特征###########\n",
    "del data['item_category_list']\n",
    "gc.collect()\n",
    "\n",
    "# 得到全部训练集\n",
    "print('经过处理后,全部训练集最终维度:', data.shape)\n",
    "data.to_csv(path+'02_newfeature_result_all.csv', index=False)\n",
    "\n",
    "# 得到7号训练集\n",
    "data = data.loc[data.day==7]\n",
    "print('7号训练集,最终维度:', data.shape)\n",
    "print(data.columns.tolist())\n",
    "data.to_csv(path+'02_newfeature_result_day7.csv', index=False)"
   ]
  }
 ],
 "metadata": {
  "kernelspec": {
   "display_name": "base",
   "language": "python",
   "name": "python3"
  },
  "language_info": {
   "codemirror_mode": {
    "name": "ipython",
    "version": 3
   },
   "file_extension": ".py",
   "mimetype": "text/x-python",
   "name": "python",
   "nbconvert_exporter": "python",
   "pygments_lexer": "ipython3",
   "version": "3.8.13"
  },
  "orig_nbformat": 4
 },
 "nbformat": 4,
 "nbformat_minor": 2
}
