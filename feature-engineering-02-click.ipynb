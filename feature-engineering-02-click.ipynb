{
 "cells": [
  {
   "cell_type": "code",
   "execution_count": 42,
   "id": "8232d448",
   "metadata": {},
   "outputs": [],
   "source": [
    "import numpy as np\n",
    "import pandas as pd\n",
    "import gc"
   ]
  },
  {
   "cell_type": "markdown",
   "id": "8163a97a",
   "metadata": {},
   "source": [
    "# 读取数据"
   ]
  },
  {
   "cell_type": "code",
   "execution_count": 2,
   "id": "708ff92b",
   "metadata": {},
   "outputs": [],
   "source": [
    "path = './data/'\n",
    "    \n",
    "train = pd.read_csv(path+'train_all.csv')\n",
    "test = pd.read_csv(path+'test_all.csv')"
   ]
  },
  {
   "cell_type": "code",
   "execution_count": 4,
   "id": "a086e9fe",
   "metadata": {},
   "outputs": [
    {
     "data": {
      "text/plain": [
       "Index(['instance_id', 'item_id', 'item_category_list', 'item_property_list',\n",
       "       'item_brand_id', 'item_city_id', 'item_price_level', 'item_sales_level',\n",
       "       'item_collected_level', 'item_pv_level', 'user_id', 'user_gender_id',\n",
       "       'user_age_level', 'user_occupation_id', 'user_star_level', 'context_id',\n",
       "       'context_timestamp', 'context_page_id', 'predict_category_property',\n",
       "       'shop_id', 'shop_review_num_level', 'shop_review_positive_rate',\n",
       "       'shop_star_level', 'shop_score_service', 'shop_score_delivery',\n",
       "       'shop_score_description', 'is_trade', 'time', 'day', 'hour', 'minute',\n",
       "       'maphour', 'mapmin', 'item_category_1', 'item_category_2'],\n",
       "      dtype='object')"
      ]
     },
     "execution_count": 4,
     "metadata": {},
     "output_type": "execute_result"
    }
   ],
   "source": [
    "train.columns"
   ]
  },
  {
   "cell_type": "code",
   "execution_count": 5,
   "id": "444f7b0b",
   "metadata": {},
   "outputs": [
    {
     "data": {
      "text/plain": [
       "35"
      ]
     },
     "execution_count": 5,
     "metadata": {},
     "output_type": "execute_result"
    }
   ],
   "source": [
    "len(train.columns)"
   ]
  },
  {
   "cell_type": "code",
   "execution_count": 6,
   "id": "d1509b9b",
   "metadata": {},
   "outputs": [
    {
     "data": {
      "text/plain": [
       "Index(['instance_id', 'item_id', 'item_category_list', 'item_property_list',\n",
       "       'item_brand_id', 'item_city_id', 'item_price_level', 'item_sales_level',\n",
       "       'item_collected_level', 'item_pv_level', 'user_id', 'user_gender_id',\n",
       "       'user_age_level', 'user_occupation_id', 'user_star_level', 'context_id',\n",
       "       'context_timestamp', 'context_page_id', 'predict_category_property',\n",
       "       'shop_id', 'shop_review_num_level', 'shop_review_positive_rate',\n",
       "       'shop_star_level', 'shop_score_service', 'shop_score_delivery',\n",
       "       'shop_score_description', 'is_trade', 'time', 'day', 'hour', 'minute',\n",
       "       'maphour', 'mapmin', 'item_category_1', 'item_category_2'],\n",
       "      dtype='object')"
      ]
     },
     "execution_count": 6,
     "metadata": {},
     "output_type": "execute_result"
    }
   ],
   "source": [
    "test.columns"
   ]
  },
  {
   "cell_type": "code",
   "execution_count": 7,
   "id": "9d9ea083",
   "metadata": {},
   "outputs": [
    {
     "data": {
      "text/html": [
       "<div>\n",
       "<style scoped>\n",
       "    .dataframe tbody tr th:only-of-type {\n",
       "        vertical-align: middle;\n",
       "    }\n",
       "\n",
       "    .dataframe tbody tr th {\n",
       "        vertical-align: top;\n",
       "    }\n",
       "\n",
       "    .dataframe thead th {\n",
       "        text-align: right;\n",
       "    }\n",
       "</style>\n",
       "<table border=\"1\" class=\"dataframe\">\n",
       "  <thead>\n",
       "    <tr style=\"text-align: right;\">\n",
       "      <th></th>\n",
       "      <th>instance_id</th>\n",
       "      <th>item_id</th>\n",
       "      <th>item_category_list</th>\n",
       "      <th>item_property_list</th>\n",
       "      <th>item_brand_id</th>\n",
       "      <th>item_city_id</th>\n",
       "      <th>item_price_level</th>\n",
       "      <th>item_sales_level</th>\n",
       "      <th>item_collected_level</th>\n",
       "      <th>item_pv_level</th>\n",
       "      <th>...</th>\n",
       "      <th>shop_score_description</th>\n",
       "      <th>is_trade</th>\n",
       "      <th>time</th>\n",
       "      <th>day</th>\n",
       "      <th>hour</th>\n",
       "      <th>minute</th>\n",
       "      <th>maphour</th>\n",
       "      <th>mapmin</th>\n",
       "      <th>item_category_1</th>\n",
       "      <th>item_category_2</th>\n",
       "    </tr>\n",
       "  </thead>\n",
       "  <tbody>\n",
       "    <tr>\n",
       "      <th>0</th>\n",
       "      <td>7548377597191725106</td>\n",
       "      <td>9406</td>\n",
       "      <td>836752724084922533;3613783563199627217;1495388...</td>\n",
       "      <td>6241534230954727302;367082587220462692;2072967...</td>\n",
       "      <td>4492</td>\n",
       "      <td>84</td>\n",
       "      <td>8</td>\n",
       "      <td>11</td>\n",
       "      <td>11</td>\n",
       "      <td>17</td>\n",
       "      <td>...</td>\n",
       "      <td>0.978</td>\n",
       "      <td>0.0</td>\n",
       "      <td>2018-09-03 19:13:02</td>\n",
       "      <td>3</td>\n",
       "      <td>19</td>\n",
       "      <td>13</td>\n",
       "      <td>4</td>\n",
       "      <td>14</td>\n",
       "      <td>16</td>\n",
       "      <td>8</td>\n",
       "    </tr>\n",
       "    <tr>\n",
       "      <th>1</th>\n",
       "      <td>5975219932893529301</td>\n",
       "      <td>8719</td>\n",
       "      <td>836752724084922533;5685690139879409547;7497531...</td>\n",
       "      <td>6241534230954727302;5131280576272319091;263639...</td>\n",
       "      <td>2821</td>\n",
       "      <td>111</td>\n",
       "      <td>7</td>\n",
       "      <td>9</td>\n",
       "      <td>13</td>\n",
       "      <td>16</td>\n",
       "      <td>...</td>\n",
       "      <td>0.969</td>\n",
       "      <td>0.0</td>\n",
       "      <td>2018-09-06 12:09:32</td>\n",
       "      <td>6</td>\n",
       "      <td>12</td>\n",
       "      <td>9</td>\n",
       "      <td>3</td>\n",
       "      <td>10</td>\n",
       "      <td>19</td>\n",
       "      <td>44</td>\n",
       "    </tr>\n",
       "    <tr>\n",
       "      <th>2</th>\n",
       "      <td>7640080258618597885</td>\n",
       "      <td>917</td>\n",
       "      <td>836752724084922533;3613783563199627217;1036082...</td>\n",
       "      <td>5977512434884267894;2636395404473730413;314574...</td>\n",
       "      <td>3812</td>\n",
       "      <td>111</td>\n",
       "      <td>5</td>\n",
       "      <td>10</td>\n",
       "      <td>13</td>\n",
       "      <td>16</td>\n",
       "      <td>...</td>\n",
       "      <td>0.952</td>\n",
       "      <td>0.0</td>\n",
       "      <td>2018-09-03 21:53:39</td>\n",
       "      <td>3</td>\n",
       "      <td>21</td>\n",
       "      <td>53</td>\n",
       "      <td>4</td>\n",
       "      <td>9</td>\n",
       "      <td>16</td>\n",
       "      <td>4</td>\n",
       "    </tr>\n",
       "    <tr>\n",
       "      <th>3</th>\n",
       "      <td>3961824130940365274</td>\n",
       "      <td>6764</td>\n",
       "      <td>836752724084922533;1852600517265062354</td>\n",
       "      <td>6241534230954727302;367082587220462692;2072967...</td>\n",
       "      <td>2121</td>\n",
       "      <td>2</td>\n",
       "      <td>7</td>\n",
       "      <td>9</td>\n",
       "      <td>10</td>\n",
       "      <td>18</td>\n",
       "      <td>...</td>\n",
       "      <td>0.985</td>\n",
       "      <td>0.0</td>\n",
       "      <td>2018-08-31 15:25:51</td>\n",
       "      <td>31</td>\n",
       "      <td>15</td>\n",
       "      <td>25</td>\n",
       "      <td>3</td>\n",
       "      <td>11</td>\n",
       "      <td>7</td>\n",
       "      <td>0</td>\n",
       "    </tr>\n",
       "    <tr>\n",
       "      <th>4</th>\n",
       "      <td>9169996568220897747</td>\n",
       "      <td>489</td>\n",
       "      <td>836752724084922533;4911723539855588624</td>\n",
       "      <td>6241534230954727302;367082587220462692;5131280...</td>\n",
       "      <td>3474</td>\n",
       "      <td>111</td>\n",
       "      <td>7</td>\n",
       "      <td>11</td>\n",
       "      <td>12</td>\n",
       "      <td>19</td>\n",
       "      <td>...</td>\n",
       "      <td>0.956</td>\n",
       "      <td>1.0</td>\n",
       "      <td>2018-09-01 18:18:47</td>\n",
       "      <td>1</td>\n",
       "      <td>18</td>\n",
       "      <td>18</td>\n",
       "      <td>4</td>\n",
       "      <td>4</td>\n",
       "      <td>17</td>\n",
       "      <td>0</td>\n",
       "    </tr>\n",
       "  </tbody>\n",
       "</table>\n",
       "<p>5 rows × 35 columns</p>\n",
       "</div>"
      ],
      "text/plain": [
       "           instance_id  item_id  \\\n",
       "0  7548377597191725106     9406   \n",
       "1  5975219932893529301     8719   \n",
       "2  7640080258618597885      917   \n",
       "3  3961824130940365274     6764   \n",
       "4  9169996568220897747      489   \n",
       "\n",
       "                                  item_category_list  \\\n",
       "0  836752724084922533;3613783563199627217;1495388...   \n",
       "1  836752724084922533;5685690139879409547;7497531...   \n",
       "2  836752724084922533;3613783563199627217;1036082...   \n",
       "3             836752724084922533;1852600517265062354   \n",
       "4             836752724084922533;4911723539855588624   \n",
       "\n",
       "                                  item_property_list  item_brand_id  \\\n",
       "0  6241534230954727302;367082587220462692;2072967...           4492   \n",
       "1  6241534230954727302;5131280576272319091;263639...           2821   \n",
       "2  5977512434884267894;2636395404473730413;314574...           3812   \n",
       "3  6241534230954727302;367082587220462692;2072967...           2121   \n",
       "4  6241534230954727302;367082587220462692;5131280...           3474   \n",
       "\n",
       "   item_city_id  item_price_level  item_sales_level  item_collected_level  \\\n",
       "0            84                 8                11                    11   \n",
       "1           111                 7                 9                    13   \n",
       "2           111                 5                10                    13   \n",
       "3             2                 7                 9                    10   \n",
       "4           111                 7                11                    12   \n",
       "\n",
       "   item_pv_level  ...  shop_score_description  is_trade                 time  \\\n",
       "0             17  ...                   0.978       0.0  2018-09-03 19:13:02   \n",
       "1             16  ...                   0.969       0.0  2018-09-06 12:09:32   \n",
       "2             16  ...                   0.952       0.0  2018-09-03 21:53:39   \n",
       "3             18  ...                   0.985       0.0  2018-08-31 15:25:51   \n",
       "4             19  ...                   0.956       1.0  2018-09-01 18:18:47   \n",
       "\n",
       "   day  hour  minute  maphour  mapmin item_category_1  item_category_2  \n",
       "0    3    19      13        4      14              16                8  \n",
       "1    6    12       9        3      10              19               44  \n",
       "2    3    21      53        4       9              16                4  \n",
       "3   31    15      25        3      11               7                0  \n",
       "4    1    18      18        4       4              17                0  \n",
       "\n",
       "[5 rows x 35 columns]"
      ]
     },
     "execution_count": 7,
     "metadata": {},
     "output_type": "execute_result"
    }
   ],
   "source": [
    "train.head(5)"
   ]
  },
  {
   "cell_type": "code",
   "execution_count": 8,
   "id": "43105df5",
   "metadata": {},
   "outputs": [
    {
     "data": {
      "text/plain": [
       "instance_id                    int64\n",
       "item_id                        int64\n",
       "item_category_list            object\n",
       "item_property_list            object\n",
       "item_brand_id                  int64\n",
       "item_city_id                   int64\n",
       "item_price_level               int64\n",
       "item_sales_level               int64\n",
       "item_collected_level           int64\n",
       "item_pv_level                  int64\n",
       "user_id                        int64\n",
       "user_gender_id                 int64\n",
       "user_age_level                 int64\n",
       "user_occupation_id             int64\n",
       "user_star_level                int64\n",
       "context_id                     int64\n",
       "context_timestamp              int64\n",
       "context_page_id                int64\n",
       "predict_category_property     object\n",
       "shop_id                        int64\n",
       "shop_review_num_level          int64\n",
       "shop_review_positive_rate    float64\n",
       "shop_star_level                int64\n",
       "shop_score_service           float64\n",
       "shop_score_delivery          float64\n",
       "shop_score_description       float64\n",
       "is_trade                     float64\n",
       "time                          object\n",
       "day                            int64\n",
       "hour                           int64\n",
       "minute                         int64\n",
       "maphour                        int64\n",
       "mapmin                         int64\n",
       "item_category_1                int64\n",
       "item_category_2                int64\n",
       "dtype: object"
      ]
     },
     "execution_count": 8,
     "metadata": {},
     "output_type": "execute_result"
    }
   ],
   "source": [
    "train.dtypes"
   ]
  },
  {
   "cell_type": "markdown",
   "id": "fe199062",
   "metadata": {},
   "source": [
    "# 合并数据"
   ]
  },
  {
   "cell_type": "code",
   "execution_count": 9,
   "id": "4b3ee798",
   "metadata": {},
   "outputs": [
    {
     "name": "stderr",
     "output_type": "stream",
     "text": [
      "C:\\Users\\HP\\AppData\\Local\\Temp\\ipykernel_16604\\447752923.py:1: FutureWarning: The frame.append method is deprecated and will be removed from pandas in a future version. Use pandas.concat instead.\n",
      "  data = train.append(test, ignore_index=True)\n"
     ]
    }
   ],
   "source": [
    "data = train.append(test, ignore_index=True)"
   ]
  },
  {
   "cell_type": "code",
   "execution_count": 11,
   "id": "111253d5",
   "metadata": {},
   "outputs": [
    {
     "data": {
      "text/plain": [
       "(121617, 35)"
      ]
     },
     "execution_count": 11,
     "metadata": {},
     "output_type": "execute_result"
    }
   ],
   "source": [
    "data.shape"
   ]
  },
  {
   "cell_type": "markdown",
   "id": "f1eb821e",
   "metadata": {},
   "source": [
    "# 移除['instance_id', 'day']特征"
   ]
  },
  {
   "cell_type": "code",
   "execution_count": 14,
   "id": "f4325f1f",
   "metadata": {},
   "outputs": [],
   "source": [
    "def pre_process(data):\n",
    "\n",
    "    cols = data.columns.tolist()\n",
    "    keys = ['instance_id', 'day']\n",
    "    for k in keys:\n",
    "        cols.remove(k)\n",
    "\n",
    "    return data, cols"
   ]
  },
  {
   "cell_type": "code",
   "execution_count": 15,
   "id": "7b72a431",
   "metadata": {},
   "outputs": [],
   "source": [
    "data, cols = pre_process(data)"
   ]
  },
  {
   "cell_type": "code",
   "execution_count": 19,
   "id": "709e70f3",
   "metadata": {},
   "outputs": [
    {
     "data": {
      "text/plain": [
       "(121617, 35)"
      ]
     },
     "execution_count": 19,
     "metadata": {},
     "output_type": "execute_result"
    }
   ],
   "source": [
    "data.shape"
   ]
  },
  {
   "cell_type": "code",
   "execution_count": 21,
   "id": "f8b59aac",
   "metadata": {},
   "outputs": [
    {
     "data": {
      "text/plain": [
       "['item_id',\n",
       " 'item_category_list',\n",
       " 'item_property_list',\n",
       " 'item_brand_id',\n",
       " 'item_city_id',\n",
       " 'item_price_level',\n",
       " 'item_sales_level',\n",
       " 'item_collected_level',\n",
       " 'item_pv_level',\n",
       " 'user_id',\n",
       " 'user_gender_id',\n",
       " 'user_age_level',\n",
       " 'user_occupation_id',\n",
       " 'user_star_level',\n",
       " 'context_id',\n",
       " 'context_timestamp',\n",
       " 'context_page_id',\n",
       " 'predict_category_property',\n",
       " 'shop_id',\n",
       " 'shop_review_num_level',\n",
       " 'shop_review_positive_rate',\n",
       " 'shop_star_level',\n",
       " 'shop_score_service',\n",
       " 'shop_score_delivery',\n",
       " 'shop_score_description',\n",
       " 'is_trade',\n",
       " 'time',\n",
       " 'hour',\n",
       " 'minute',\n",
       " 'maphour',\n",
       " 'mapmin',\n",
       " 'item_category_1',\n",
       " 'item_category_2']"
      ]
     },
     "execution_count": 21,
     "metadata": {},
     "output_type": "execute_result"
    }
   ],
   "source": [
    "cols"
   ]
  },
  {
   "cell_type": "markdown",
   "id": "a870b1f2",
   "metadata": {},
   "source": [
    "# 新特征：点击首次、末次"
   ]
  },
  {
   "cell_type": "markdown",
   "id": "d7596b95",
   "metadata": {},
   "source": [
    "## 点击特征：1、2、3:第一次点击，中间点击，最后一次点击"
   ]
  },
  {
   "cell_type": "code",
   "execution_count": 22,
   "id": "30d2a266",
   "metadata": {},
   "outputs": [],
   "source": [
    "# 按照'user_id', 'context_timestamp'排序\n",
    "data.sort_values(['user_id', 'context_timestamp'], inplace=True)"
   ]
  },
  {
   "cell_type": "markdown",
   "id": "8cfd5a1a",
   "metadata": {},
   "source": [
    "### 某用户某天"
   ]
  },
  {
   "cell_type": "code",
   "execution_count": 40,
   "id": "26a7c8f5",
   "metadata": {},
   "outputs": [],
   "source": [
    "subset = ['user_id', 'day']\n",
    "data['click_user_lab'] = 0\n",
    "# 标记某用户某天第一次点击，中间点击，最后一次点击(onehot)\n",
    "pos = data.duplicated(subset=subset, keep=False)\n",
    "data.loc[pos, 'click_user_lab'] = 1\n",
    "pos = (~data.duplicated(subset=subset, keep='first')) & data.duplicated(subset=subset, keep=False)\n",
    "data.loc[pos, 'click_user_lab'] = 2\n",
    "pos = (~data.duplicated(subset=subset, keep='last')) & data.duplicated(subset=subset, keep=False)\n",
    "data.loc[pos, 'click_user_lab'] = 3\n",
    "del pos\n",
    "gc.collect()"
   ]
  },
  {
   "cell_type": "markdown",
   "id": "e76b7ba8",
   "metadata": {},
   "source": [
    "### 某用户某天某item"
   ]
  },
  {
   "cell_type": "code",
   "execution_count": 58,
   "id": "c7f06487",
   "metadata": {},
   "outputs": [
    {
     "data": {
      "text/plain": [
       "0"
      ]
     },
     "execution_count": 58,
     "metadata": {},
     "output_type": "execute_result"
    }
   ],
   "source": [
    "subset = ['item_id', 'user_id', 'day']\n",
    "data['click_user_item_lab'] = 0\n",
    "pos = data.duplicated(subset=subset, keep=False)\n",
    "data.loc[pos, 'click_user_item_lab'] = 1\n",
    "pos = (~data.duplicated(subset=subset, keep='first')) & data.duplicated(subset=subset, keep=False)\n",
    "data.loc[pos, 'click_user_item_lab'] = 2\n",
    "pos = (~data.duplicated(subset=subset, keep='last')) & data.duplicated(subset=subset, keep=False)\n",
    "data.loc[pos, 'click_user_item_lab'] = 3\n",
    "del pos\n",
    "gc.collect()"
   ]
  },
  {
   "cell_type": "markdown",
   "id": "53602186",
   "metadata": {},
   "source": [
    "### 某用户某天某品牌"
   ]
  },
  {
   "cell_type": "code",
   "execution_count": 59,
   "id": "0dd2832c",
   "metadata": {},
   "outputs": [
    {
     "data": {
      "text/plain": [
       "0"
      ]
     },
     "execution_count": 59,
     "metadata": {},
     "output_type": "execute_result"
    }
   ],
   "source": [
    "subset = ['item_brand_id','user_id', 'day']\n",
    "data['click_user_brand_lab'] = 0\n",
    "pos = data.duplicated(subset=subset, keep=False)\n",
    "data.loc[pos, 'click_user_brand_lab'] = 1\n",
    "pos = (~data.duplicated(subset=subset, keep='first')) & data.duplicated(subset=subset, keep=False)\n",
    "data.loc[pos, 'click_user_brand_lab'] = 2\n",
    "pos = (~data.duplicated(subset=subset, keep='last')) & data.duplicated(subset=subset, keep=False)\n",
    "data.loc[pos, 'click_user_brand_lab'] = 3\n",
    "del pos\n",
    "gc.collect()"
   ]
  },
  {
   "cell_type": "markdown",
   "id": "48c55794",
   "metadata": {},
   "source": [
    "### 某用户某天某商店"
   ]
  },
  {
   "cell_type": "code",
   "execution_count": 61,
   "id": "b3877786",
   "metadata": {},
   "outputs": [
    {
     "data": {
      "text/plain": [
       "13"
      ]
     },
     "execution_count": 61,
     "metadata": {},
     "output_type": "execute_result"
    }
   ],
   "source": [
    "subset = ['shop_id','user_id', 'day']\n",
    "data['click_user_shop_lab'] = 0\n",
    "pos = data.duplicated(subset=subset, keep=False)\n",
    "data.loc[pos, 'click_user_shop_lab'] = 1\n",
    "pos = (~data.duplicated(subset=subset, keep='first')) & data.duplicated(subset=subset, keep=False)\n",
    "data.loc[pos, 'click_user_shop_lab'] = 2\n",
    "pos = (~data.duplicated(subset=subset, keep='last')) & data.duplicated(subset=subset, keep=False)\n",
    "data.loc[pos, 'click_user_shop_lab'] = 3\n",
    "del pos\n",
    "gc.collect()"
   ]
  },
  {
   "cell_type": "markdown",
   "id": "60e0c9dc",
   "metadata": {},
   "source": [
    "### 某用户某天某城市"
   ]
  },
  {
   "cell_type": "code",
   "execution_count": 62,
   "id": "222bf660",
   "metadata": {},
   "outputs": [
    {
     "data": {
      "text/plain": [
       "0"
      ]
     },
     "execution_count": 62,
     "metadata": {},
     "output_type": "execute_result"
    }
   ],
   "source": [
    "subset = ['item_city_id','user_id', 'day']\n",
    "data['click_user_city_lab'] = 0\n",
    "pos = data.duplicated(subset=subset, keep=False)\n",
    "data.loc[pos, 'click_user_city_lab'] = 1\n",
    "pos = (~data.duplicated(subset=subset, keep='first')) & data.duplicated(subset=subset, keep=False)\n",
    "data.loc[pos, 'click_user_city_lab'] = 2\n",
    "pos = (~data.duplicated(subset=subset, keep='last')) & data.duplicated(subset=subset, keep=False)\n",
    "data.loc[pos, 'click_user_city_lab'] = 3\n",
    "del pos\n",
    "gc.collect()"
   ]
  },
  {
   "cell_type": "markdown",
   "id": "e1d6f3f0",
   "metadata": {},
   "source": [
    "## 点击特征总结：新增5个特征"
   ]
  },
  {
   "cell_type": "code",
   "execution_count": 64,
   "id": "ced283fb",
   "metadata": {},
   "outputs": [
    {
     "data": {
      "text/plain": [
       "(121617, 40)"
      ]
     },
     "execution_count": 64,
     "metadata": {},
     "output_type": "execute_result"
    }
   ],
   "source": [
    "# click_user_lab, click_user_item_lab, click_user_brand_lab,click_user_shop_lab,click_user_city_lab\n",
    "data.shape"
   ]
  },
  {
   "cell_type": "code",
   "execution_count": 66,
   "id": "5b5f4d31",
   "metadata": {},
   "outputs": [
    {
     "data": {
      "text/plain": [
       "Index(['instance_id', 'item_id', 'item_category_list', 'item_property_list',\n",
       "       'item_brand_id', 'item_city_id', 'item_price_level', 'item_sales_level',\n",
       "       'item_collected_level', 'item_pv_level', 'user_id', 'user_gender_id',\n",
       "       'user_age_level', 'user_occupation_id', 'user_star_level', 'context_id',\n",
       "       'context_timestamp', 'context_page_id', 'predict_category_property',\n",
       "       'shop_id', 'shop_review_num_level', 'shop_review_positive_rate',\n",
       "       'shop_star_level', 'shop_score_service', 'shop_score_delivery',\n",
       "       'shop_score_description', 'is_trade', 'time', 'day', 'hour', 'minute',\n",
       "       'maphour', 'mapmin', 'item_category_1', 'item_category_2',\n",
       "       'click_user_lab', 'click_user_item_lab', 'click_user_brand_lab',\n",
       "       'click_user_shop_lab', 'click_user_city_lab'],\n",
       "      dtype='object')"
      ]
     },
     "execution_count": 66,
     "metadata": {},
     "output_type": "execute_result"
    }
   ],
   "source": [
    "data.columns"
   ]
  },
  {
   "cell_type": "markdown",
   "id": "869974c2",
   "metadata": {},
   "source": [
    "# 新特征：点击时间差"
   ]
  },
  {
   "cell_type": "markdown",
   "id": "fcccb4ef",
   "metadata": {},
   "source": [
    "## 首次点击与当前点击的时间差：用户角度"
   ]
  },
  {
   "cell_type": "code",
   "execution_count": 69,
   "id": "54327d56",
   "metadata": {},
   "outputs": [],
   "source": [
    "data.sort_values(['user_id', 'context_timestamp'], inplace=True)\n",
    "\n",
    "#user_id\n",
    "subset = ['user_id', 'day']\n",
    "# 提取三列的数据\n",
    "# temp = data.loc[:,['context_timestamp', 'user_id', 'day']]\n",
    "# 用户首次点击\n",
    "temp = data.loc[:,['context_timestamp', 'user_id', 'day']].drop_duplicates(subset=subset, keep='first')\n",
    "temp.rename(columns={'context_timestamp': 'u_day_diffTime_first'}, inplace=True)"
   ]
  },
  {
   "cell_type": "code",
   "execution_count": 75,
   "id": "d2e0f63d",
   "metadata": {},
   "outputs": [],
   "source": [
    "data = pd.merge(data, temp, how='left', on=subset)"
   ]
  },
  {
   "cell_type": "code",
   "execution_count": 76,
   "id": "11d3fab7",
   "metadata": {},
   "outputs": [
    {
     "data": {
      "text/plain": [
       "(121617, 41)"
      ]
     },
     "execution_count": 76,
     "metadata": {},
     "output_type": "execute_result"
    }
   ],
   "source": [
    "data.shape # 多一列u_day_diffTime_first，首次点击的时间"
   ]
  },
  {
   "cell_type": "code",
   "execution_count": null,
   "id": "fa45d8e1",
   "metadata": {},
   "outputs": [],
   "source": [
    "# 首次点击与当前点击的时间差\n",
    "data['u_day_diffTime_first'] = data['context_timestamp'] - data['u_day_diffTime_first']\n",
    "del temp\n",
    "gc.collect()"
   ]
  },
  {
   "cell_type": "markdown",
   "id": "62ec8d78",
   "metadata": {},
   "source": [
    "## 最后次点击与当前点击的时间差"
   ]
  },
  {
   "cell_type": "code",
   "execution_count": 78,
   "id": "a96f544e",
   "metadata": {},
   "outputs": [
    {
     "data": {
      "text/plain": [
       "2760"
      ]
     },
     "execution_count": 78,
     "metadata": {},
     "output_type": "execute_result"
    }
   ],
   "source": [
    "temp = data.loc[:,['context_timestamp', 'user_id', 'day']].drop_duplicates(subset=subset, keep='last')\n",
    "temp.rename(columns={'context_timestamp': 'u_day_diffTime_last'}, inplace=True)\n",
    "data = pd.merge(data, temp, how='left', on=subset)\n",
    "data['u_day_diffTime_last'] = data['u_day_diffTime_last'] - data['context_timestamp']\n",
    "del temp\n",
    "gc.collect()"
   ]
  },
  {
   "cell_type": "code",
   "execution_count": null,
   "id": "d93942fc",
   "metadata": {},
   "outputs": [],
   "source": [
    "# 没有发生重复点击的，只点击过一次的，时间差均设为-1\n",
    "data.loc[~data.duplicated(subset=subset, keep=False), ['u_day_diffTime_first', 'u_day_diffTime_last']] = -1"
   ]
  },
  {
   "cell_type": "markdown",
   "id": "269abc68",
   "metadata": {},
   "source": [
    "## 点击时间差：商品角度\n",
    "商品第一次被点击，最后一次被点击"
   ]
  },
  {
   "cell_type": "code",
   "execution_count": null,
   "id": "4d7d9d65",
   "metadata": {},
   "outputs": [],
   "source": [
    "subset = ['item_id', 'day']\n",
    "temp = data.loc[:,['context_timestamp', 'item_id', 'day']].drop_duplicates(subset=subset, keep='first')\n",
    "temp.rename(columns={'context_timestamp': 'i_day_diffTime_first'}, inplace=True)\n",
    "data = pd.merge(data, temp, how='left', on=subset)\n",
    "data['i_day_diffTime_first'] = data['context_timestamp'] - data['i_day_diffTime_first']\n",
    "del temp\n",
    "gc.collect()\n",
    "temp = data.loc[:,['context_timestamp', 'item_id', 'day']].drop_duplicates(subset=subset, keep='last')\n",
    "temp.rename(columns={'context_timestamp': 'i_day_diffTime_last'}, inplace=True)\n",
    "data = pd.merge(data, temp, how='left', on=subset)\n",
    "data['i_day_diffTime_last'] = data['i_day_diffTime_last'] - data['context_timestamp']\n",
    "del temp\n",
    "gc.collect()\n",
    "data.loc[~data.duplicated(subset=subset, keep=False), ['i_day_diffTime_first', 'i_day_diffTime_last']] = -1"
   ]
  },
  {
   "cell_type": "markdown",
   "id": "5bed0b1b",
   "metadata": {},
   "source": [
    "## 点击时间差：某用户某品牌"
   ]
  },
  {
   "cell_type": "code",
   "execution_count": 79,
   "id": "a2949a40",
   "metadata": {},
   "outputs": [],
   "source": [
    "#item_brand_id, user_id\n",
    "subset = ['item_brand_id', 'user_id', 'day']\n",
    "temp = data.loc[:,['context_timestamp', 'item_brand_id', 'user_id', 'day']].drop_duplicates(subset=subset, keep='first')\n",
    "temp.rename(columns={'context_timestamp': 'b_day_diffTime_first'}, inplace=True)\n",
    "data = pd.merge(data, temp, how='left', on=subset)\n",
    "data['b_day_diffTime_first'] = data['context_timestamp'] - data['b_day_diffTime_first']\n",
    "del temp\n",
    "gc.collect()\n",
    "temp = data.loc[:,['context_timestamp', 'item_brand_id', 'user_id', 'day']].drop_duplicates(subset=subset, keep='last')\n",
    "temp.rename(columns={'context_timestamp': 'b_day_diffTime_last'}, inplace=True)\n",
    "data = pd.merge(data, temp, how='left', on=subset)\n",
    "data['b_day_diffTime_last'] = data['b_day_diffTime_last'] - data['context_timestamp']\n",
    "del temp\n",
    "gc.collect()\n",
    "data.loc[~data.duplicated(subset=subset, keep=False), ['b_day_diffTime_first', 'b_day_diffTime_last']] = -1"
   ]
  },
  {
   "cell_type": "markdown",
   "id": "df1a93c0",
   "metadata": {},
   "source": [
    "## 点击时间差：某用户某商店"
   ]
  },
  {
   "cell_type": "code",
   "execution_count": 80,
   "id": "f7100cbb",
   "metadata": {},
   "outputs": [],
   "source": [
    "#shop_id, user_id\n",
    "subset = ['shop_id', 'user_id', 'day']\n",
    "temp = data.loc[:,['context_timestamp', 'shop_id', 'user_id', 'day']].drop_duplicates(subset=subset, keep='first')\n",
    "temp.rename(columns={'context_timestamp': 's_day_diffTime_first'}, inplace=True)\n",
    "data = pd.merge(data, temp, how='left', on=subset)\n",
    "data['s_day_diffTime_first'] = data['context_timestamp'] - data['s_day_diffTime_first']\n",
    "del temp\n",
    "gc.collect()\n",
    "temp = data.loc[:,['context_timestamp', 'shop_id', 'user_id', 'day']].drop_duplicates(subset=subset, keep='last')\n",
    "temp.rename(columns={'context_timestamp': 's_day_diffTime_last'}, inplace=True)\n",
    "data = pd.merge(data, temp, how='left', on=subset)\n",
    "data['s_day_diffTime_last'] = data['s_day_diffTime_last'] - data['context_timestamp']\n",
    "del temp\n",
    "gc.collect()\n",
    "data.loc[~data.duplicated(subset=subset, keep=False), ['s_day_diffTime_first', 's_day_diffTime_last']] = -1"
   ]
  },
  {
   "cell_type": "markdown",
   "id": "c1a70547",
   "metadata": {},
   "source": [
    "## 总结："
   ]
  },
  {
   "cell_type": "code",
   "execution_count": 81,
   "id": "cac10d63",
   "metadata": {},
   "outputs": [
    {
     "data": {
      "text/plain": [
       "(121617, 46)"
      ]
     },
     "execution_count": 81,
     "metadata": {},
     "output_type": "execute_result"
    }
   ],
   "source": [
    "data.shape"
   ]
  },
  {
   "cell_type": "code",
   "execution_count": 82,
   "id": "4086d476",
   "metadata": {},
   "outputs": [
    {
     "data": {
      "text/plain": [
       "Index(['instance_id', 'item_id', 'item_category_list', 'item_property_list',\n",
       "       'item_brand_id', 'item_city_id', 'item_price_level', 'item_sales_level',\n",
       "       'item_collected_level', 'item_pv_level', 'user_id', 'user_gender_id',\n",
       "       'user_age_level', 'user_occupation_id', 'user_star_level', 'context_id',\n",
       "       'context_timestamp', 'context_page_id', 'predict_category_property',\n",
       "       'shop_id', 'shop_review_num_level', 'shop_review_positive_rate',\n",
       "       'shop_star_level', 'shop_score_service', 'shop_score_delivery',\n",
       "       'shop_score_description', 'is_trade', 'time', 'day', 'hour', 'minute',\n",
       "       'maphour', 'mapmin', 'item_category_1', 'item_category_2',\n",
       "       'click_user_lab', 'click_user_item_lab', 'click_user_brand_lab',\n",
       "       'click_user_shop_lab', 'click_user_city_lab', 'u_day_diffTime_first',\n",
       "       'u_day_diffTime_last', 'b_day_diffTime_first', 'b_day_diffTime_last',\n",
       "       's_day_diffTime_first', 's_day_diffTime_last'],\n",
       "      dtype='object')"
      ]
     },
     "execution_count": 82,
     "metadata": {},
     "output_type": "execute_result"
    }
   ],
   "source": [
    "data.columns"
   ]
  },
  {
   "cell_type": "markdown",
   "id": "61254e8b",
   "metadata": {},
   "source": [
    "# 单特征距离上一次点击时间差"
   ]
  },
  {
   "cell_type": "code",
   "execution_count": 84,
   "id": "dcb7d6b6",
   "metadata": {},
   "outputs": [],
   "source": [
    "def lasttimeDiff(data):\n",
    "    for column in ['user_id', 'item_id']:\n",
    "        gc.collect()\n",
    "        data[column+'_lasttime_diff'] = 0\n",
    "        train_data = data[['context_timestamp', column, column+'_lasttime_diff']].values\n",
    "        lasttime_dict = {}\n",
    "        for df_list in train_data:\n",
    "            if df_list[1] not in lasttime_dict:\n",
    "                df_list[2] = -1\n",
    "                lasttime_dict[df_list[1]] = df_list[0] # 记录这个column（df_list[1]）本次时间\n",
    "            else:\n",
    "                df_list[2] = df_list[0] - lasttime_dict[df_list[1]]\n",
    "                lasttime_dict[df_list[1]] = df_list[0] # 更新这个column的本次时间\n",
    "        data[['context_timestamp', column, column+'_lasttime_diff']] = train_data\n",
    "    return data"
   ]
  },
  {
   "cell_type": "code",
   "execution_count": 85,
   "id": "9ae447e0",
   "metadata": {},
   "outputs": [
    {
     "name": "stdout",
     "output_type": "stream",
     "text": [
      "lasttimeDiff data: (121617, 49)\n"
     ]
    }
   ],
   "source": [
    "# 单特征距离上一次点击时间差\n",
    "data = lasttimeDiff(data)\n",
    "print('lasttimeDiff data:', data.shape)"
   ]
  },
  {
   "cell_type": "code",
   "execution_count": 86,
   "id": "9af7b6a9",
   "metadata": {},
   "outputs": [
    {
     "data": {
      "text/plain": [
       "Index(['instance_id', 'item_id', 'item_category_list', 'item_property_list',\n",
       "       'item_brand_id', 'item_city_id', 'item_price_level', 'item_sales_level',\n",
       "       'item_collected_level', 'item_pv_level', 'user_id', 'user_gender_id',\n",
       "       'user_age_level', 'user_occupation_id', 'user_star_level', 'context_id',\n",
       "       'context_timestamp', 'context_page_id', 'predict_category_property',\n",
       "       'shop_id', 'shop_review_num_level', 'shop_review_positive_rate',\n",
       "       'shop_star_level', 'shop_score_service', 'shop_score_delivery',\n",
       "       'shop_score_description', 'is_trade', 'time', 'day', 'hour', 'minute',\n",
       "       'maphour', 'mapmin', 'item_category_1', 'item_category_2',\n",
       "       'click_user_lab', 'click_user_item_lab', 'click_user_brand_lab',\n",
       "       'click_user_shop_lab', 'click_user_city_lab', 'u_day_diffTime_first',\n",
       "       'u_day_diffTime_last', 'b_day_diffTime_first', 'b_day_diffTime_last',\n",
       "       's_day_diffTime_first', 's_day_diffTime_last', 'user_id_nexttime_diff',\n",
       "       'user_id_lasttime_diff', 'item_id_lasttime_diff'],\n",
       "      dtype='object')"
      ]
     },
     "execution_count": 86,
     "metadata": {},
     "output_type": "execute_result"
    }
   ],
   "source": [
    "data.columns"
   ]
  },
  {
   "cell_type": "markdown",
   "id": "54623a39",
   "metadata": {},
   "source": [
    "# 单特征距离下一次点击时间差"
   ]
  },
  {
   "cell_type": "code",
   "execution_count": 87,
   "id": "af3a5bc3",
   "metadata": {},
   "outputs": [],
   "source": [
    "def nexttimeDiff(data):\n",
    "    for column in ['user_id', 'item_id']:\n",
    "        gc.collect()\n",
    "        data[column+'_nexttime_diff'] = 0\n",
    "        train_data = data[['context_timestamp', column, column+'_nexttime_diff']].values\n",
    "        nexttime_dict = {}\n",
    "        for df_list in train_data:\n",
    "            if df_list[1] not in nexttime_dict:\n",
    "                df_list[2] = -1\n",
    "                nexttime_dict[df_list[1]] = df_list[0]\n",
    "            else:\n",
    "                df_list[2] = nexttime_dict[df_list[1]] - df_list[0]\n",
    "                nexttime_dict[df_list[1]] = df_list[0]\n",
    "        data[['context_timestamp', column, column+'_nexttime_diff']] = train_data\n",
    "\n",
    "    return data"
   ]
  },
  {
   "cell_type": "code",
   "execution_count": 88,
   "id": "0707196e",
   "metadata": {},
   "outputs": [
    {
     "name": "stdout",
     "output_type": "stream",
     "text": [
      "lasttimeDiff data: (121617, 50)\n"
     ]
    }
   ],
   "source": [
    "# 单特征距离下一次点击时间差\n",
    "data = nexttimeDiff(data)\n",
    "print('lasttimeDiff data:', data.shape)"
   ]
  },
  {
   "cell_type": "code",
   "execution_count": 89,
   "id": "3d50d6c0",
   "metadata": {},
   "outputs": [
    {
     "data": {
      "text/plain": [
       "Index(['instance_id', 'item_id', 'item_category_list', 'item_property_list',\n",
       "       'item_brand_id', 'item_city_id', 'item_price_level', 'item_sales_level',\n",
       "       'item_collected_level', 'item_pv_level', 'user_id', 'user_gender_id',\n",
       "       'user_age_level', 'user_occupation_id', 'user_star_level', 'context_id',\n",
       "       'context_timestamp', 'context_page_id', 'predict_category_property',\n",
       "       'shop_id', 'shop_review_num_level', 'shop_review_positive_rate',\n",
       "       'shop_star_level', 'shop_score_service', 'shop_score_delivery',\n",
       "       'shop_score_description', 'is_trade', 'time', 'day', 'hour', 'minute',\n",
       "       'maphour', 'mapmin', 'item_category_1', 'item_category_2',\n",
       "       'click_user_lab', 'click_user_item_lab', 'click_user_brand_lab',\n",
       "       'click_user_shop_lab', 'click_user_city_lab', 'u_day_diffTime_first',\n",
       "       'u_day_diffTime_last', 'b_day_diffTime_first', 'b_day_diffTime_last',\n",
       "       's_day_diffTime_first', 's_day_diffTime_last', 'user_id_nexttime_diff',\n",
       "       'user_id_lasttime_diff', 'item_id_lasttime_diff',\n",
       "       'item_id_nexttime_diff'],\n",
       "      dtype='object')"
      ]
     },
     "execution_count": 89,
     "metadata": {},
     "output_type": "execute_result"
    }
   ],
   "source": [
    "data.columns"
   ]
  },
  {
   "cell_type": "code",
   "execution_count": 92,
   "id": "42d3df79",
   "metadata": {},
   "outputs": [
    {
     "data": {
      "text/plain": [
       "Index(['instance_id', 'day', 'click_user_lab', 'click_user_item_lab',\n",
       "       'click_user_brand_lab', 'click_user_shop_lab', 'click_user_city_lab',\n",
       "       'u_day_diffTime_first', 'u_day_diffTime_last', 'b_day_diffTime_first',\n",
       "       'b_day_diffTime_last', 's_day_diffTime_first', 's_day_diffTime_last',\n",
       "       'user_id_nexttime_diff', 'user_id_lasttime_diff',\n",
       "       'item_id_lasttime_diff', 'item_id_nexttime_diff'],\n",
       "      dtype='object')"
      ]
     },
     "execution_count": 92,
     "metadata": {},
     "output_type": "execute_result"
    }
   ],
   "source": [
    "# 旧特征：cols，不包括instance_id', 'day'\n",
    "# 得到新特征：\n",
    "data = data.drop(cols, axis=1)\n",
    "data.columns"
   ]
  },
  {
   "cell_type": "code",
   "execution_count": 94,
   "id": "8a82e295",
   "metadata": {},
   "outputs": [
    {
     "data": {
      "text/plain": [
       "(28054, 16)"
      ]
     },
     "execution_count": 94,
     "metadata": {},
     "output_type": "execute_result"
    }
   ],
   "source": [
    "data.shape"
   ]
  },
  {
   "cell_type": "code",
   "execution_count": 93,
   "id": "965bde8d",
   "metadata": {},
   "outputs": [
    {
     "name": "stdout",
     "output_type": "stream",
     "text": [
      "经过处理后,全部训练集最终维度: (121617, 17)\n",
      "经过处理后,7号数据集最终维度: (28054, 16)\n",
      "['instance_id', 'click_user_lab', 'click_user_item_lab', 'click_user_brand_lab', 'click_user_shop_lab', 'click_user_city_lab', 'u_day_diffTime_first', 'u_day_diffTime_last', 'b_day_diffTime_first', 'b_day_diffTime_last', 's_day_diffTime_first', 's_day_diffTime_last', 'user_id_nexttime_diff', 'user_id_lasttime_diff', 'item_id_lasttime_diff', 'item_id_nexttime_diff']\n"
     ]
    }
   ],
   "source": [
    "# 得到全部训练集\n",
    "print('经过处理后,全部训练集最终维度:', data.shape)\n",
    "data.to_csv(path+'102_trick_feat_all.csv', index=False)\n",
    "\n",
    "# 得到7号训练集\n",
    "data = data.loc[data.day == 7]\n",
    "data = data.drop('day', axis=1)\n",
    "print('经过处理后,7号数据集最终维度:', data.shape)\n",
    "print(data.columns.tolist())\n",
    "data.to_csv(path+'102_trick_feat.csv', index=False)"
   ]
  }
 ],
 "metadata": {
  "kernelspec": {
   "display_name": "Python 3 (ipykernel)",
   "language": "python",
   "name": "python3"
  },
  "language_info": {
   "codemirror_mode": {
    "name": "ipython",
    "version": 3
   },
   "file_extension": ".py",
   "mimetype": "text/x-python",
   "name": "python",
   "nbconvert_exporter": "python",
   "pygments_lexer": "ipython3",
   "version": "3.9.13"
  },
  "toc": {
   "base_numbering": 1,
   "nav_menu": {},
   "number_sections": true,
   "sideBar": true,
   "skip_h1_title": false,
   "title_cell": "Table of Contents",
   "title_sidebar": "Contents",
   "toc_cell": false,
   "toc_position": {
    "height": "calc(100% - 180px)",
    "left": "10px",
    "top": "150px",
    "width": "226.511px"
   },
   "toc_section_display": true,
   "toc_window_display": true
  }
 },
 "nbformat": 4,
 "nbformat_minor": 5
}
