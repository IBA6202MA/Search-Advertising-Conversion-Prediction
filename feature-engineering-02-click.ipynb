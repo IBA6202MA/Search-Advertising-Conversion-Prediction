{
 "cells": [
  {
   "cell_type": "code",
   "execution_count": 44,
   "id": "8232d448",
   "metadata": {},
   "outputs": [],
   "source": [
    "import numpy as np\n",
    "import pandas as pd\n",
    "import gc"
   ]
  },
  {
   "cell_type": "markdown",
   "id": "8163a97a",
   "metadata": {},
   "source": [
    "# 读取数据"
   ]
  },
  {
   "cell_type": "code",
   "execution_count": 45,
   "id": "708ff92b",
   "metadata": {},
   "outputs": [],
   "source": [
    "path =  '/Users/apple/Desktop/data/'\n",
    "    \n",
    "train = pd.read_csv(path+'train_all.csv')\n",
    "test = pd.read_csv(path+'test_all.csv')"
   ]
  },
  {
   "cell_type": "code",
   "execution_count": 46,
   "id": "a086e9fe",
   "metadata": {},
   "outputs": [
    {
     "data": {
      "text/plain": [
       "Index(['instance_id', 'item_id', 'item_category_list', 'item_property_list',\n",
       "       'item_brand_id', 'item_city_id', 'item_price_level', 'item_sales_level',\n",
       "       'item_collected_level', 'item_pv_level', 'user_id', 'user_gender_id',\n",
       "       'user_age_level', 'user_occupation_id', 'user_star_level', 'context_id',\n",
       "       'context_timestamp', 'context_page_id', 'predict_category_property',\n",
       "       'shop_id', 'shop_review_num_level', 'shop_review_positive_rate',\n",
       "       'shop_star_level', 'shop_score_service', 'shop_score_delivery',\n",
       "       'shop_score_description', 'is_trade', 'time', 'day', 'hour', 'minute',\n",
       "       'maphour', 'mapmin', 'item_category_1', 'item_category_2'],\n",
       "      dtype='object')"
      ]
     },
     "execution_count": 46,
     "metadata": {},
     "output_type": "execute_result"
    }
   ],
   "source": [
    "train.columns"
   ]
  },
  {
   "cell_type": "code",
   "execution_count": 47,
   "id": "444f7b0b",
   "metadata": {},
   "outputs": [
    {
     "data": {
      "text/plain": [
       "35"
      ]
     },
     "execution_count": 47,
     "metadata": {},
     "output_type": "execute_result"
    }
   ],
   "source": [
    "len(train.columns)"
   ]
  },
  {
   "cell_type": "code",
   "execution_count": 48,
   "id": "d1509b9b",
   "metadata": {},
   "outputs": [
    {
     "data": {
      "text/plain": [
       "Index(['instance_id', 'item_id', 'item_category_list', 'item_property_list',\n",
       "       'item_brand_id', 'item_city_id', 'item_price_level', 'item_sales_level',\n",
       "       'item_collected_level', 'item_pv_level', 'user_id', 'user_gender_id',\n",
       "       'user_age_level', 'user_occupation_id', 'user_star_level', 'context_id',\n",
       "       'context_timestamp', 'context_page_id', 'predict_category_property',\n",
       "       'shop_id', 'shop_review_num_level', 'shop_review_positive_rate',\n",
       "       'shop_star_level', 'shop_score_service', 'shop_score_delivery',\n",
       "       'shop_score_description', 'is_trade', 'time', 'day', 'hour', 'minute',\n",
       "       'maphour', 'mapmin', 'item_category_1', 'item_category_2'],\n",
       "      dtype='object')"
      ]
     },
     "execution_count": 48,
     "metadata": {},
     "output_type": "execute_result"
    }
   ],
   "source": [
    "test.columns"
   ]
  },
  {
   "cell_type": "code",
   "execution_count": 49,
   "id": "9d9ea083",
   "metadata": {},
   "outputs": [
    {
     "data": {
      "text/html": [
       "<div>\n",
       "<style scoped>\n",
       "    .dataframe tbody tr th:only-of-type {\n",
       "        vertical-align: middle;\n",
       "    }\n",
       "\n",
       "    .dataframe tbody tr th {\n",
       "        vertical-align: top;\n",
       "    }\n",
       "\n",
       "    .dataframe thead th {\n",
       "        text-align: right;\n",
       "    }\n",
       "</style>\n",
       "<table border=\"1\" class=\"dataframe\">\n",
       "  <thead>\n",
       "    <tr style=\"text-align: right;\">\n",
       "      <th></th>\n",
       "      <th>instance_id</th>\n",
       "      <th>item_id</th>\n",
       "      <th>item_category_list</th>\n",
       "      <th>item_property_list</th>\n",
       "      <th>item_brand_id</th>\n",
       "      <th>item_city_id</th>\n",
       "      <th>item_price_level</th>\n",
       "      <th>item_sales_level</th>\n",
       "      <th>item_collected_level</th>\n",
       "      <th>item_pv_level</th>\n",
       "      <th>...</th>\n",
       "      <th>shop_score_description</th>\n",
       "      <th>is_trade</th>\n",
       "      <th>time</th>\n",
       "      <th>day</th>\n",
       "      <th>hour</th>\n",
       "      <th>minute</th>\n",
       "      <th>maphour</th>\n",
       "      <th>mapmin</th>\n",
       "      <th>item_category_1</th>\n",
       "      <th>item_category_2</th>\n",
       "    </tr>\n",
       "  </thead>\n",
       "  <tbody>\n",
       "    <tr>\n",
       "      <th>0</th>\n",
       "      <td>5.089880e+18</td>\n",
       "      <td>2769</td>\n",
       "      <td>836752724084922533;1852600517265062354</td>\n",
       "      <td>5977512434884267894;2072967855524022579;513128...</td>\n",
       "      <td>5982</td>\n",
       "      <td>2</td>\n",
       "      <td>6</td>\n",
       "      <td>11</td>\n",
       "      <td>10</td>\n",
       "      <td>17</td>\n",
       "      <td>...</td>\n",
       "      <td>0.987</td>\n",
       "      <td>0</td>\n",
       "      <td>2018-09-02 20:31:59</td>\n",
       "      <td>2</td>\n",
       "      <td>20</td>\n",
       "      <td>31</td>\n",
       "      <td>4</td>\n",
       "      <td>2</td>\n",
       "      <td>7</td>\n",
       "      <td>0</td>\n",
       "    </tr>\n",
       "    <tr>\n",
       "      <th>1</th>\n",
       "      <td>2.163600e+18</td>\n",
       "      <td>16242</td>\n",
       "      <td>836752724084922533;6670526099037031245</td>\n",
       "      <td>6241534230954727302;367082587220462692;5977512...</td>\n",
       "      <td>4705</td>\n",
       "      <td>147</td>\n",
       "      <td>6</td>\n",
       "      <td>9</td>\n",
       "      <td>10</td>\n",
       "      <td>16</td>\n",
       "      <td>...</td>\n",
       "      <td>0.970</td>\n",
       "      <td>0</td>\n",
       "      <td>2018-09-05 13:13:58</td>\n",
       "      <td>5</td>\n",
       "      <td>13</td>\n",
       "      <td>13</td>\n",
       "      <td>3</td>\n",
       "      <td>14</td>\n",
       "      <td>21</td>\n",
       "      <td>0</td>\n",
       "    </tr>\n",
       "    <tr>\n",
       "      <th>2</th>\n",
       "      <td>8.229730e+18</td>\n",
       "      <td>7731</td>\n",
       "      <td>836752724084922533;1916390345133212703</td>\n",
       "      <td>5977512434884267894;2636395404473730413;462193...</td>\n",
       "      <td>5385</td>\n",
       "      <td>80</td>\n",
       "      <td>4</td>\n",
       "      <td>12</td>\n",
       "      <td>12</td>\n",
       "      <td>13</td>\n",
       "      <td>...</td>\n",
       "      <td>0.957</td>\n",
       "      <td>0</td>\n",
       "      <td>2018-09-01 21:38:48</td>\n",
       "      <td>1</td>\n",
       "      <td>21</td>\n",
       "      <td>38</td>\n",
       "      <td>4</td>\n",
       "      <td>9</td>\n",
       "      <td>9</td>\n",
       "      <td>0</td>\n",
       "    </tr>\n",
       "    <tr>\n",
       "      <th>3</th>\n",
       "      <td>8.978460e+18</td>\n",
       "      <td>68</td>\n",
       "      <td>836752724084922533;1852600517265062354</td>\n",
       "      <td>367082587220462692;5977512434884267894;2072967...</td>\n",
       "      <td>3543</td>\n",
       "      <td>128</td>\n",
       "      <td>9</td>\n",
       "      <td>4</td>\n",
       "      <td>5</td>\n",
       "      <td>11</td>\n",
       "      <td>...</td>\n",
       "      <td>0.994</td>\n",
       "      <td>0</td>\n",
       "      <td>2018-09-02 22:58:54</td>\n",
       "      <td>2</td>\n",
       "      <td>22</td>\n",
       "      <td>58</td>\n",
       "      <td>4</td>\n",
       "      <td>14</td>\n",
       "      <td>7</td>\n",
       "      <td>0</td>\n",
       "    </tr>\n",
       "    <tr>\n",
       "      <th>4</th>\n",
       "      <td>3.831630e+18</td>\n",
       "      <td>556</td>\n",
       "      <td>836752724084922533;3348197449185791127</td>\n",
       "      <td>2072967855524022579;639228713552738893;3163265...</td>\n",
       "      <td>6156</td>\n",
       "      <td>103</td>\n",
       "      <td>5</td>\n",
       "      <td>11</td>\n",
       "      <td>9</td>\n",
       "      <td>14</td>\n",
       "      <td>...</td>\n",
       "      <td>0.957</td>\n",
       "      <td>0</td>\n",
       "      <td>2018-09-05 06:43:40</td>\n",
       "      <td>5</td>\n",
       "      <td>6</td>\n",
       "      <td>43</td>\n",
       "      <td>2</td>\n",
       "      <td>14</td>\n",
       "      <td>14</td>\n",
       "      <td>0</td>\n",
       "    </tr>\n",
       "  </tbody>\n",
       "</table>\n",
       "<p>5 rows × 35 columns</p>\n",
       "</div>"
      ],
      "text/plain": [
       "    instance_id  item_id                      item_category_list  \\\n",
       "0  5.089880e+18     2769  836752724084922533;1852600517265062354   \n",
       "1  2.163600e+18    16242  836752724084922533;6670526099037031245   \n",
       "2  8.229730e+18     7731  836752724084922533;1916390345133212703   \n",
       "3  8.978460e+18       68  836752724084922533;1852600517265062354   \n",
       "4  3.831630e+18      556  836752724084922533;3348197449185791127   \n",
       "\n",
       "                                  item_property_list  item_brand_id  \\\n",
       "0  5977512434884267894;2072967855524022579;513128...           5982   \n",
       "1  6241534230954727302;367082587220462692;5977512...           4705   \n",
       "2  5977512434884267894;2636395404473730413;462193...           5385   \n",
       "3  367082587220462692;5977512434884267894;2072967...           3543   \n",
       "4  2072967855524022579;639228713552738893;3163265...           6156   \n",
       "\n",
       "   item_city_id  item_price_level  item_sales_level  item_collected_level  \\\n",
       "0             2                 6                11                    10   \n",
       "1           147                 6                 9                    10   \n",
       "2            80                 4                12                    12   \n",
       "3           128                 9                 4                     5   \n",
       "4           103                 5                11                     9   \n",
       "\n",
       "   item_pv_level  ...  shop_score_description  is_trade                 time  \\\n",
       "0             17  ...                   0.987         0  2018-09-02 20:31:59   \n",
       "1             16  ...                   0.970         0  2018-09-05 13:13:58   \n",
       "2             13  ...                   0.957         0  2018-09-01 21:38:48   \n",
       "3             11  ...                   0.994         0  2018-09-02 22:58:54   \n",
       "4             14  ...                   0.957         0  2018-09-05 06:43:40   \n",
       "\n",
       "   day  hour  minute  maphour  mapmin item_category_1  item_category_2  \n",
       "0    2    20      31        4       2               7                0  \n",
       "1    5    13      13        3      14              21                0  \n",
       "2    1    21      38        4       9               9                0  \n",
       "3    2    22      58        4      14               7                0  \n",
       "4    5     6      43        2      14              14                0  \n",
       "\n",
       "[5 rows x 35 columns]"
      ]
     },
     "execution_count": 49,
     "metadata": {},
     "output_type": "execute_result"
    }
   ],
   "source": [
    "train.head(5)"
   ]
  },
  {
   "cell_type": "code",
   "execution_count": 50,
   "id": "43105df5",
   "metadata": {},
   "outputs": [
    {
     "data": {
      "text/plain": [
       "instance_id                  float64\n",
       "item_id                        int64\n",
       "item_category_list            object\n",
       "item_property_list            object\n",
       "item_brand_id                  int64\n",
       "item_city_id                   int64\n",
       "item_price_level               int64\n",
       "item_sales_level               int64\n",
       "item_collected_level           int64\n",
       "item_pv_level                  int64\n",
       "user_id                        int64\n",
       "user_gender_id                 int64\n",
       "user_age_level                 int64\n",
       "user_occupation_id             int64\n",
       "user_star_level                int64\n",
       "context_id                     int64\n",
       "context_timestamp              int64\n",
       "context_page_id                int64\n",
       "predict_category_property     object\n",
       "shop_id                        int64\n",
       "shop_review_num_level          int64\n",
       "shop_review_positive_rate    float64\n",
       "shop_star_level                int64\n",
       "shop_score_service           float64\n",
       "shop_score_delivery          float64\n",
       "shop_score_description       float64\n",
       "is_trade                       int64\n",
       "time                          object\n",
       "day                            int64\n",
       "hour                           int64\n",
       "minute                         int64\n",
       "maphour                        int64\n",
       "mapmin                         int64\n",
       "item_category_1                int64\n",
       "item_category_2                int64\n",
       "dtype: object"
      ]
     },
     "execution_count": 50,
     "metadata": {},
     "output_type": "execute_result"
    }
   ],
   "source": [
    "train.dtypes"
   ]
  },
  {
   "cell_type": "markdown",
   "id": "fe199062",
   "metadata": {},
   "source": [
    "# 合并数据"
   ]
  },
  {
   "cell_type": "code",
   "execution_count": 51,
   "id": "4b3ee798",
   "metadata": {},
   "outputs": [
    {
     "name": "stderr",
     "output_type": "stream",
     "text": [
      "/var/folders/hv/0r6f95ls1ss09znhzxqsj0nr0000gn/T/ipykernel_5848/447752923.py:1: FutureWarning: The frame.append method is deprecated and will be removed from pandas in a future version. Use pandas.concat instead.\n",
      "  data = train.append(test, ignore_index=True)\n"
     ]
    }
   ],
   "source": [
    "data = train.append(test, ignore_index=True)"
   ]
  },
  {
   "cell_type": "code",
   "execution_count": 52,
   "id": "111253d5",
   "metadata": {},
   "outputs": [
    {
     "data": {
      "text/plain": [
       "(99085, 35)"
      ]
     },
     "execution_count": 52,
     "metadata": {},
     "output_type": "execute_result"
    }
   ],
   "source": [
    "data.shape"
   ]
  },
  {
   "cell_type": "markdown",
   "id": "f1eb821e",
   "metadata": {},
   "source": [
    "# 移除['instance_id', 'day']特征"
   ]
  },
  {
   "cell_type": "code",
   "execution_count": 53,
   "id": "f4325f1f",
   "metadata": {},
   "outputs": [],
   "source": [
    "def pre_process(data):\n",
    "\n",
    "    cols = data.columns.tolist()\n",
    "    keys = ['instance_id', 'day']\n",
    "    for k in keys:\n",
    "        cols.remove(k)\n",
    "\n",
    "    return data, cols"
   ]
  },
  {
   "cell_type": "code",
   "execution_count": 54,
   "id": "7b72a431",
   "metadata": {},
   "outputs": [],
   "source": [
    "data, cols = pre_process(data)"
   ]
  },
  {
   "cell_type": "code",
   "execution_count": 55,
   "id": "709e70f3",
   "metadata": {},
   "outputs": [
    {
     "data": {
      "text/plain": [
       "(99085, 35)"
      ]
     },
     "execution_count": 55,
     "metadata": {},
     "output_type": "execute_result"
    }
   ],
   "source": [
    "data.shape"
   ]
  },
  {
   "cell_type": "code",
   "execution_count": 56,
   "id": "f8b59aac",
   "metadata": {},
   "outputs": [
    {
     "data": {
      "text/plain": [
       "['item_id',\n",
       " 'item_category_list',\n",
       " 'item_property_list',\n",
       " 'item_brand_id',\n",
       " 'item_city_id',\n",
       " 'item_price_level',\n",
       " 'item_sales_level',\n",
       " 'item_collected_level',\n",
       " 'item_pv_level',\n",
       " 'user_id',\n",
       " 'user_gender_id',\n",
       " 'user_age_level',\n",
       " 'user_occupation_id',\n",
       " 'user_star_level',\n",
       " 'context_id',\n",
       " 'context_timestamp',\n",
       " 'context_page_id',\n",
       " 'predict_category_property',\n",
       " 'shop_id',\n",
       " 'shop_review_num_level',\n",
       " 'shop_review_positive_rate',\n",
       " 'shop_star_level',\n",
       " 'shop_score_service',\n",
       " 'shop_score_delivery',\n",
       " 'shop_score_description',\n",
       " 'is_trade',\n",
       " 'time',\n",
       " 'hour',\n",
       " 'minute',\n",
       " 'maphour',\n",
       " 'mapmin',\n",
       " 'item_category_1',\n",
       " 'item_category_2']"
      ]
     },
     "execution_count": 56,
     "metadata": {},
     "output_type": "execute_result"
    }
   ],
   "source": [
    "cols"
   ]
  },
  {
   "cell_type": "markdown",
   "id": "a870b1f2",
   "metadata": {},
   "source": [
    "# 新特征：点击首次、末次"
   ]
  },
  {
   "cell_type": "markdown",
   "id": "d7596b95",
   "metadata": {},
   "source": [
    "## 点击特征：1、2、3:第一次点击，中间点击，最后一次点击"
   ]
  },
  {
   "cell_type": "code",
   "execution_count": 57,
   "id": "30d2a266",
   "metadata": {},
   "outputs": [],
   "source": [
    "# 按照'user_id', 'context_timestamp'排序\n",
    "data.sort_values(['user_id', 'context_timestamp'], inplace=True)"
   ]
  },
  {
   "cell_type": "markdown",
   "id": "8cfd5a1a",
   "metadata": {},
   "source": [
    "### 某用户某天"
   ]
  },
  {
   "cell_type": "code",
   "execution_count": 58,
   "id": "26a7c8f5",
   "metadata": {},
   "outputs": [
    {
     "data": {
      "text/plain": [
       "0"
      ]
     },
     "execution_count": 58,
     "metadata": {},
     "output_type": "execute_result"
    }
   ],
   "source": [
    "subset = ['user_id', 'day']\n",
    "data['click_user_lab'] = 0\n",
    "# 标记某用户某天第一次点击，中间点击，最后一次点击(onehot)\n",
    "pos = data.duplicated(subset=subset, keep=False)\n",
    "data.loc[pos, 'click_user_lab'] = 1\n",
    "pos = (~data.duplicated(subset=subset, keep='first')) & data.duplicated(subset=subset, keep=False)\n",
    "data.loc[pos, 'click_user_lab'] = 2\n",
    "pos = (~data.duplicated(subset=subset, keep='last')) & data.duplicated(subset=subset, keep=False)\n",
    "data.loc[pos, 'click_user_lab'] = 3\n",
    "del pos\n",
    "gc.collect()"
   ]
  },
  {
   "cell_type": "markdown",
   "id": "e76b7ba8",
   "metadata": {},
   "source": [
    "### 某用户某天某item"
   ]
  },
  {
   "cell_type": "code",
   "execution_count": 59,
   "id": "c7f06487",
   "metadata": {},
   "outputs": [
    {
     "data": {
      "text/plain": [
       "0"
      ]
     },
     "execution_count": 59,
     "metadata": {},
     "output_type": "execute_result"
    }
   ],
   "source": [
    "subset = ['item_id', 'user_id', 'day']\n",
    "data['click_user_item_lab'] = 0\n",
    "pos = data.duplicated(subset=subset, keep=False)\n",
    "data.loc[pos, 'click_user_item_lab'] = 1\n",
    "pos = (~data.duplicated(subset=subset, keep='first')) & data.duplicated(subset=subset, keep=False)\n",
    "data.loc[pos, 'click_user_item_lab'] = 2\n",
    "pos = (~data.duplicated(subset=subset, keep='last')) & data.duplicated(subset=subset, keep=False)\n",
    "data.loc[pos, 'click_user_item_lab'] = 3\n",
    "del pos\n",
    "gc.collect()"
   ]
  },
  {
   "cell_type": "markdown",
   "id": "53602186",
   "metadata": {},
   "source": [
    "### 某用户某天某品牌"
   ]
  },
  {
   "cell_type": "code",
   "execution_count": 60,
   "id": "0dd2832c",
   "metadata": {},
   "outputs": [
    {
     "data": {
      "text/plain": [
       "0"
      ]
     },
     "execution_count": 60,
     "metadata": {},
     "output_type": "execute_result"
    }
   ],
   "source": [
    "subset = ['item_brand_id','user_id', 'day']\n",
    "data['click_user_brand_lab'] = 0\n",
    "pos = data.duplicated(subset=subset, keep=False)\n",
    "data.loc[pos, 'click_user_brand_lab'] = 1\n",
    "pos = (~data.duplicated(subset=subset, keep='first')) & data.duplicated(subset=subset, keep=False)\n",
    "data.loc[pos, 'click_user_brand_lab'] = 2\n",
    "pos = (~data.duplicated(subset=subset, keep='last')) & data.duplicated(subset=subset, keep=False)\n",
    "data.loc[pos, 'click_user_brand_lab'] = 3\n",
    "del pos\n",
    "gc.collect()"
   ]
  },
  {
   "cell_type": "markdown",
   "id": "48c55794",
   "metadata": {},
   "source": [
    "### 某用户某天某商店"
   ]
  },
  {
   "cell_type": "code",
   "execution_count": 61,
   "id": "b3877786",
   "metadata": {},
   "outputs": [
    {
     "data": {
      "text/plain": [
       "0"
      ]
     },
     "execution_count": 61,
     "metadata": {},
     "output_type": "execute_result"
    }
   ],
   "source": [
    "subset = ['shop_id','user_id', 'day']\n",
    "data['click_user_shop_lab'] = 0\n",
    "pos = data.duplicated(subset=subset, keep=False)\n",
    "data.loc[pos, 'click_user_shop_lab'] = 1\n",
    "pos = (~data.duplicated(subset=subset, keep='first')) & data.duplicated(subset=subset, keep=False)\n",
    "data.loc[pos, 'click_user_shop_lab'] = 2\n",
    "pos = (~data.duplicated(subset=subset, keep='last')) & data.duplicated(subset=subset, keep=False)\n",
    "data.loc[pos, 'click_user_shop_lab'] = 3\n",
    "del pos\n",
    "gc.collect()"
   ]
  },
  {
   "cell_type": "markdown",
   "id": "60e0c9dc",
   "metadata": {},
   "source": [
    "### 某用户某天某城市"
   ]
  },
  {
   "cell_type": "code",
   "execution_count": 62,
   "id": "222bf660",
   "metadata": {},
   "outputs": [
    {
     "data": {
      "text/plain": [
       "0"
      ]
     },
     "execution_count": 62,
     "metadata": {},
     "output_type": "execute_result"
    }
   ],
   "source": [
    "subset = ['item_city_id','user_id', 'day']\n",
    "data['click_user_city_lab'] = 0\n",
    "pos = data.duplicated(subset=subset, keep=False)\n",
    "data.loc[pos, 'click_user_city_lab'] = 1\n",
    "pos = (~data.duplicated(subset=subset, keep='first')) & data.duplicated(subset=subset, keep=False)\n",
    "data.loc[pos, 'click_user_city_lab'] = 2\n",
    "pos = (~data.duplicated(subset=subset, keep='last')) & data.duplicated(subset=subset, keep=False)\n",
    "data.loc[pos, 'click_user_city_lab'] = 3\n",
    "del pos\n",
    "gc.collect()"
   ]
  },
  {
   "cell_type": "markdown",
   "id": "e1d6f3f0",
   "metadata": {},
   "source": [
    "## 点击特征总结：新增5个特征"
   ]
  },
  {
   "cell_type": "code",
   "execution_count": 63,
   "id": "ced283fb",
   "metadata": {},
   "outputs": [
    {
     "data": {
      "text/plain": [
       "(99085, 40)"
      ]
     },
     "execution_count": 63,
     "metadata": {},
     "output_type": "execute_result"
    }
   ],
   "source": [
    "# click_user_lab, click_user_item_lab, click_user_brand_lab,click_user_shop_lab,click_user_city_lab\n",
    "data.shape"
   ]
  },
  {
   "cell_type": "code",
   "execution_count": 64,
   "id": "5b5f4d31",
   "metadata": {},
   "outputs": [
    {
     "data": {
      "text/plain": [
       "Index(['instance_id', 'item_id', 'item_category_list', 'item_property_list',\n",
       "       'item_brand_id', 'item_city_id', 'item_price_level', 'item_sales_level',\n",
       "       'item_collected_level', 'item_pv_level', 'user_id', 'user_gender_id',\n",
       "       'user_age_level', 'user_occupation_id', 'user_star_level', 'context_id',\n",
       "       'context_timestamp', 'context_page_id', 'predict_category_property',\n",
       "       'shop_id', 'shop_review_num_level', 'shop_review_positive_rate',\n",
       "       'shop_star_level', 'shop_score_service', 'shop_score_delivery',\n",
       "       'shop_score_description', 'is_trade', 'time', 'day', 'hour', 'minute',\n",
       "       'maphour', 'mapmin', 'item_category_1', 'item_category_2',\n",
       "       'click_user_lab', 'click_user_item_lab', 'click_user_brand_lab',\n",
       "       'click_user_shop_lab', 'click_user_city_lab'],\n",
       "      dtype='object')"
      ]
     },
     "execution_count": 64,
     "metadata": {},
     "output_type": "execute_result"
    }
   ],
   "source": [
    "data.columns"
   ]
  },
  {
   "cell_type": "markdown",
   "id": "869974c2",
   "metadata": {},
   "source": [
    "# 新特征：点击时间差"
   ]
  },
  {
   "cell_type": "markdown",
   "id": "fcccb4ef",
   "metadata": {},
   "source": [
    "## 首次点击与当前点击的时间差：用户角度"
   ]
  },
  {
   "cell_type": "code",
   "execution_count": 65,
   "id": "54327d56",
   "metadata": {},
   "outputs": [],
   "source": [
    "data.sort_values(['user_id', 'context_timestamp'], inplace=True)\n",
    "\n",
    "#user_id\n",
    "subset = ['user_id', 'day']\n",
    "# 提取三列的数据\n",
    "# temp = data.loc[:,['context_timestamp', 'user_id', 'day']]\n",
    "# 用户首次点击\n",
    "temp = data.loc[:,['context_timestamp', 'user_id', 'day']].drop_duplicates(subset=subset, keep='first')\n",
    "temp.rename(columns={'context_timestamp': 'u_day_diffTime_first'}, inplace=True)"
   ]
  },
  {
   "cell_type": "code",
   "execution_count": 66,
   "id": "d2e0f63d",
   "metadata": {},
   "outputs": [],
   "source": [
    "data = pd.merge(data, temp, how='left', on=subset)"
   ]
  },
  {
   "cell_type": "code",
   "execution_count": 67,
   "id": "11d3fab7",
   "metadata": {},
   "outputs": [
    {
     "data": {
      "text/plain": [
       "(99085, 41)"
      ]
     },
     "execution_count": 67,
     "metadata": {},
     "output_type": "execute_result"
    }
   ],
   "source": [
    "data.shape # 多一列u_day_diffTime_first，首次点击的时间"
   ]
  },
  {
   "cell_type": "code",
   "execution_count": 68,
   "id": "fa45d8e1",
   "metadata": {},
   "outputs": [
    {
     "data": {
      "text/plain": [
       "0"
      ]
     },
     "execution_count": 68,
     "metadata": {},
     "output_type": "execute_result"
    }
   ],
   "source": [
    "# 首次点击与当前点击的时间差\n",
    "data['u_day_diffTime_first'] = data['context_timestamp'] - data['u_day_diffTime_first']\n",
    "del temp\n",
    "gc.collect()"
   ]
  },
  {
   "cell_type": "markdown",
   "id": "62ec8d78",
   "metadata": {},
   "source": [
    "## 最后次点击与当前点击的时间差"
   ]
  },
  {
   "cell_type": "code",
   "execution_count": 69,
   "id": "a96f544e",
   "metadata": {},
   "outputs": [
    {
     "data": {
      "text/plain": [
       "0"
      ]
     },
     "execution_count": 69,
     "metadata": {},
     "output_type": "execute_result"
    }
   ],
   "source": [
    "temp = data.loc[:,['context_timestamp', 'user_id', 'day']].drop_duplicates(subset=subset, keep='last')\n",
    "temp.rename(columns={'context_timestamp': 'u_day_diffTime_last'}, inplace=True)\n",
    "data = pd.merge(data, temp, how='left', on=subset)\n",
    "data['u_day_diffTime_last'] = data['u_day_diffTime_last'] - data['context_timestamp']\n",
    "del temp\n",
    "gc.collect()"
   ]
  },
  {
   "cell_type": "code",
   "execution_count": 70,
   "id": "d93942fc",
   "metadata": {},
   "outputs": [],
   "source": [
    "# 没有发生重复点击的，只点击过一次的，时间差均设为-1\n",
    "data.loc[~data.duplicated(subset=subset, keep=False), ['u_day_diffTime_first', 'u_day_diffTime_last']] = -1"
   ]
  },
  {
   "cell_type": "markdown",
   "id": "269abc68",
   "metadata": {},
   "source": [
    "## 点击时间差：商品角度\n",
    "商品第一次被点击，最后一次被点击"
   ]
  },
  {
   "cell_type": "code",
   "execution_count": 71,
   "id": "4d7d9d65",
   "metadata": {},
   "outputs": [],
   "source": [
    "subset = ['item_id', 'day']\n",
    "temp = data.loc[:,['context_timestamp', 'item_id', 'day']].drop_duplicates(subset=subset, keep='first')\n",
    "temp.rename(columns={'context_timestamp': 'i_day_diffTime_first'}, inplace=True)\n",
    "data = pd.merge(data, temp, how='left', on=subset)\n",
    "data['i_day_diffTime_first'] = data['context_timestamp'] - data['i_day_diffTime_first']\n",
    "del temp\n",
    "gc.collect()\n",
    "temp = data.loc[:,['context_timestamp', 'item_id', 'day']].drop_duplicates(subset=subset, keep='last')\n",
    "temp.rename(columns={'context_timestamp': 'i_day_diffTime_last'}, inplace=True)\n",
    "data = pd.merge(data, temp, how='left', on=subset)\n",
    "data['i_day_diffTime_last'] = data['i_day_diffTime_last'] - data['context_timestamp']\n",
    "del temp\n",
    "gc.collect()\n",
    "data.loc[~data.duplicated(subset=subset, keep=False), ['i_day_diffTime_first', 'i_day_diffTime_last']] = -1"
   ]
  },
  {
   "cell_type": "markdown",
   "id": "5bed0b1b",
   "metadata": {},
   "source": [
    "## 点击时间差：某用户某品牌"
   ]
  },
  {
   "cell_type": "code",
   "execution_count": 72,
   "id": "a2949a40",
   "metadata": {},
   "outputs": [],
   "source": [
    "#item_brand_id, user_id\n",
    "subset = ['item_brand_id', 'user_id', 'day']\n",
    "temp = data.loc[:,['context_timestamp', 'item_brand_id', 'user_id', 'day']].drop_duplicates(subset=subset, keep='first')\n",
    "temp.rename(columns={'context_timestamp': 'b_day_diffTime_first'}, inplace=True)\n",
    "data = pd.merge(data, temp, how='left', on=subset)\n",
    "data['b_day_diffTime_first'] = data['context_timestamp'] - data['b_day_diffTime_first']\n",
    "del temp\n",
    "gc.collect()\n",
    "temp = data.loc[:,['context_timestamp', 'item_brand_id', 'user_id', 'day']].drop_duplicates(subset=subset, keep='last')\n",
    "temp.rename(columns={'context_timestamp': 'b_day_diffTime_last'}, inplace=True)\n",
    "data = pd.merge(data, temp, how='left', on=subset)\n",
    "data['b_day_diffTime_last'] = data['b_day_diffTime_last'] - data['context_timestamp']\n",
    "del temp\n",
    "gc.collect()\n",
    "data.loc[~data.duplicated(subset=subset, keep=False), ['b_day_diffTime_first', 'b_day_diffTime_last']] = -1"
   ]
  },
  {
   "cell_type": "markdown",
   "id": "df1a93c0",
   "metadata": {},
   "source": [
    "## 点击时间差：某用户某商店"
   ]
  },
  {
   "cell_type": "code",
   "execution_count": 73,
   "id": "f7100cbb",
   "metadata": {},
   "outputs": [],
   "source": [
    "#shop_id, user_id\n",
    "subset = ['shop_id', 'user_id', 'day']\n",
    "temp = data.loc[:,['context_timestamp', 'shop_id', 'user_id', 'day']].drop_duplicates(subset=subset, keep='first')\n",
    "temp.rename(columns={'context_timestamp': 's_day_diffTime_first'}, inplace=True)\n",
    "data = pd.merge(data, temp, how='left', on=subset)\n",
    "data['s_day_diffTime_first'] = data['context_timestamp'] - data['s_day_diffTime_first']\n",
    "del temp\n",
    "gc.collect()\n",
    "temp = data.loc[:,['context_timestamp', 'shop_id', 'user_id', 'day']].drop_duplicates(subset=subset, keep='last')\n",
    "temp.rename(columns={'context_timestamp': 's_day_diffTime_last'}, inplace=True)\n",
    "data = pd.merge(data, temp, how='left', on=subset)\n",
    "data['s_day_diffTime_last'] = data['s_day_diffTime_last'] - data['context_timestamp']\n",
    "del temp\n",
    "gc.collect()\n",
    "data.loc[~data.duplicated(subset=subset, keep=False), ['s_day_diffTime_first', 's_day_diffTime_last']] = -1"
   ]
  },
  {
   "cell_type": "markdown",
   "id": "c1a70547",
   "metadata": {},
   "source": [
    "## 总结："
   ]
  },
  {
   "cell_type": "code",
   "execution_count": 74,
   "id": "cac10d63",
   "metadata": {},
   "outputs": [
    {
     "data": {
      "text/plain": [
       "(99085, 48)"
      ]
     },
     "execution_count": 74,
     "metadata": {},
     "output_type": "execute_result"
    }
   ],
   "source": [
    "data.shape"
   ]
  },
  {
   "cell_type": "code",
   "execution_count": 75,
   "id": "4086d476",
   "metadata": {},
   "outputs": [
    {
     "data": {
      "text/plain": [
       "Index(['instance_id', 'item_id', 'item_category_list', 'item_property_list',\n",
       "       'item_brand_id', 'item_city_id', 'item_price_level', 'item_sales_level',\n",
       "       'item_collected_level', 'item_pv_level', 'user_id', 'user_gender_id',\n",
       "       'user_age_level', 'user_occupation_id', 'user_star_level', 'context_id',\n",
       "       'context_timestamp', 'context_page_id', 'predict_category_property',\n",
       "       'shop_id', 'shop_review_num_level', 'shop_review_positive_rate',\n",
       "       'shop_star_level', 'shop_score_service', 'shop_score_delivery',\n",
       "       'shop_score_description', 'is_trade', 'time', 'day', 'hour', 'minute',\n",
       "       'maphour', 'mapmin', 'item_category_1', 'item_category_2',\n",
       "       'click_user_lab', 'click_user_item_lab', 'click_user_brand_lab',\n",
       "       'click_user_shop_lab', 'click_user_city_lab', 'u_day_diffTime_first',\n",
       "       'u_day_diffTime_last', 'i_day_diffTime_first', 'i_day_diffTime_last',\n",
       "       'b_day_diffTime_first', 'b_day_diffTime_last', 's_day_diffTime_first',\n",
       "       's_day_diffTime_last'],\n",
       "      dtype='object')"
      ]
     },
     "execution_count": 75,
     "metadata": {},
     "output_type": "execute_result"
    }
   ],
   "source": [
    "data.columns"
   ]
  },
  {
   "cell_type": "markdown",
   "id": "61254e8b",
   "metadata": {},
   "source": [
    "# 单特征距离上一次点击时间差"
   ]
  },
  {
   "cell_type": "code",
   "execution_count": 76,
   "id": "dcb7d6b6",
   "metadata": {},
   "outputs": [],
   "source": [
    "def lasttimeDiff(data):\n",
    "    for column in ['user_id', 'item_id']:\n",
    "        gc.collect()\n",
    "        data[column+'_lasttime_diff'] = 0\n",
    "        train_data = data[['context_timestamp', column, column+'_lasttime_diff']].values\n",
    "        lasttime_dict = {}\n",
    "        for df_list in train_data:\n",
    "            if df_list[1] not in lasttime_dict:\n",
    "                df_list[2] = -1\n",
    "                lasttime_dict[df_list[1]] = df_list[0] # 记录这个column（df_list[1]）本次时间\n",
    "            else:\n",
    "                df_list[2] = df_list[0] - lasttime_dict[df_list[1]]\n",
    "                lasttime_dict[df_list[1]] = df_list[0] # 更新这个column的本次时间\n",
    "        data[['context_timestamp', column, column+'_lasttime_diff']] = train_data\n",
    "    return data"
   ]
  },
  {
   "cell_type": "code",
   "execution_count": 77,
   "id": "9ae447e0",
   "metadata": {},
   "outputs": [
    {
     "name": "stdout",
     "output_type": "stream",
     "text": [
      "lasttimeDiff data: (99085, 50)\n"
     ]
    }
   ],
   "source": [
    "# 单特征距离上一次点击时间差\n",
    "data = lasttimeDiff(data)\n",
    "print('lasttimeDiff data:', data.shape)"
   ]
  },
  {
   "cell_type": "code",
   "execution_count": 78,
   "id": "9af7b6a9",
   "metadata": {},
   "outputs": [
    {
     "data": {
      "text/plain": [
       "Index(['instance_id', 'item_id', 'item_category_list', 'item_property_list',\n",
       "       'item_brand_id', 'item_city_id', 'item_price_level', 'item_sales_level',\n",
       "       'item_collected_level', 'item_pv_level', 'user_id', 'user_gender_id',\n",
       "       'user_age_level', 'user_occupation_id', 'user_star_level', 'context_id',\n",
       "       'context_timestamp', 'context_page_id', 'predict_category_property',\n",
       "       'shop_id', 'shop_review_num_level', 'shop_review_positive_rate',\n",
       "       'shop_star_level', 'shop_score_service', 'shop_score_delivery',\n",
       "       'shop_score_description', 'is_trade', 'time', 'day', 'hour', 'minute',\n",
       "       'maphour', 'mapmin', 'item_category_1', 'item_category_2',\n",
       "       'click_user_lab', 'click_user_item_lab', 'click_user_brand_lab',\n",
       "       'click_user_shop_lab', 'click_user_city_lab', 'u_day_diffTime_first',\n",
       "       'u_day_diffTime_last', 'i_day_diffTime_first', 'i_day_diffTime_last',\n",
       "       'b_day_diffTime_first', 'b_day_diffTime_last', 's_day_diffTime_first',\n",
       "       's_day_diffTime_last', 'user_id_lasttime_diff',\n",
       "       'item_id_lasttime_diff'],\n",
       "      dtype='object')"
      ]
     },
     "execution_count": 78,
     "metadata": {},
     "output_type": "execute_result"
    }
   ],
   "source": [
    "data.columns"
   ]
  },
  {
   "cell_type": "markdown",
   "id": "54623a39",
   "metadata": {},
   "source": [
    "# 单特征距离下一次点击时间差"
   ]
  },
  {
   "cell_type": "code",
   "execution_count": 79,
   "id": "af3a5bc3",
   "metadata": {},
   "outputs": [],
   "source": [
    "def nexttimeDiff(data):\n",
    "    for column in ['user_id', 'item_id']:\n",
    "        gc.collect()\n",
    "        data[column+'_nexttime_diff'] = 0\n",
    "        train_data = data[['context_timestamp', column, column+'_nexttime_diff']].values\n",
    "        nexttime_dict = {}\n",
    "        for df_list in train_data:\n",
    "            if df_list[1] not in nexttime_dict:\n",
    "                df_list[2] = -1\n",
    "                nexttime_dict[df_list[1]] = df_list[0]\n",
    "            else:\n",
    "                df_list[2] = nexttime_dict[df_list[1]] - df_list[0]\n",
    "                nexttime_dict[df_list[1]] = df_list[0]\n",
    "        data[['context_timestamp', column, column+'_nexttime_diff']] = train_data\n",
    "\n",
    "    return data"
   ]
  },
  {
   "cell_type": "code",
   "execution_count": 80,
   "id": "0707196e",
   "metadata": {},
   "outputs": [
    {
     "name": "stdout",
     "output_type": "stream",
     "text": [
      "lasttimeDiff data: (99085, 52)\n"
     ]
    }
   ],
   "source": [
    "# 单特征距离下一次点击时间差\n",
    "data = nexttimeDiff(data)\n",
    "print('lasttimeDiff data:', data.shape)"
   ]
  },
  {
   "cell_type": "code",
   "execution_count": 81,
   "id": "3d50d6c0",
   "metadata": {},
   "outputs": [
    {
     "data": {
      "text/plain": [
       "Index(['instance_id', 'item_id', 'item_category_list', 'item_property_list',\n",
       "       'item_brand_id', 'item_city_id', 'item_price_level', 'item_sales_level',\n",
       "       'item_collected_level', 'item_pv_level', 'user_id', 'user_gender_id',\n",
       "       'user_age_level', 'user_occupation_id', 'user_star_level', 'context_id',\n",
       "       'context_timestamp', 'context_page_id', 'predict_category_property',\n",
       "       'shop_id', 'shop_review_num_level', 'shop_review_positive_rate',\n",
       "       'shop_star_level', 'shop_score_service', 'shop_score_delivery',\n",
       "       'shop_score_description', 'is_trade', 'time', 'day', 'hour', 'minute',\n",
       "       'maphour', 'mapmin', 'item_category_1', 'item_category_2',\n",
       "       'click_user_lab', 'click_user_item_lab', 'click_user_brand_lab',\n",
       "       'click_user_shop_lab', 'click_user_city_lab', 'u_day_diffTime_first',\n",
       "       'u_day_diffTime_last', 'i_day_diffTime_first', 'i_day_diffTime_last',\n",
       "       'b_day_diffTime_first', 'b_day_diffTime_last', 's_day_diffTime_first',\n",
       "       's_day_diffTime_last', 'user_id_lasttime_diff', 'item_id_lasttime_diff',\n",
       "       'user_id_nexttime_diff', 'item_id_nexttime_diff'],\n",
       "      dtype='object')"
      ]
     },
     "execution_count": 81,
     "metadata": {},
     "output_type": "execute_result"
    }
   ],
   "source": [
    "data.columns"
   ]
  },
  {
   "cell_type": "code",
   "execution_count": 82,
   "id": "42d3df79",
   "metadata": {},
   "outputs": [
    {
     "data": {
      "text/plain": [
       "Index(['instance_id', 'day', 'click_user_lab', 'click_user_item_lab',\n",
       "       'click_user_brand_lab', 'click_user_shop_lab', 'click_user_city_lab',\n",
       "       'u_day_diffTime_first', 'u_day_diffTime_last', 'i_day_diffTime_first',\n",
       "       'i_day_diffTime_last', 'b_day_diffTime_first', 'b_day_diffTime_last',\n",
       "       's_day_diffTime_first', 's_day_diffTime_last', 'user_id_lasttime_diff',\n",
       "       'item_id_lasttime_diff', 'user_id_nexttime_diff',\n",
       "       'item_id_nexttime_diff'],\n",
       "      dtype='object')"
      ]
     },
     "execution_count": 82,
     "metadata": {},
     "output_type": "execute_result"
    }
   ],
   "source": [
    "# 旧特征：cols，不包括instance_id', 'day'\n",
    "# 得到新特征：\n",
    "data = data.drop(cols, axis=1)\n",
    "data.columns"
   ]
  },
  {
   "cell_type": "code",
   "execution_count": 83,
   "id": "8a82e295",
   "metadata": {},
   "outputs": [
    {
     "data": {
      "text/plain": [
       "(99085, 19)"
      ]
     },
     "execution_count": 83,
     "metadata": {},
     "output_type": "execute_result"
    }
   ],
   "source": [
    "data.shape"
   ]
  },
  {
   "cell_type": "code",
   "execution_count": 84,
   "id": "965bde8d",
   "metadata": {},
   "outputs": [
    {
     "name": "stdout",
     "output_type": "stream",
     "text": [
      "经过处理后,全部训练集最终维度: (99085, 19)\n",
      "经过处理后,7号数据集最终维度: (10184, 18)\n",
      "['instance_id', 'click_user_lab', 'click_user_item_lab', 'click_user_brand_lab', 'click_user_shop_lab', 'click_user_city_lab', 'u_day_diffTime_first', 'u_day_diffTime_last', 'i_day_diffTime_first', 'i_day_diffTime_last', 'b_day_diffTime_first', 'b_day_diffTime_last', 's_day_diffTime_first', 's_day_diffTime_last', 'user_id_lasttime_diff', 'item_id_lasttime_diff', 'user_id_nexttime_diff', 'item_id_nexttime_diff']\n"
     ]
    }
   ],
   "source": [
    "# 得到全部训练集\n",
    "print('经过处理后,全部训练集最终维度:', data.shape)\n",
    "data.to_csv(path+'all_02.csv', index=False)\n",
    "\n",
    "# 得到7号训练集\n",
    "data = data.loc[data.day == 7]\n",
    "data = data.drop('day', axis=1)\n",
    "print('经过处理后,7号数据集最终维度:', data.shape)\n",
    "print(data.columns.tolist())\n",
    "data.to_csv(path+'day7_02.csv', index=False)"
   ]
  }
 ],
 "metadata": {
  "kernelspec": {
   "display_name": "Python 3 (ipykernel)",
   "language": "python",
   "name": "python3"
  },
  "language_info": {
   "codemirror_mode": {
    "name": "ipython",
    "version": 3
   },
   "file_extension": ".py",
   "mimetype": "text/x-python",
   "name": "python",
   "nbconvert_exporter": "python",
   "pygments_lexer": "ipython3",
   "version": "3.8.13"
  },
  "toc": {
   "base_numbering": 1,
   "nav_menu": {},
   "number_sections": true,
   "sideBar": true,
   "skip_h1_title": false,
   "title_cell": "Table of Contents",
   "title_sidebar": "Contents",
   "toc_cell": false,
   "toc_position": {
    "height": "calc(100% - 180px)",
    "left": "10px",
    "top": "150px",
    "width": "226.511px"
   },
   "toc_section_display": true,
   "toc_window_display": true
  }
 },
 "nbformat": 4,
 "nbformat_minor": 5
}
