{
 "cells": [
  {
   "cell_type": "code",
   "execution_count": 1,
   "metadata": {},
   "outputs": [],
   "source": [
    "#coding:utf-8\n",
    "import pandas as pd\n",
    "import numpy as np\n",
    "import time\n",
    "import datetime\n",
    "import gc\n",
    "from sklearn.metrics import roc_auc_score, log_loss\n",
    "from sklearn.preprocessing import LabelEncoder,OneHotEncoder\n",
    "from scipy import sparse\n",
    "import lightgbm as lgb\n",
    "from sklearn.model_selection import GridSearchCV"
   ]
  },
  {
   "cell_type": "code",
   "execution_count": 3,
   "metadata": {},
   "outputs": [],
   "source": [
    "path = '../data/'\n",
    "data = pd.read_csv(path+\"all_final_data_11-28-12-33.csv\")"
   ]
  },
  {
   "cell_type": "code",
   "execution_count": 4,
   "metadata": {},
   "outputs": [
    {
     "data": {
      "text/plain": [
       "73"
      ]
     },
     "execution_count": 4,
     "metadata": {},
     "output_type": "execute_result"
    }
   ],
   "source": [
    "len(data.columns)"
   ]
  },
  {
   "cell_type": "code",
   "execution_count": 5,
   "metadata": {},
   "outputs": [
    {
     "data": {
      "text/plain": [
       "Index(['instance_id', 'item_id', 'item_brand_id', 'item_city_id',\n",
       "       'item_price_level', 'item_sales_level', 'item_collected_level',\n",
       "       'item_pv_level', 'user_id', 'user_gender_id', 'user_age_level',\n",
       "       'user_occupation_id', 'user_star_level', 'context_id',\n",
       "       'context_timestamp', 'context_page_id', 'shop_id',\n",
       "       'shop_review_num_level', 'shop_review_positive_rate', 'shop_star_level',\n",
       "       'shop_score_service', 'shop_score_delivery', 'shop_score_description',\n",
       "       'is_trade', 'time', 'day_x', 'hour', 'minute', 'maphour', 'mapmin',\n",
       "       'item_category_0', 'item_category_1', 'item_category_2',\n",
       "       'item_maphour_cnt_ratio', 'user_hour_cnt_ratio',\n",
       "       'user_maphour_cnt_ratio', 'same_time_expo_cnt', 'user_mean_hour',\n",
       "       'item_mean_hour', 'brand_mean_hour', 'shop_mean_hour', 'user_mean_age',\n",
       "       'item_mean_age', 'brand_mean_age', 'shop_mean_age', 'user_active_hour',\n",
       "       'user_day_active_city', 'item_day_active_user', 'shop_day_active_user',\n",
       "       'brand_day_active_user', 'item_hour_active_user',\n",
       "       'shop_hour_active_user', 'user_day_active_shop',\n",
       "       'user_day_active_brand', 'user_hour_active_brand', 'day_y',\n",
       "       'click_user_lab', 'click_user_item_lab', 'click_user_brand_lab',\n",
       "       'click_user_shop_lab', 'click_user_city_lab', 'u_day_diffTime_first',\n",
       "       'u_day_diffTime_last', 'i_day_diffTime_first', 'i_day_diffTime_last',\n",
       "       'b_day_diffTime_first', 'b_day_diffTime_last', 's_day_diffTime_first',\n",
       "       's_day_diffTime_last', 'user_id_lasttime_diff', 'item_id_lasttime_diff',\n",
       "       'user_id_nexttime_diff', 'item_id_nexttime_diff'],\n",
       "      dtype='object')"
      ]
     },
     "execution_count": 5,
     "metadata": {},
     "output_type": "execute_result"
    }
   ],
   "source": [
    "data.columns"
   ]
  },
  {
   "cell_type": "code",
   "execution_count": 6,
   "metadata": {},
   "outputs": [
    {
     "data": {
      "text/html": [
       "<div>\n",
       "<style scoped>\n",
       "    .dataframe tbody tr th:only-of-type {\n",
       "        vertical-align: middle;\n",
       "    }\n",
       "\n",
       "    .dataframe tbody tr th {\n",
       "        vertical-align: top;\n",
       "    }\n",
       "\n",
       "    .dataframe thead th {\n",
       "        text-align: right;\n",
       "    }\n",
       "</style>\n",
       "<table border=\"1\" class=\"dataframe\">\n",
       "  <thead>\n",
       "    <tr style=\"text-align: right;\">\n",
       "      <th></th>\n",
       "      <th>instance_id</th>\n",
       "    </tr>\n",
       "  </thead>\n",
       "  <tbody>\n",
       "    <tr>\n",
       "      <th>0</th>\n",
       "      <td>5.089880e+18</td>\n",
       "    </tr>\n",
       "    <tr>\n",
       "      <th>1</th>\n",
       "      <td>2.163600e+18</td>\n",
       "    </tr>\n",
       "    <tr>\n",
       "      <th>2</th>\n",
       "      <td>8.229730e+18</td>\n",
       "    </tr>\n",
       "    <tr>\n",
       "      <th>3</th>\n",
       "      <td>8.978460e+18</td>\n",
       "    </tr>\n",
       "    <tr>\n",
       "      <th>4</th>\n",
       "      <td>3.831630e+18</td>\n",
       "    </tr>\n",
       "    <tr>\n",
       "      <th>...</th>\n",
       "      <td>...</td>\n",
       "    </tr>\n",
       "    <tr>\n",
       "      <th>79263</th>\n",
       "      <td>1.000380e+18</td>\n",
       "    </tr>\n",
       "    <tr>\n",
       "      <th>79264</th>\n",
       "      <td>9.126350e+18</td>\n",
       "    </tr>\n",
       "    <tr>\n",
       "      <th>79265</th>\n",
       "      <td>1.583620e+18</td>\n",
       "    </tr>\n",
       "    <tr>\n",
       "      <th>79266</th>\n",
       "      <td>4.525820e+18</td>\n",
       "    </tr>\n",
       "    <tr>\n",
       "      <th>79267</th>\n",
       "      <td>3.920650e+18</td>\n",
       "    </tr>\n",
       "  </tbody>\n",
       "</table>\n",
       "<p>79268 rows × 1 columns</p>\n",
       "</div>"
      ],
      "text/plain": [
       "        instance_id\n",
       "0      5.089880e+18\n",
       "1      2.163600e+18\n",
       "2      8.229730e+18\n",
       "3      8.978460e+18\n",
       "4      3.831630e+18\n",
       "...             ...\n",
       "79263  1.000380e+18\n",
       "79264  9.126350e+18\n",
       "79265  1.583620e+18\n",
       "79266  4.525820e+18\n",
       "79267  3.920650e+18\n",
       "\n",
       "[79268 rows x 1 columns]"
      ]
     },
     "execution_count": 6,
     "metadata": {},
     "output_type": "execute_result"
    }
   ],
   "source": [
    "train = pd.read_csv(path+\"train_all.csv\")\n",
    "train = train[['instance_id']]\n",
    "train"
   ]
  },
  {
   "cell_type": "code",
   "execution_count": 7,
   "metadata": {},
   "outputs": [],
   "source": [
    "train =pd.merge(train, data, how='left', on='instance_id')"
   ]
  },
  {
   "cell_type": "code",
   "execution_count": 8,
   "metadata": {},
   "outputs": [
    {
     "data": {
      "text/html": [
       "<div>\n",
       "<style scoped>\n",
       "    .dataframe tbody tr th:only-of-type {\n",
       "        vertical-align: middle;\n",
       "    }\n",
       "\n",
       "    .dataframe tbody tr th {\n",
       "        vertical-align: top;\n",
       "    }\n",
       "\n",
       "    .dataframe thead th {\n",
       "        text-align: right;\n",
       "    }\n",
       "</style>\n",
       "<table border=\"1\" class=\"dataframe\">\n",
       "  <thead>\n",
       "    <tr style=\"text-align: right;\">\n",
       "      <th></th>\n",
       "      <th>instance_id</th>\n",
       "      <th>item_id</th>\n",
       "      <th>item_brand_id</th>\n",
       "      <th>item_city_id</th>\n",
       "      <th>item_price_level</th>\n",
       "      <th>item_sales_level</th>\n",
       "      <th>item_collected_level</th>\n",
       "      <th>item_pv_level</th>\n",
       "      <th>user_id</th>\n",
       "      <th>user_gender_id</th>\n",
       "      <th>...</th>\n",
       "      <th>i_day_diffTime_first</th>\n",
       "      <th>i_day_diffTime_last</th>\n",
       "      <th>b_day_diffTime_first</th>\n",
       "      <th>b_day_diffTime_last</th>\n",
       "      <th>s_day_diffTime_first</th>\n",
       "      <th>s_day_diffTime_last</th>\n",
       "      <th>user_id_lasttime_diff</th>\n",
       "      <th>item_id_lasttime_diff</th>\n",
       "      <th>user_id_nexttime_diff</th>\n",
       "      <th>item_id_nexttime_diff</th>\n",
       "    </tr>\n",
       "  </thead>\n",
       "  <tbody>\n",
       "    <tr>\n",
       "      <th>0</th>\n",
       "      <td>5.089880e+18</td>\n",
       "      <td>2769</td>\n",
       "      <td>5982</td>\n",
       "      <td>2</td>\n",
       "      <td>6</td>\n",
       "      <td>11</td>\n",
       "      <td>10</td>\n",
       "      <td>17</td>\n",
       "      <td>60637</td>\n",
       "      <td>0</td>\n",
       "      <td>...</td>\n",
       "      <td>-1</td>\n",
       "      <td>-1</td>\n",
       "      <td>-1</td>\n",
       "      <td>-1</td>\n",
       "      <td>-1</td>\n",
       "      <td>-1</td>\n",
       "      <td>-1</td>\n",
       "      <td>176956</td>\n",
       "      <td>-1</td>\n",
       "      <td>-176956</td>\n",
       "    </tr>\n",
       "    <tr>\n",
       "      <th>1</th>\n",
       "      <td>2.163600e+18</td>\n",
       "      <td>16242</td>\n",
       "      <td>4705</td>\n",
       "      <td>147</td>\n",
       "      <td>6</td>\n",
       "      <td>9</td>\n",
       "      <td>10</td>\n",
       "      <td>16</td>\n",
       "      <td>33155</td>\n",
       "      <td>0</td>\n",
       "      <td>...</td>\n",
       "      <td>-1</td>\n",
       "      <td>-1</td>\n",
       "      <td>-1</td>\n",
       "      <td>-1</td>\n",
       "      <td>-1</td>\n",
       "      <td>-1</td>\n",
       "      <td>-1</td>\n",
       "      <td>217323</td>\n",
       "      <td>-1</td>\n",
       "      <td>-217323</td>\n",
       "    </tr>\n",
       "    <tr>\n",
       "      <th>2</th>\n",
       "      <td>8.229730e+18</td>\n",
       "      <td>7731</td>\n",
       "      <td>5385</td>\n",
       "      <td>80</td>\n",
       "      <td>4</td>\n",
       "      <td>12</td>\n",
       "      <td>12</td>\n",
       "      <td>13</td>\n",
       "      <td>38351</td>\n",
       "      <td>0</td>\n",
       "      <td>...</td>\n",
       "      <td>-1</td>\n",
       "      <td>-1</td>\n",
       "      <td>-1</td>\n",
       "      <td>-1</td>\n",
       "      <td>-1</td>\n",
       "      <td>-1</td>\n",
       "      <td>-1</td>\n",
       "      <td>-1</td>\n",
       "      <td>-1</td>\n",
       "      <td>-1</td>\n",
       "    </tr>\n",
       "    <tr>\n",
       "      <th>3</th>\n",
       "      <td>8.978460e+18</td>\n",
       "      <td>68</td>\n",
       "      <td>3543</td>\n",
       "      <td>128</td>\n",
       "      <td>9</td>\n",
       "      <td>4</td>\n",
       "      <td>5</td>\n",
       "      <td>11</td>\n",
       "      <td>91026</td>\n",
       "      <td>0</td>\n",
       "      <td>...</td>\n",
       "      <td>-1</td>\n",
       "      <td>-1</td>\n",
       "      <td>-1</td>\n",
       "      <td>-1</td>\n",
       "      <td>-1</td>\n",
       "      <td>-1</td>\n",
       "      <td>-1</td>\n",
       "      <td>-1</td>\n",
       "      <td>-1</td>\n",
       "      <td>-1</td>\n",
       "    </tr>\n",
       "    <tr>\n",
       "      <th>4</th>\n",
       "      <td>3.831630e+18</td>\n",
       "      <td>556</td>\n",
       "      <td>6156</td>\n",
       "      <td>103</td>\n",
       "      <td>5</td>\n",
       "      <td>11</td>\n",
       "      <td>9</td>\n",
       "      <td>14</td>\n",
       "      <td>55740</td>\n",
       "      <td>0</td>\n",
       "      <td>...</td>\n",
       "      <td>-1</td>\n",
       "      <td>-1</td>\n",
       "      <td>-1</td>\n",
       "      <td>-1</td>\n",
       "      <td>-1</td>\n",
       "      <td>-1</td>\n",
       "      <td>-1</td>\n",
       "      <td>-1</td>\n",
       "      <td>-1</td>\n",
       "      <td>-1</td>\n",
       "    </tr>\n",
       "  </tbody>\n",
       "</table>\n",
       "<p>5 rows × 73 columns</p>\n",
       "</div>"
      ],
      "text/plain": [
       "    instance_id  item_id  item_brand_id  item_city_id  item_price_level  \\\n",
       "0  5.089880e+18     2769           5982             2                 6   \n",
       "1  2.163600e+18    16242           4705           147                 6   \n",
       "2  8.229730e+18     7731           5385            80                 4   \n",
       "3  8.978460e+18       68           3543           128                 9   \n",
       "4  3.831630e+18      556           6156           103                 5   \n",
       "\n",
       "   item_sales_level  item_collected_level  item_pv_level  user_id  \\\n",
       "0                11                    10             17    60637   \n",
       "1                 9                    10             16    33155   \n",
       "2                12                    12             13    38351   \n",
       "3                 4                     5             11    91026   \n",
       "4                11                     9             14    55740   \n",
       "\n",
       "   user_gender_id  ...  i_day_diffTime_first  i_day_diffTime_last  \\\n",
       "0               0  ...                    -1                   -1   \n",
       "1               0  ...                    -1                   -1   \n",
       "2               0  ...                    -1                   -1   \n",
       "3               0  ...                    -1                   -1   \n",
       "4               0  ...                    -1                   -1   \n",
       "\n",
       "   b_day_diffTime_first  b_day_diffTime_last  s_day_diffTime_first  \\\n",
       "0                    -1                   -1                    -1   \n",
       "1                    -1                   -1                    -1   \n",
       "2                    -1                   -1                    -1   \n",
       "3                    -1                   -1                    -1   \n",
       "4                    -1                   -1                    -1   \n",
       "\n",
       "   s_day_diffTime_last  user_id_lasttime_diff  item_id_lasttime_diff  \\\n",
       "0                   -1                     -1                 176956   \n",
       "1                   -1                     -1                 217323   \n",
       "2                   -1                     -1                     -1   \n",
       "3                   -1                     -1                     -1   \n",
       "4                   -1                     -1                     -1   \n",
       "\n",
       "   user_id_nexttime_diff  item_id_nexttime_diff  \n",
       "0                     -1                -176956  \n",
       "1                     -1                -217323  \n",
       "2                     -1                     -1  \n",
       "3                     -1                     -1  \n",
       "4                     -1                     -1  \n",
       "\n",
       "[5 rows x 73 columns]"
      ]
     },
     "execution_count": 8,
     "metadata": {},
     "output_type": "execute_result"
    }
   ],
   "source": [
    "train.head()"
   ]
  },
  {
   "cell_type": "code",
   "execution_count": 9,
   "metadata": {},
   "outputs": [],
   "source": [
    "def feat_select(train, test):\n",
    "  \n",
    "    features = train.drop(['is_trade', 'time', 'context_timestamp','user_id','context_id','instance_id','item_id','shop_id','item_brand_id'], axis=1).columns.tolist() #,'item_property_list','predict_category_property'\n",
    "\n",
    "    target = ['is_trade']\n",
    "\n",
    "    return features, target"
   ]
  },
  {
   "cell_type": "code",
   "execution_count": 10,
   "metadata": {},
   "outputs": [],
   "source": [
    "def lgbCV(train, test, All):\n",
    "    features, target = feat_select(train, test)\n",
    "\n",
    "    lgb_clf = lgb.LGBMClassifier(boosting_type='gbdt', num_leaves=48, max_depth=-1, learning_rate=0.05)\n",
    "    # lgb_clf = lgb.LGBMClassifier(boosting_type='gbdt', num_leaves=48, max_depth=-1, learning_rate=0.05, n_estimators=2000,\n",
    "    #                            max_bin=425, subsample_for_bin=50000, objective='binary', min_split_gain=0,\n",
    "    #                            min_child_weight=5, min_child_samples=10, subsample=1, subsample_freq=1,\n",
    "    #                            colsample_bytree=1, reg_alpha=3, reg_lambda=5, seed=1000, nthread=-1, silent=True)\n",
    "\n",
    "    lgb_model = lgb_clf.fit(train[features], train[target], eval_set=[(test[features], test[target])], early_stopping_rounds=200)\n",
    "    best_iter = lgb_model.best_iteration_ \n",
    "    \n",
    "    # 特征重要性\n",
    "    lgb_predictors = [i for i in train[features].columns]\n",
    "    lgb_feat_imp = pd.Series(lgb_model.feature_importances_, lgb_predictors).sort_values(ascending=False)\n",
    "    lgb_feat_imp.to_csv('lgb_feat_imp.csv')\n",
    "    \n",
    "    # 训练模型\n",
    "    lgb_clf.fit(train[features], train[target])\n",
    "    test['lgb_predict'] = lgb_clf.predict_proba(test[features])[:, 1]\n",
    "    lgb_loss = log_loss(test[target], test['lgb_predict'])  \n",
    "    lgb_auc = roc_auc_score(test[target], test['lgb_predict'])\n",
    "    print('Training loss: %.6f, Training AUC: %.6f' % (lgb_loss, lgb_auc))\n",
    "    \n",
    "    return best_iter,lgb_model"
   ]
  },
  {
   "cell_type": "code",
   "execution_count": 11,
   "metadata": {},
   "outputs": [],
   "source": [
    "test = pd.read_csv(path+\"test_all.csv\")\n",
    "test = test[['instance_id']]\n",
    "test = pd.merge(test, data, how='left', on='instance_id')"
   ]
  },
  {
   "cell_type": "code",
   "execution_count": 12,
   "metadata": {},
   "outputs": [
    {
     "name": "stderr",
     "output_type": "stream",
     "text": [
      "c:\\users\\hp\\downloads\\python39\\lib\\site-packages\\sklearn\\preprocessing\\_label.py:98: DataConversionWarning: A column-vector y was passed when a 1d array was expected. Please change the shape of y to (n_samples, ), for example using ravel().\n",
      "  y = column_or_1d(y, warn=True)\n",
      "c:\\users\\hp\\downloads\\python39\\lib\\site-packages\\sklearn\\preprocessing\\_label.py:133: DataConversionWarning: A column-vector y was passed when a 1d array was expected. Please change the shape of y to (n_samples, ), for example using ravel().\n",
      "  y = column_or_1d(y, warn=True)\n",
      "c:\\users\\hp\\downloads\\python39\\lib\\site-packages\\lightgbm\\sklearn.py:726: UserWarning: 'early_stopping_rounds' argument is deprecated and will be removed in a future release of LightGBM. Pass 'early_stopping()' callback via 'callbacks' argument instead.\n",
      "  _log_warning(\"'early_stopping_rounds' argument is deprecated and will be removed in a future release of LightGBM. \"\n"
     ]
    },
    {
     "name": "stdout",
     "output_type": "stream",
     "text": [
      "[1]\tvalid_0's binary_logloss: 0.0709702\n",
      "[2]\tvalid_0's binary_logloss: 0.0704636\n",
      "[3]\tvalid_0's binary_logloss: 0.0700644\n",
      "[4]\tvalid_0's binary_logloss: 0.0697108\n",
      "[5]\tvalid_0's binary_logloss: 0.0693341\n",
      "[6]\tvalid_0's binary_logloss: 0.0690558\n",
      "[7]\tvalid_0's binary_logloss: 0.0688572\n",
      "[8]\tvalid_0's binary_logloss: 0.0686793\n",
      "[9]\tvalid_0's binary_logloss: 0.06842\n",
      "[10]\tvalid_0's binary_logloss: 0.0682907\n",
      "[11]\tvalid_0's binary_logloss: 0.0680597\n",
      "[12]\tvalid_0's binary_logloss: 0.0679363\n",
      "[13]\tvalid_0's binary_logloss: 0.0678088\n",
      "[14]\tvalid_0's binary_logloss: 0.0676602\n",
      "[15]\tvalid_0's binary_logloss: 0.0674734\n",
      "[16]\tvalid_0's binary_logloss: 0.0673746\n",
      "[17]\tvalid_0's binary_logloss: 0.067247\n",
      "[18]\tvalid_0's binary_logloss: 0.0671346\n",
      "[19]\tvalid_0's binary_logloss: 0.0671356\n",
      "[20]\tvalid_0's binary_logloss: 0.0670049\n",
      "[21]\tvalid_0's binary_logloss: 0.0669854\n",
      "[22]\tvalid_0's binary_logloss: 0.0668928\n",
      "[23]\tvalid_0's binary_logloss: 0.0668362\n",
      "[24]\tvalid_0's binary_logloss: 0.0667727\n",
      "[25]\tvalid_0's binary_logloss: 0.0666973\n",
      "[26]\tvalid_0's binary_logloss: 0.066653\n",
      "[27]\tvalid_0's binary_logloss: 0.0666082\n",
      "[28]\tvalid_0's binary_logloss: 0.0665068\n",
      "[29]\tvalid_0's binary_logloss: 0.0664741\n",
      "[30]\tvalid_0's binary_logloss: 0.0664706\n",
      "[31]\tvalid_0's binary_logloss: 0.0664165\n",
      "[32]\tvalid_0's binary_logloss: 0.0663772\n",
      "[33]\tvalid_0's binary_logloss: 0.0663772\n",
      "[34]\tvalid_0's binary_logloss: 0.0663512\n",
      "[35]\tvalid_0's binary_logloss: 0.0662977\n",
      "[36]\tvalid_0's binary_logloss: 0.0663128\n",
      "[37]\tvalid_0's binary_logloss: 0.0661947\n",
      "[38]\tvalid_0's binary_logloss: 0.0661885\n",
      "[39]\tvalid_0's binary_logloss: 0.0661304\n",
      "[40]\tvalid_0's binary_logloss: 0.0660864\n",
      "[41]\tvalid_0's binary_logloss: 0.066044\n",
      "[42]\tvalid_0's binary_logloss: 0.0660627\n",
      "[43]\tvalid_0's binary_logloss: 0.0660538\n",
      "[44]\tvalid_0's binary_logloss: 0.0660284\n",
      "[45]\tvalid_0's binary_logloss: 0.065972\n",
      "[46]\tvalid_0's binary_logloss: 0.0659487\n",
      "[47]\tvalid_0's binary_logloss: 0.0659292\n",
      "[48]\tvalid_0's binary_logloss: 0.0659054\n",
      "[49]\tvalid_0's binary_logloss: 0.0658923\n",
      "[50]\tvalid_0's binary_logloss: 0.0658879\n",
      "[51]\tvalid_0's binary_logloss: 0.065863\n",
      "[52]\tvalid_0's binary_logloss: 0.0658351\n",
      "[53]\tvalid_0's binary_logloss: 0.0658053\n",
      "[54]\tvalid_0's binary_logloss: 0.0658016\n",
      "[55]\tvalid_0's binary_logloss: 0.0658087\n",
      "[56]\tvalid_0's binary_logloss: 0.0658168\n",
      "[57]\tvalid_0's binary_logloss: 0.0658152\n",
      "[58]\tvalid_0's binary_logloss: 0.0658315\n",
      "[59]\tvalid_0's binary_logloss: 0.0657938\n",
      "[60]\tvalid_0's binary_logloss: 0.065776\n",
      "[61]\tvalid_0's binary_logloss: 0.0657644\n",
      "[62]\tvalid_0's binary_logloss: 0.0657129\n",
      "[63]\tvalid_0's binary_logloss: 0.0657182\n",
      "[64]\tvalid_0's binary_logloss: 0.0657195\n",
      "[65]\tvalid_0's binary_logloss: 0.0657186\n",
      "[66]\tvalid_0's binary_logloss: 0.0657316\n",
      "[67]\tvalid_0's binary_logloss: 0.0657524\n",
      "[68]\tvalid_0's binary_logloss: 0.0657501\n",
      "[69]\tvalid_0's binary_logloss: 0.0657494\n",
      "[70]\tvalid_0's binary_logloss: 0.0657619\n",
      "[71]\tvalid_0's binary_logloss: 0.0657841\n",
      "[72]\tvalid_0's binary_logloss: 0.0657758\n",
      "[73]\tvalid_0's binary_logloss: 0.0657958\n",
      "[74]\tvalid_0's binary_logloss: 0.0658017\n",
      "[75]\tvalid_0's binary_logloss: 0.0658078\n",
      "[76]\tvalid_0's binary_logloss: 0.0658151\n",
      "[77]\tvalid_0's binary_logloss: 0.0657662\n",
      "[78]\tvalid_0's binary_logloss: 0.0657758\n",
      "[79]\tvalid_0's binary_logloss: 0.0657616\n",
      "[80]\tvalid_0's binary_logloss: 0.0657261\n",
      "[81]\tvalid_0's binary_logloss: 0.0657335\n",
      "[82]\tvalid_0's binary_logloss: 0.0657434\n",
      "[83]\tvalid_0's binary_logloss: 0.0657235\n",
      "[84]\tvalid_0's binary_logloss: 0.0657187\n",
      "[85]\tvalid_0's binary_logloss: 0.0657332\n",
      "[86]\tvalid_0's binary_logloss: 0.0657454\n",
      "[87]\tvalid_0's binary_logloss: 0.0657288\n",
      "[88]\tvalid_0's binary_logloss: 0.0657505\n",
      "[89]\tvalid_0's binary_logloss: 0.0657511\n",
      "[90]\tvalid_0's binary_logloss: 0.065741\n",
      "[91]\tvalid_0's binary_logloss: 0.0657541\n",
      "[92]\tvalid_0's binary_logloss: 0.065746\n",
      "[93]\tvalid_0's binary_logloss: 0.0657597\n",
      "[94]\tvalid_0's binary_logloss: 0.0657527\n",
      "[95]\tvalid_0's binary_logloss: 0.0657763\n",
      "[96]\tvalid_0's binary_logloss: 0.0657881\n",
      "[97]\tvalid_0's binary_logloss: 0.0657784\n",
      "[98]\tvalid_0's binary_logloss: 0.0657719\n",
      "[99]\tvalid_0's binary_logloss: 0.0657826\n",
      "[100]\tvalid_0's binary_logloss: 0.0657647\n"
     ]
    },
    {
     "name": "stderr",
     "output_type": "stream",
     "text": [
      "c:\\users\\hp\\downloads\\python39\\lib\\site-packages\\sklearn\\preprocessing\\_label.py:98: DataConversionWarning: A column-vector y was passed when a 1d array was expected. Please change the shape of y to (n_samples, ), for example using ravel().\n",
      "  y = column_or_1d(y, warn=True)\n",
      "c:\\users\\hp\\downloads\\python39\\lib\\site-packages\\sklearn\\preprocessing\\_label.py:133: DataConversionWarning: A column-vector y was passed when a 1d array was expected. Please change the shape of y to (n_samples, ), for example using ravel().\n",
      "  y = column_or_1d(y, warn=True)\n"
     ]
    },
    {
     "name": "stdout",
     "output_type": "stream",
     "text": [
      "Training loss: 0.065765, Training AUC: 0.762229\n"
     ]
    }
   ],
   "source": [
    "All = True\n",
    "best_iter, lgb_model = lgbCV(train, test, All)"
   ]
  },
  {
   "cell_type": "code",
   "execution_count": 13,
   "metadata": {},
   "outputs": [
    {
     "data": {
      "text/plain": [
       "62"
      ]
     },
     "execution_count": 13,
     "metadata": {},
     "output_type": "execute_result"
    }
   ],
   "source": [
    "best_iter"
   ]
  },
  {
   "cell_type": "code",
   "execution_count": 19,
   "metadata": {},
   "outputs": [],
   "source": [
    "features, target = feat_select(train, test)\n",
    "# test[features], test[target]\n",
    "predictions = lgb_model.predict(train[features])"
   ]
  },
  {
   "cell_type": "code",
   "execution_count": 20,
   "metadata": {},
   "outputs": [
    {
     "name": "stdout",
     "output_type": "stream",
     "text": [
      "混淆矩阵:\n",
      "[[78140     0]\n",
      " [ 1098    30]]\n"
     ]
    }
   ],
   "source": [
    "from sklearn.metrics import confusion_matrix\n",
    "actuals = train[target]\n",
    "print(\"混淆矩阵:\")\n",
    "print(confusion_matrix(actuals, predictions))"
   ]
  },
  {
   "cell_type": "code",
   "execution_count": 26,
   "metadata": {},
   "outputs": [
    {
     "data": {
      "text/plain": [
       "0    79238\n",
       "1       30\n",
       "dtype: int64"
      ]
     },
     "execution_count": 26,
     "metadata": {},
     "output_type": "execute_result"
    }
   ],
   "source": [
    "pd.DataFrame(predictions).value_counts()"
   ]
  },
  {
   "cell_type": "code",
   "execution_count": 35,
   "metadata": {},
   "outputs": [
    {
     "data": {
      "image/png": "[encoded data removed]",
      "text/plain": [
       "<Figure size 640x480 with 2 Axes>"
      ]
     },
     "metadata": {},
     "output_type": "display_data"
    }
   ],
   "source": [
    "import matplotlib.pyplot as plt\n",
    "import numpy as np\n",
    "\n",
    "classes = ['0', '1']#标签列表\n",
    "confusion_matrix = np.array(([806,22], [128,472]))#二维混淆矩阵\n",
    "\n",
    "plt.imshow(confusion_matrix, interpolation='nearest', cmap=plt.cm.Oranges)  # 按照像素显示出矩阵\n",
    "plt.title('confusion_matrix')\n",
    "plt.colorbar()\n",
    "tick_marks = np.arange(len(classes))\n",
    "plt.xticks(tick_marks, classes, rotation=0)  # 倾斜\n",
    "plt.yticks(tick_marks, classes)\n",
    "\n",
    "thresh = confusion_matrix.max() / 2.\n",
    "# iters = [[i,j] for i in range(len(classes)) for j in range((classes))]\n",
    "# ij配对，遍历矩阵迭代器\n",
    "iters = np.reshape([[[i, j] for j in range(2)] for i in range(2)], (confusion_matrix.size, 2))\n",
    "for i, j in iters:\n",
    "    plt.text(j, i, format(confusion_matrix[i, j]), va='center', ha='center')  # 显示对应的数字\n",
    "\n",
    "plt.ylabel('Real label')\n",
    "plt.xlabel('Prediction')\n",
    "plt.tight_layout()\n"
   ]
  },
  {
   "cell_type": "code",
   "execution_count": null,
   "metadata": {},
   "outputs": [],
   "source": []
  }
 ],
 "metadata": {
  "kernelspec": {
   "display_name": "Python 3 (ipykernel)",
   "language": "python",
   "name": "python3"
  },
  "language_info": {
   "codemirror_mode": {
    "name": "ipython",
    "version": 3
   },
   "file_extension": ".py",
   "mimetype": "text/x-python",
   "name": "python",
   "nbconvert_exporter": "python",
   "pygments_lexer": "ipython3",
   "version": "3.9.13"
  },
  "toc": {
   "base_numbering": 1,
   "nav_menu": {},
   "number_sections": true,
   "sideBar": true,
   "skip_h1_title": false,
   "title_cell": "Table of Contents",
   "title_sidebar": "Contents",
   "toc_cell": false,
   "toc_position": {},
   "toc_section_display": true,
   "toc_window_display": false
  }
 },
 "nbformat": 4,
 "nbformat_minor": 2
}
