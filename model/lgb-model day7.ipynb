{
 "cells": [
  {
   "cell_type": "code",
   "execution_count": 168,
   "metadata": {},
   "outputs": [],
   "source": [
    "#coding:utf-8\n",
    "import pandas as pd\n",
    "import numpy as np\n",
    "import time\n",
    "import datetime\n",
    "import gc\n",
    "from sklearn.metrics import roc_auc_score, log_loss\n",
    "from sklearn.preprocessing import LabelEncoder,OneHotEncoder\n",
    "from scipy import sparse\n",
    "import lightgbm as lgb\n",
    "from sklearn.model_selection import GridSearchCV"
   ]
  },
  {
   "cell_type": "code",
   "execution_count": 169,
   "metadata": {},
   "outputs": [],
   "source": [
    "path = '/Users/apple/Desktop/data/basicclick_data/'\n",
    "data = pd.read_csv(path+\"rate_final_data_12-01-10-41.csv\")"
   ]
  },
  {
   "cell_type": "code",
   "execution_count": 170,
   "metadata": {},
   "outputs": [
    {
     "data": {
      "text/plain": [
       "(10184, 74)"
      ]
     },
     "execution_count": 170,
     "metadata": {},
     "output_type": "execute_result"
    }
   ],
   "source": [
    "data.shape"
   ]
  },
  {
   "cell_type": "code",
   "execution_count": 171,
   "metadata": {},
   "outputs": [
    {
     "data": {
      "text/plain": [
       "74"
      ]
     },
     "execution_count": 171,
     "metadata": {},
     "output_type": "execute_result"
    }
   ],
   "source": [
    "len(data.columns)"
   ]
  },
  {
   "cell_type": "code",
   "execution_count": 172,
   "metadata": {},
   "outputs": [
    {
     "data": {
      "text/html": [
       "<div>\n",
       "<style scoped>\n",
       "    .dataframe tbody tr th:only-of-type {\n",
       "        vertical-align: middle;\n",
       "    }\n",
       "\n",
       "    .dataframe tbody tr th {\n",
       "        vertical-align: top;\n",
       "    }\n",
       "\n",
       "    .dataframe thead th {\n",
       "        text-align: right;\n",
       "    }\n",
       "</style>\n",
       "<table border=\"1\" class=\"dataframe\">\n",
       "  <thead>\n",
       "    <tr style=\"text-align: right;\">\n",
       "      <th></th>\n",
       "      <th>instance_id</th>\n",
       "    </tr>\n",
       "  </thead>\n",
       "  <tbody>\n",
       "    <tr>\n",
       "      <th>0</th>\n",
       "      <td>7.608450e+18</td>\n",
       "    </tr>\n",
       "    <tr>\n",
       "      <th>1</th>\n",
       "      <td>4.572110e+18</td>\n",
       "    </tr>\n",
       "    <tr>\n",
       "      <th>2</th>\n",
       "      <td>8.091750e+18</td>\n",
       "    </tr>\n",
       "    <tr>\n",
       "      <th>3</th>\n",
       "      <td>7.251110e+18</td>\n",
       "    </tr>\n",
       "    <tr>\n",
       "      <th>4</th>\n",
       "      <td>5.545850e+18</td>\n",
       "    </tr>\n",
       "    <tr>\n",
       "      <th>...</th>\n",
       "      <td>...</td>\n",
       "    </tr>\n",
       "    <tr>\n",
       "      <th>8142</th>\n",
       "      <td>5.568580e+18</td>\n",
       "    </tr>\n",
       "    <tr>\n",
       "      <th>8143</th>\n",
       "      <td>2.780010e+18</td>\n",
       "    </tr>\n",
       "    <tr>\n",
       "      <th>8144</th>\n",
       "      <td>2.230740e+18</td>\n",
       "    </tr>\n",
       "    <tr>\n",
       "      <th>8145</th>\n",
       "      <td>2.144820e+18</td>\n",
       "    </tr>\n",
       "    <tr>\n",
       "      <th>8146</th>\n",
       "      <td>4.874260e+18</td>\n",
       "    </tr>\n",
       "  </tbody>\n",
       "</table>\n",
       "<p>8147 rows × 1 columns</p>\n",
       "</div>"
      ],
      "text/plain": [
       "       instance_id\n",
       "0     7.608450e+18\n",
       "1     4.572110e+18\n",
       "2     8.091750e+18\n",
       "3     7.251110e+18\n",
       "4     5.545850e+18\n",
       "...            ...\n",
       "8142  5.568580e+18\n",
       "8143  2.780010e+18\n",
       "8144  2.230740e+18\n",
       "8145  2.144820e+18\n",
       "8146  4.874260e+18\n",
       "\n",
       "[8147 rows x 1 columns]"
      ]
     },
     "execution_count": 172,
     "metadata": {},
     "output_type": "execute_result"
    }
   ],
   "source": [
    "train = pd.read_csv(path+\"train_day7.csv\")\n",
    "train = train[['instance_id']]\n",
    "train"
   ]
  },
  {
   "cell_type": "code",
   "execution_count": 173,
   "metadata": {},
   "outputs": [],
   "source": [
    "# 合并时指定左右键，确保两边的键相同\n",
    "train = pd.merge(train, data, how='left', left_on='instance_id', right_on='instance_id')\n"
   ]
  },
  {
   "cell_type": "code",
   "execution_count": 174,
   "metadata": {},
   "outputs": [],
   "source": [
    "train = train.drop('day_y', axis=1)\n",
    "train = train.drop('is_trade_y', axis=1)\n",
    "train = train.rename(columns={'day_x': 'day'})\n",
    "train = train.rename(columns={'is_trade_x': 'is_trade'})"
   ]
  },
  {
   "cell_type": "code",
   "execution_count": 176,
   "metadata": {},
   "outputs": [
    {
     "data": {
      "text/plain": [
       "Index(['instance_id', 'item_id', 'item_brand_id', 'item_city_id',\n",
       "       'item_price_level', 'item_sales_level', 'item_collected_level',\n",
       "       'item_pv_level', 'user_id', 'user_gender_id', 'user_age_level',\n",
       "       'user_occupation_id', 'user_star_level', 'context_id',\n",
       "       'context_timestamp', 'context_page_id', 'shop_id',\n",
       "       'shop_review_num_level', 'shop_review_positive_rate', 'shop_star_level',\n",
       "       'shop_score_service', 'shop_score_delivery', 'shop_score_description',\n",
       "       'is_trade', 'time', 'day', 'hour', 'minute', 'maphour', 'mapmin',\n",
       "       'item_category_0', 'item_category_1', 'item_category_2',\n",
       "       'item_maphour_cnt_ratio', 'user_hour_cnt_ratio',\n",
       "       'user_maphour_cnt_ratio', 'same_time_expo_cnt', 'user_mean_hour',\n",
       "       'item_mean_hour', 'brand_mean_hour', 'shop_mean_hour', 'user_mean_age',\n",
       "       'item_mean_age', 'brand_mean_age', 'shop_mean_age', 'user_active_hour',\n",
       "       'user_day_active_city', 'item_day_active_user', 'shop_day_active_user',\n",
       "       'brand_day_active_user', 'item_hour_active_user',\n",
       "       'shop_hour_active_user', 'user_day_active_shop',\n",
       "       'user_day_active_brand', 'user_hour_active_brand', 'click_user_lab',\n",
       "       'click_user_item_lab', 'click_user_brand_lab', 'click_user_shop_lab',\n",
       "       'click_user_city_lab', 'u_day_diffTime_first', 'u_day_diffTime_last',\n",
       "       'i_day_diffTime_first', 'i_day_diffTime_last', 'b_day_diffTime_first',\n",
       "       'b_day_diffTime_last', 's_day_diffTime_first', 's_day_diffTime_last',\n",
       "       'user_id_lasttime_diff', 'item_id_lasttime_diff',\n",
       "       'user_id_nexttime_diff', 'item_id_nexttime_diff'],\n",
       "      dtype='object')"
      ]
     },
     "execution_count": 176,
     "metadata": {},
     "output_type": "execute_result"
    }
   ],
   "source": [
    "train.columns"
   ]
  },
  {
   "cell_type": "code",
   "execution_count": 177,
   "metadata": {},
   "outputs": [],
   "source": [
    "def feat_select(train, test):\n",
    "  \n",
    "    features = train.drop(['is_trade', 'time', 'day','context_timestamp','user_id','context_id','instance_id','item_id','shop_id','item_brand_id'], axis=1).columns.tolist() #,'item_property_list','predict_category_property'\n",
    "\n",
    "    target = ['is_trade']\n",
    "\n",
    "    return features, target"
   ]
  },
  {
   "cell_type": "code",
   "execution_count": 178,
   "metadata": {},
   "outputs": [],
   "source": [
    "def lgbCV(train, test, All):\n",
    "    features, target = feat_select(train, test)\n",
    "\n",
    "    lgb_clf = lgb.LGBMClassifier(boosting_type='gbdt', num_leaves=48, max_depth=-1, learning_rate=0.05)\n",
    "    # lgb_clf = lgb.LGBMClassifier(boosting_type='gbdt', num_leaves=48, max_depth=-1, learning_rate=0.05, n_estimators=2000,\n",
    "    #                            max_bin=425, subsample_for_bin=50000, objective='binary', min_split_gain=0,\n",
    "    #                            min_child_weight=5, min_child_samples=10, subsample=1, subsample_freq=1,\n",
    "    #                            colsample_bytree=1, reg_alpha=3, reg_lambda=5, seed=1000, nthread=-1, silent=True)\n",
    "\n",
    "    lgb_model = lgb_clf.fit(train[features], train[target], eval_set=[(test[features], test[target])])\n",
    "    best_iter = lgb_model.best_iteration_ \n",
    "    \n",
    "    # 特征重要性\n",
    "    lgb_predictors = [i for i in train[features].columns]\n",
    "    lgb_feat_imp = pd.Series(lgb_model.feature_importances_, lgb_predictors).sort_values(ascending=False)\n",
    "    lgb_feat_imp.to_csv('lgb_feat_imp_day7.csv')\n",
    "    \n",
    "    # 训练模型\n",
    "    lgb_clf.fit(train[features], train[target])\n",
    "    test['lgb_predict'] = lgb_clf.predict_proba(test[features])[:, 1]\n",
    "    lgb_loss = log_loss(test[target], test['lgb_predict'])  \n",
    "    lgb_auc = roc_auc_score(test[target], test['lgb_predict'])\n",
    "    print('Training loss: %.6f, Training AUC: %.6f' % (lgb_loss, lgb_auc))\n",
    "    \n",
    "    return best_iter,lgb_loss"
   ]
  },
  {
   "cell_type": "code",
   "execution_count": 179,
   "metadata": {},
   "outputs": [],
   "source": [
    "test = pd.read_csv(path+\"test_day7.csv\")\n",
    "test = test[['instance_id']]\n",
    "test = pd.merge(test, data, how='left', on='instance_id')"
   ]
  },
  {
   "cell_type": "code",
   "execution_count": 180,
   "metadata": {},
   "outputs": [],
   "source": [
    "\n",
    "test = test.drop('day_y', axis=1)\n",
    "test = test.drop('is_trade_y', axis=1)\n",
    "test = test.rename(columns={'day_x': 'day'})\n",
    "test = test.rename(columns={'is_trade_x': 'is_trade'})"
   ]
  },
  {
   "cell_type": "code",
   "execution_count": 181,
   "metadata": {},
   "outputs": [
    {
     "data": {
      "text/plain": [
       "Index(['instance_id', 'item_id', 'item_brand_id', 'item_city_id',\n",
       "       'item_price_level', 'item_sales_level', 'item_collected_level',\n",
       "       'item_pv_level', 'user_id', 'user_gender_id', 'user_age_level',\n",
       "       'user_occupation_id', 'user_star_level', 'context_id',\n",
       "       'context_timestamp', 'context_page_id', 'shop_id',\n",
       "       'shop_review_num_level', 'shop_review_positive_rate', 'shop_star_level',\n",
       "       'shop_score_service', 'shop_score_delivery', 'shop_score_description',\n",
       "       'is_trade', 'time', 'day', 'hour', 'minute', 'maphour', 'mapmin',\n",
       "       'item_category_0', 'item_category_1', 'item_category_2',\n",
       "       'item_maphour_cnt_ratio', 'user_hour_cnt_ratio',\n",
       "       'user_maphour_cnt_ratio', 'same_time_expo_cnt', 'user_mean_hour',\n",
       "       'item_mean_hour', 'brand_mean_hour', 'shop_mean_hour', 'user_mean_age',\n",
       "       'item_mean_age', 'brand_mean_age', 'shop_mean_age', 'user_active_hour',\n",
       "       'user_day_active_city', 'item_day_active_user', 'shop_day_active_user',\n",
       "       'brand_day_active_user', 'item_hour_active_user',\n",
       "       'shop_hour_active_user', 'user_day_active_shop',\n",
       "       'user_day_active_brand', 'user_hour_active_brand', 'click_user_lab',\n",
       "       'click_user_item_lab', 'click_user_brand_lab', 'click_user_shop_lab',\n",
       "       'click_user_city_lab', 'u_day_diffTime_first', 'u_day_diffTime_last',\n",
       "       'i_day_diffTime_first', 'i_day_diffTime_last', 'b_day_diffTime_first',\n",
       "       'b_day_diffTime_last', 's_day_diffTime_first', 's_day_diffTime_last',\n",
       "       'user_id_lasttime_diff', 'item_id_lasttime_diff',\n",
       "       'user_id_nexttime_diff', 'item_id_nexttime_diff'],\n",
       "      dtype='object')"
      ]
     },
     "execution_count": 181,
     "metadata": {},
     "output_type": "execute_result"
    }
   ],
   "source": [
    "test.columns"
   ]
  },
  {
   "cell_type": "code",
   "execution_count": 182,
   "metadata": {},
   "outputs": [
    {
     "name": "stderr",
     "output_type": "stream",
     "text": [
      "/Users/apple/opt/anaconda3/lib/python3.8/site-packages/sklearn/preprocessing/_label.py:97: DataConversionWarning: A column-vector y was passed when a 1d array was expected. Please change the shape of y to (n_samples, ), for example using ravel().\n",
      "  y = column_or_1d(y, warn=True)\n",
      "/Users/apple/opt/anaconda3/lib/python3.8/site-packages/sklearn/preprocessing/_label.py:132: DataConversionWarning: A column-vector y was passed when a 1d array was expected. Please change the shape of y to (n_samples, ), for example using ravel().\n",
      "  y = column_or_1d(y, dtype=self.classes_.dtype, warn=True)\n",
      "/Users/apple/opt/anaconda3/lib/python3.8/site-packages/sklearn/preprocessing/_label.py:132: DataConversionWarning: A column-vector y was passed when a 1d array was expected. Please change the shape of y to (n_samples, ), for example using ravel().\n",
      "  y = column_or_1d(y, dtype=self.classes_.dtype, warn=True)\n"
     ]
    },
    {
     "name": "stdout",
     "output_type": "stream",
     "text": [
      "[LightGBM] [Info] Number of positive: 366, number of negative: 7781\n",
      "[LightGBM] [Info] Auto-choosing col-wise multi-threading, the overhead of testing was 0.003156 seconds.\n",
      "You can set `force_col_wise=true` to remove the overhead.\n",
      "[LightGBM] [Info] Total Bins 3185\n",
      "[LightGBM] [Info] Number of data points in the train set: 8147, number of used features: 56\n",
      "[LightGBM] [Info] [binary:BoostFromScore]: pavg=0.044925 -> initscore=-3.056807\n",
      "[LightGBM] [Info] Start training from score -3.056807\n"
     ]
    },
    {
     "name": "stderr",
     "output_type": "stream",
     "text": [
      "/Users/apple/opt/anaconda3/lib/python3.8/site-packages/sklearn/preprocessing/_label.py:97: DataConversionWarning: A column-vector y was passed when a 1d array was expected. Please change the shape of y to (n_samples, ), for example using ravel().\n",
      "  y = column_or_1d(y, warn=True)\n",
      "/Users/apple/opt/anaconda3/lib/python3.8/site-packages/sklearn/preprocessing/_label.py:132: DataConversionWarning: A column-vector y was passed when a 1d array was expected. Please change the shape of y to (n_samples, ), for example using ravel().\n",
      "  y = column_or_1d(y, dtype=self.classes_.dtype, warn=True)\n"
     ]
    },
    {
     "name": "stdout",
     "output_type": "stream",
     "text": [
      "[LightGBM] [Info] Number of positive: 366, number of negative: 7781\n",
      "[LightGBM] [Info] Auto-choosing col-wise multi-threading, the overhead of testing was 0.003134 seconds.\n",
      "You can set `force_col_wise=true` to remove the overhead.\n",
      "[LightGBM] [Info] Total Bins 3185\n",
      "[LightGBM] [Info] Number of data points in the train set: 8147, number of used features: 56\n",
      "[LightGBM] [Info] [binary:BoostFromScore]: pavg=0.044925 -> initscore=-3.056807\n",
      "[LightGBM] [Info] Start training from score -3.056807\n",
      "Training loss: 0.181858, Training AUC: 0.579639\n"
     ]
    }
   ],
   "source": [
    "All = True\n",
    "best_iter, lgb_loss = lgbCV(train, test, All)"
   ]
  },
  {
   "cell_type": "code",
   "execution_count": 183,
   "metadata": {},
   "outputs": [
    {
     "data": {
      "text/plain": [
       "0"
      ]
     },
     "execution_count": 183,
     "metadata": {},
     "output_type": "execute_result"
    }
   ],
   "source": [
    "best_iter"
   ]
  },
  {
   "cell_type": "code",
   "execution_count": 184,
   "metadata": {},
   "outputs": [
    {
     "data": {
      "text/plain": [
       "0.18185776702447454"
      ]
     },
     "execution_count": 184,
     "metadata": {},
     "output_type": "execute_result"
    }
   ],
   "source": [
    "lgb_loss"
   ]
  },
  {
   "cell_type": "code",
   "execution_count": null,
   "metadata": {},
   "outputs": [],
   "source": []
  }
 ],
 "metadata": {
  "kernelspec": {
   "display_name": "Python 3",
   "language": "python",
   "name": "python3"
  },
  "language_info": {
   "codemirror_mode": {
    "name": "ipython",
    "version": 3
   },
   "file_extension": ".py",
   "mimetype": "text/x-python",
   "name": "python",
   "nbconvert_exporter": "python",
   "pygments_lexer": "ipython3",
   "version": "3.8.13"
  }
 },
 "nbformat": 4,
 "nbformat_minor": 2
}
