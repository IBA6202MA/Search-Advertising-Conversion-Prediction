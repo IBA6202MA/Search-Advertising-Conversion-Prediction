{
 "cells": [
  {
   "cell_type": "code",
   "execution_count": 33,
   "metadata": {},
   "outputs": [],
   "source": [
    "#coding:utf-8\n",
    "import pandas as pd\n",
    "import numpy as np\n",
    "import time\n",
    "import datetime\n",
    "import gc\n",
    "from sklearn.metrics import roc_auc_score, log_loss\n",
    "from sklearn.preprocessing import LabelEncoder,OneHotEncoder\n",
    "from scipy import sparse\n",
    "import lightgbm as lgb\n",
    "from sklearn.model_selection import GridSearchCV"
   ]
  },
  {
   "cell_type": "code",
   "execution_count": 34,
   "metadata": {},
   "outputs": [],
   "source": [
    "path = '/Users/apple/Desktop/data/new/'\n",
    "data = pd.read_csv(path+\"rate_final_data_12-01-11-28.csv\")"
   ]
  },
  {
   "cell_type": "code",
   "execution_count": 35,
   "metadata": {},
   "outputs": [
    {
     "data": {
      "text/plain": [
       "(107783, 74)"
      ]
     },
     "execution_count": 35,
     "metadata": {},
     "output_type": "execute_result"
    }
   ],
   "source": [
    "data.shape"
   ]
  },
  {
   "cell_type": "code",
   "execution_count": 36,
   "metadata": {},
   "outputs": [
    {
     "data": {
      "text/plain": [
       "74"
      ]
     },
     "execution_count": 36,
     "metadata": {},
     "output_type": "execute_result"
    }
   ],
   "source": [
    "len(data.columns)"
   ]
  },
  {
   "cell_type": "code",
   "execution_count": 37,
   "metadata": {},
   "outputs": [
    {
     "data": {
      "text/html": [
       "<div>\n",
       "<style scoped>\n",
       "    .dataframe tbody tr th:only-of-type {\n",
       "        vertical-align: middle;\n",
       "    }\n",
       "\n",
       "    .dataframe tbody tr th {\n",
       "        vertical-align: top;\n",
       "    }\n",
       "\n",
       "    .dataframe thead th {\n",
       "        text-align: right;\n",
       "    }\n",
       "</style>\n",
       "<table border=\"1\" class=\"dataframe\">\n",
       "  <thead>\n",
       "    <tr style=\"text-align: right;\">\n",
       "      <th></th>\n",
       "      <th>instance_id</th>\n",
       "    </tr>\n",
       "  </thead>\n",
       "  <tbody>\n",
       "    <tr>\n",
       "      <th>0</th>\n",
       "      <td>8188426453186991303</td>\n",
       "    </tr>\n",
       "    <tr>\n",
       "      <th>1</th>\n",
       "      <td>3055029702117669227</td>\n",
       "    </tr>\n",
       "    <tr>\n",
       "      <th>2</th>\n",
       "      <td>1878633151450315841</td>\n",
       "    </tr>\n",
       "    <tr>\n",
       "      <th>3</th>\n",
       "      <td>5459525893214430925</td>\n",
       "    </tr>\n",
       "    <tr>\n",
       "      <th>4</th>\n",
       "      <td>510266929751254521</td>\n",
       "    </tr>\n",
       "    <tr>\n",
       "      <th>...</th>\n",
       "      <td>...</td>\n",
       "    </tr>\n",
       "    <tr>\n",
       "      <th>86221</th>\n",
       "      <td>7094392840348381260</td>\n",
       "    </tr>\n",
       "    <tr>\n",
       "      <th>86222</th>\n",
       "      <td>8547491895146613484</td>\n",
       "    </tr>\n",
       "    <tr>\n",
       "      <th>86223</th>\n",
       "      <td>306961936423539992</td>\n",
       "    </tr>\n",
       "    <tr>\n",
       "      <th>86224</th>\n",
       "      <td>2587524758236247792</td>\n",
       "    </tr>\n",
       "    <tr>\n",
       "      <th>86225</th>\n",
       "      <td>8222185387326004043</td>\n",
       "    </tr>\n",
       "  </tbody>\n",
       "</table>\n",
       "<p>86226 rows × 1 columns</p>\n",
       "</div>"
      ],
      "text/plain": [
       "               instance_id\n",
       "0      8188426453186991303\n",
       "1      3055029702117669227\n",
       "2      1878633151450315841\n",
       "3      5459525893214430925\n",
       "4       510266929751254521\n",
       "...                    ...\n",
       "86221  7094392840348381260\n",
       "86222  8547491895146613484\n",
       "86223   306961936423539992\n",
       "86224  2587524758236247792\n",
       "86225  8222185387326004043\n",
       "\n",
       "[86226 rows x 1 columns]"
      ]
     },
     "execution_count": 37,
     "metadata": {},
     "output_type": "execute_result"
    }
   ],
   "source": [
    "train = pd.read_csv(path+\"train_day7.csv\")\n",
    "train = train[['instance_id']]\n",
    "train"
   ]
  },
  {
   "cell_type": "code",
   "execution_count": 38,
   "metadata": {},
   "outputs": [],
   "source": [
    "# 合并时指定左右键，确保两边的键相同\n",
    "train = pd.merge(train, data, how='left', left_on='instance_id', right_on='instance_id')\n"
   ]
  },
  {
   "cell_type": "code",
   "execution_count": 39,
   "metadata": {},
   "outputs": [],
   "source": [
    "train = train.drop('day_y', axis=1)\n",
    "train = train.drop('is_trade_y', axis=1)\n",
    "train = train.rename(columns={'day_x': 'day'})\n",
    "train = train.rename(columns={'is_trade_x': 'is_trade'})"
   ]
  },
  {
   "cell_type": "code",
   "execution_count": 40,
   "metadata": {},
   "outputs": [
    {
     "data": {
      "text/plain": [
       "Index(['instance_id', 'item_id', 'item_brand_id', 'item_city_id',\n",
       "       'item_price_level', 'item_sales_level', 'item_collected_level',\n",
       "       'item_pv_level', 'user_id', 'user_gender_id', 'user_age_level',\n",
       "       'user_occupation_id', 'user_star_level', 'context_id',\n",
       "       'context_timestamp', 'context_page_id', 'shop_id',\n",
       "       'shop_review_num_level', 'shop_review_positive_rate', 'shop_star_level',\n",
       "       'shop_score_service', 'shop_score_delivery', 'shop_score_description',\n",
       "       'is_trade', 'time', 'day', 'hour', 'minute', 'maphour', 'mapmin',\n",
       "       'item_category_0', 'item_category_1', 'item_category_2',\n",
       "       'item_maphour_cnt_ratio', 'user_hour_cnt_ratio',\n",
       "       'user_maphour_cnt_ratio', 'same_time_expo_cnt', 'user_mean_hour',\n",
       "       'item_mean_hour', 'brand_mean_hour', 'shop_mean_hour', 'user_mean_age',\n",
       "       'item_mean_age', 'brand_mean_age', 'shop_mean_age', 'user_active_hour',\n",
       "       'user_day_active_city', 'item_day_active_user', 'shop_day_active_user',\n",
       "       'brand_day_active_user', 'item_hour_active_user',\n",
       "       'shop_hour_active_user', 'user_day_active_shop',\n",
       "       'user_day_active_brand', 'user_hour_active_brand', 'click_user_lab',\n",
       "       'click_user_item_lab', 'click_user_brand_lab', 'click_user_shop_lab',\n",
       "       'click_user_city_lab', 'u_day_diffTime_first', 'u_day_diffTime_last',\n",
       "       'i_day_diffTime_first', 'i_day_diffTime_last', 'b_day_diffTime_first',\n",
       "       'b_day_diffTime_last', 's_day_diffTime_first', 's_day_diffTime_last',\n",
       "       'user_id_lasttime_diff', 'item_id_lasttime_diff',\n",
       "       'user_id_nexttime_diff', 'item_id_nexttime_diff'],\n",
       "      dtype='object')"
      ]
     },
     "execution_count": 40,
     "metadata": {},
     "output_type": "execute_result"
    }
   ],
   "source": [
    "train.columns"
   ]
  },
  {
   "cell_type": "code",
   "execution_count": 41,
   "metadata": {},
   "outputs": [],
   "source": [
    "def feat_select(train, test):\n",
    "  \n",
    "    features = train.drop(['is_trade', 'time', 'day','context_timestamp','user_id','context_id','instance_id','item_id','shop_id','item_brand_id'], axis=1).columns.tolist() #,'item_property_list','predict_category_property'\n",
    "\n",
    "    target = ['is_trade']\n",
    "\n",
    "    return features, target"
   ]
  },
  {
   "cell_type": "code",
   "execution_count": 42,
   "metadata": {},
   "outputs": [],
   "source": [
    "def lgbCV(train, test, All):\n",
    "    features, target = feat_select(train, test)\n",
    "\n",
    "    lgb_clf = lgb.LGBMClassifier(boosting_type='gbdt', num_leaves=48, max_depth=-1, learning_rate=0.05)\n",
    "    # lgb_clf = lgb.LGBMClassifier(boosting_type='gbdt', num_leaves=48, max_depth=-1, learning_rate=0.05, n_estimators=2000,\n",
    "    #                            max_bin=425, subsample_for_bin=50000, objective='binary', min_split_gain=0,\n",
    "    #                            min_child_weight=5, min_child_samples=10, subsample=1, subsample_freq=1,\n",
    "    #                            colsample_bytree=1, reg_alpha=3, reg_lambda=5, seed=1000, nthread=-1, silent=True)\n",
    "\n",
    "    lgb_model = lgb_clf.fit(train[features], train[target], eval_set=[(test[features], test[target])])\n",
    "    best_iter = lgb_model.best_iteration_ \n",
    "    \n",
    "    # 特征重要性\n",
    "    lgb_predictors = [i for i in train[features].columns]\n",
    "    lgb_feat_imp = pd.Series(lgb_model.feature_importances_, lgb_predictors).sort_values(ascending=False)\n",
    "    lgb_feat_imp.to_csv(path+'lgb_feat_imp_day7_10w.csv')\n",
    "    \n",
    "    # 训练模型\n",
    "    lgb_clf.fit(train[features], train[target])\n",
    "    test['lgb_predict'] = lgb_clf.predict_proba(test[features])[:, 1]\n",
    "    lgb_loss = log_loss(test[target], test['lgb_predict'])  \n",
    "    lgb_auc = roc_auc_score(test[target], test['lgb_predict'])\n",
    "    print('Training loss: %.6f, Training AUC: %.6f' % (lgb_loss, lgb_auc))\n",
    "    \n",
    "    return best_iter,lgb_loss"
   ]
  },
  {
   "cell_type": "code",
   "execution_count": 43,
   "metadata": {},
   "outputs": [],
   "source": [
    "test = pd.read_csv(path+\"test_day7.csv\")\n",
    "test = test[['instance_id']]\n",
    "test = pd.merge(test, data, how='left', on='instance_id')"
   ]
  },
  {
   "cell_type": "code",
   "execution_count": 44,
   "metadata": {},
   "outputs": [],
   "source": [
    "\n",
    "test = test.drop('day_y', axis=1)\n",
    "test = test.drop('is_trade_y', axis=1)\n",
    "test = test.rename(columns={'day_x': 'day'})\n",
    "test = test.rename(columns={'is_trade_x': 'is_trade'})"
   ]
  },
  {
   "cell_type": "code",
   "execution_count": 45,
   "metadata": {},
   "outputs": [
    {
     "data": {
      "text/plain": [
       "Index(['instance_id', 'item_id', 'item_brand_id', 'item_city_id',\n",
       "       'item_price_level', 'item_sales_level', 'item_collected_level',\n",
       "       'item_pv_level', 'user_id', 'user_gender_id', 'user_age_level',\n",
       "       'user_occupation_id', 'user_star_level', 'context_id',\n",
       "       'context_timestamp', 'context_page_id', 'shop_id',\n",
       "       'shop_review_num_level', 'shop_review_positive_rate', 'shop_star_level',\n",
       "       'shop_score_service', 'shop_score_delivery', 'shop_score_description',\n",
       "       'is_trade', 'time', 'day', 'hour', 'minute', 'maphour', 'mapmin',\n",
       "       'item_category_0', 'item_category_1', 'item_category_2',\n",
       "       'item_maphour_cnt_ratio', 'user_hour_cnt_ratio',\n",
       "       'user_maphour_cnt_ratio', 'same_time_expo_cnt', 'user_mean_hour',\n",
       "       'item_mean_hour', 'brand_mean_hour', 'shop_mean_hour', 'user_mean_age',\n",
       "       'item_mean_age', 'brand_mean_age', 'shop_mean_age', 'user_active_hour',\n",
       "       'user_day_active_city', 'item_day_active_user', 'shop_day_active_user',\n",
       "       'brand_day_active_user', 'item_hour_active_user',\n",
       "       'shop_hour_active_user', 'user_day_active_shop',\n",
       "       'user_day_active_brand', 'user_hour_active_brand', 'click_user_lab',\n",
       "       'click_user_item_lab', 'click_user_brand_lab', 'click_user_shop_lab',\n",
       "       'click_user_city_lab', 'u_day_diffTime_first', 'u_day_diffTime_last',\n",
       "       'i_day_diffTime_first', 'i_day_diffTime_last', 'b_day_diffTime_first',\n",
       "       'b_day_diffTime_last', 's_day_diffTime_first', 's_day_diffTime_last',\n",
       "       'user_id_lasttime_diff', 'item_id_lasttime_diff',\n",
       "       'user_id_nexttime_diff', 'item_id_nexttime_diff'],\n",
       "      dtype='object')"
      ]
     },
     "execution_count": 45,
     "metadata": {},
     "output_type": "execute_result"
    }
   ],
   "source": [
    "test.columns"
   ]
  },
  {
   "cell_type": "code",
   "execution_count": 46,
   "metadata": {},
   "outputs": [
    {
     "name": "stderr",
     "output_type": "stream",
     "text": [
      "/Users/apple/opt/anaconda3/lib/python3.8/site-packages/sklearn/preprocessing/_label.py:97: DataConversionWarning: A column-vector y was passed when a 1d array was expected. Please change the shape of y to (n_samples, ), for example using ravel().\n",
      "  y = column_or_1d(y, warn=True)\n",
      "/Users/apple/opt/anaconda3/lib/python3.8/site-packages/sklearn/preprocessing/_label.py:132: DataConversionWarning: A column-vector y was passed when a 1d array was expected. Please change the shape of y to (n_samples, ), for example using ravel().\n",
      "  y = column_or_1d(y, dtype=self.classes_.dtype, warn=True)\n",
      "/Users/apple/opt/anaconda3/lib/python3.8/site-packages/sklearn/preprocessing/_label.py:132: DataConversionWarning: A column-vector y was passed when a 1d array was expected. Please change the shape of y to (n_samples, ), for example using ravel().\n",
      "  y = column_or_1d(y, dtype=self.classes_.dtype, warn=True)\n"
     ]
    },
    {
     "name": "stdout",
     "output_type": "stream",
     "text": [
      "[LightGBM] [Info] Number of positive: 3984, number of negative: 82242\n",
      "[LightGBM] [Info] Auto-choosing row-wise multi-threading, the overhead of testing was 0.009615 seconds.\n",
      "You can set `force_row_wise=true` to remove the overhead.\n",
      "And if memory is not enough, you can set `force_col_wise=true`.\n",
      "[LightGBM] [Info] Total Bins 6429\n",
      "[LightGBM] [Info] Number of data points in the train set: 86226, number of used features: 61\n",
      "[LightGBM] [Info] [binary:BoostFromScore]: pavg=0.046204 -> initscore=-3.027380\n",
      "[LightGBM] [Info] Start training from score -3.027380\n"
     ]
    },
    {
     "name": "stderr",
     "output_type": "stream",
     "text": [
      "/Users/apple/opt/anaconda3/lib/python3.8/site-packages/sklearn/preprocessing/_label.py:97: DataConversionWarning: A column-vector y was passed when a 1d array was expected. Please change the shape of y to (n_samples, ), for example using ravel().\n",
      "  y = column_or_1d(y, warn=True)\n",
      "/Users/apple/opt/anaconda3/lib/python3.8/site-packages/sklearn/preprocessing/_label.py:132: DataConversionWarning: A column-vector y was passed when a 1d array was expected. Please change the shape of y to (n_samples, ), for example using ravel().\n",
      "  y = column_or_1d(y, dtype=self.classes_.dtype, warn=True)\n"
     ]
    },
    {
     "name": "stdout",
     "output_type": "stream",
     "text": [
      "[LightGBM] [Info] Number of positive: 3984, number of negative: 82242\n",
      "[LightGBM] [Info] Auto-choosing row-wise multi-threading, the overhead of testing was 0.007176 seconds.\n",
      "You can set `force_row_wise=true` to remove the overhead.\n",
      "And if memory is not enough, you can set `force_col_wise=true`.\n",
      "[LightGBM] [Info] Total Bins 6429\n",
      "[LightGBM] [Info] Number of data points in the train set: 86226, number of used features: 61\n",
      "[LightGBM] [Info] [binary:BoostFromScore]: pavg=0.046204 -> initscore=-3.027380\n",
      "[LightGBM] [Info] Start training from score -3.027380\n",
      "Training loss: 0.180023, Training AUC: 0.672062\n"
     ]
    }
   ],
   "source": [
    "All = True\n",
    "best_iter, lgb_loss = lgbCV(train, test, All)"
   ]
  },
  {
   "cell_type": "code",
   "execution_count": 47,
   "metadata": {},
   "outputs": [
    {
     "data": {
      "text/plain": [
       "0"
      ]
     },
     "execution_count": 47,
     "metadata": {},
     "output_type": "execute_result"
    }
   ],
   "source": [
    "best_iter"
   ]
  },
  {
   "cell_type": "code",
   "execution_count": 48,
   "metadata": {},
   "outputs": [
    {
     "data": {
      "text/plain": [
       "0.18002335608933132"
      ]
     },
     "execution_count": 48,
     "metadata": {},
     "output_type": "execute_result"
    }
   ],
   "source": [
    "lgb_loss"
   ]
  },
  {
   "cell_type": "code",
   "execution_count": null,
   "metadata": {},
   "outputs": [],
   "source": []
  }
 ],
 "metadata": {
  "kernelspec": {
   "display_name": "Python 3",
   "language": "python",
   "name": "python3"
  },
  "language_info": {
   "codemirror_mode": {
    "name": "ipython",
    "version": 3
   },
   "file_extension": ".py",
   "mimetype": "text/x-python",
   "name": "python",
   "nbconvert_exporter": "python",
   "pygments_lexer": "ipython3",
   "version": "3.8.13"
  }
 },
 "nbformat": 4,
 "nbformat_minor": 2
}
