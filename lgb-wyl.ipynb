{
 "cells": [
  {
   "cell_type": "code",
   "execution_count": 71,
   "metadata": {},
   "outputs": [],
   "source": [
    "#coding:utf-8\n",
    "import pandas as pd\n",
    "import numpy as np\n",
    "import time\n",
    "import datetime\n",
    "import gc\n",
    "from sklearn.metrics import roc_auc_score, log_loss\n",
    "from sklearn.preprocessing import LabelEncoder,OneHotEncoder\n",
    "from scipy import sparse\n",
    "import lightgbm as lgb\n",
    "from sklearn.model_selection import GridSearchCV"
   ]
  },
  {
   "cell_type": "code",
   "execution_count": 72,
   "metadata": {},
   "outputs": [],
   "source": [
    "path = '/Users/apple/Desktop/data/'\n",
    "data = pd.read_csv(path+\"all_final_data_11-28-12-33.csv\")\n"
   ]
  },
  {
   "cell_type": "code",
   "execution_count": 73,
   "metadata": {},
   "outputs": [],
   "source": [
    "train = pd.read_csv(path+\"train_all.csv\")\n",
    "train = train[['instance_id']]\n",
    "train =pd.merge(train, data, how='left', on='instance_id')"
   ]
  },
  {
   "cell_type": "code",
   "execution_count": 74,
   "metadata": {},
   "outputs": [],
   "source": [
    "def feat_select(train):\n",
    "  \n",
    "    features = train.drop(['is_trade', 'time'], axis=1).columns.tolist()\n",
    "\n",
    "    target = ['is_trade']\n",
    "\n",
    "    return features, target"
   ]
  },
  {
   "cell_type": "code",
   "execution_count": 75,
   "metadata": {},
   "outputs": [],
   "source": [
    "def lgbCV(train, test):\n",
    "    features, target = feat_select(train)\n",
    "\n",
    "    lgb_clf = lgb.LGBMClassifier(boosting_type='gbdt', num_leaves=48, max_depth=-1, learning_rate=0.05)\n",
    "    # lgb_clf = lgb.LGBMClassifier(boosting_type='gbdt', num_leaves=48, max_depth=-1, learning_rate=0.05, n_estimators=2000,\n",
    "    #                            max_bin=425, subsample_for_bin=50000, objective='binary', min_split_gain=0,\n",
    "    #                            min_child_weight=5, min_child_samples=10, subsample=1, subsample_freq=1,\n",
    "    #                            colsample_bytree=1, reg_alpha=3, reg_lambda=5, seed=1000, nthread=-1, silent=True)\n",
    "\n",
    "    lgb_model = lgb_clf.fit(train[features], train[target], eval_set=[(test[features], test[target])])\n",
    "    best_iter = lgb_model.best_iteration_ \n",
    "    \n",
    "    # 特征重要性\n",
    "    lgb_predictors = [i for i in train[features].columns]\n",
    "    lgb_feat_imp = pd.Series(lgb_model.feature_importances_, lgb_predictors).sort_values(ascending=False)\n",
    "    lgb_feat_imp.to_csv(path+'lgb_feat_imp.csv')\n",
    "    \n",
    "    # 训练模型\n",
    "    lgb_clf.fit(train[features], train[target])\n",
    "    test['lgb_predict'] = lgb_clf.predict_proba(test[features])[:, 1]\n",
    "    lgb_loss = log_loss(test[target], test['lgb_predict'])  \n",
    "    lgb_auc = roc_auc_score(test[target], test['lgb_predict'])\n",
    "    print('Training loss: %.6f, Training AUC: %.6f' % (lgb_loss, lgb_auc))\n",
    "    \n",
    "    return best_iter,lgb_loss"
   ]
  },
  {
   "cell_type": "code",
   "execution_count": 76,
   "metadata": {},
   "outputs": [],
   "source": [
    "test = pd.read_csv(path+\"test_all.csv\")\n",
    "test = test[['instance_id']]\n",
    "test = pd.merge(test, data, how='left', on='instance_id')"
   ]
  },
  {
   "cell_type": "code",
   "execution_count": 77,
   "metadata": {},
   "outputs": [
    {
     "name": "stderr",
     "output_type": "stream",
     "text": [
      "/Users/apple/opt/anaconda3/lib/python3.8/site-packages/sklearn/preprocessing/_label.py:97: DataConversionWarning: A column-vector y was passed when a 1d array was expected. Please change the shape of y to (n_samples, ), for example using ravel().\n",
      "  y = column_or_1d(y, warn=True)\n",
      "/Users/apple/opt/anaconda3/lib/python3.8/site-packages/sklearn/preprocessing/_label.py:132: DataConversionWarning: A column-vector y was passed when a 1d array was expected. Please change the shape of y to (n_samples, ), for example using ravel().\n",
      "  y = column_or_1d(y, dtype=self.classes_.dtype, warn=True)\n",
      "/Users/apple/opt/anaconda3/lib/python3.8/site-packages/sklearn/preprocessing/_label.py:132: DataConversionWarning: A column-vector y was passed when a 1d array was expected. Please change the shape of y to (n_samples, ), for example using ravel().\n",
      "  y = column_or_1d(y, dtype=self.classes_.dtype, warn=True)\n"
     ]
    },
    {
     "name": "stdout",
     "output_type": "stream",
     "text": [
      "[LightGBM] [Info] Number of positive: 1128, number of negative: 78140\n",
      "[LightGBM] [Info] Auto-choosing row-wise multi-threading, the overhead of testing was 0.007373 seconds.\n",
      "You can set `force_row_wise=true` to remove the overhead.\n",
      "And if memory is not enough, you can set `force_col_wise=true`.\n",
      "[LightGBM] [Info] Total Bins 7020\n",
      "[LightGBM] [Info] Number of data points in the train set: 79268, number of used features: 70\n",
      "[LightGBM] [Info] [binary:BoostFromScore]: pavg=0.014230 -> initscore=-4.238056\n",
      "[LightGBM] [Info] Start training from score -4.238056\n"
     ]
    },
    {
     "name": "stderr",
     "output_type": "stream",
     "text": [
      "/Users/apple/opt/anaconda3/lib/python3.8/site-packages/sklearn/preprocessing/_label.py:97: DataConversionWarning: A column-vector y was passed when a 1d array was expected. Please change the shape of y to (n_samples, ), for example using ravel().\n",
      "  y = column_or_1d(y, warn=True)\n",
      "/Users/apple/opt/anaconda3/lib/python3.8/site-packages/sklearn/preprocessing/_label.py:132: DataConversionWarning: A column-vector y was passed when a 1d array was expected. Please change the shape of y to (n_samples, ), for example using ravel().\n",
      "  y = column_or_1d(y, dtype=self.classes_.dtype, warn=True)\n"
     ]
    },
    {
     "name": "stdout",
     "output_type": "stream",
     "text": [
      "[LightGBM] [Info] Number of positive: 1128, number of negative: 78140\n",
      "[LightGBM] [Info] Auto-choosing row-wise multi-threading, the overhead of testing was 0.005659 seconds.\n",
      "You can set `force_row_wise=true` to remove the overhead.\n",
      "And if memory is not enough, you can set `force_col_wise=true`.\n",
      "[LightGBM] [Info] Total Bins 7020\n",
      "[LightGBM] [Info] Number of data points in the train set: 79268, number of used features: 70\n",
      "[LightGBM] [Info] [binary:BoostFromScore]: pavg=0.014230 -> initscore=-4.238056\n",
      "[LightGBM] [Info] Start training from score -4.238056\n",
      "Training loss: 0.065474, Training AUC: 0.765417\n"
     ]
    }
   ],
   "source": [
    "best_iter, lgb_loss = lgbCV(train, test)"
   ]
  },
  {
   "cell_type": "code",
   "execution_count": 78,
   "metadata": {},
   "outputs": [
    {
     "data": {
      "text/plain": [
       "0"
      ]
     },
     "execution_count": 78,
     "metadata": {},
     "output_type": "execute_result"
    }
   ],
   "source": [
    "best_iter"
   ]
  },
  {
   "cell_type": "code",
   "execution_count": 79,
   "metadata": {},
   "outputs": [
    {
     "data": {
      "text/plain": [
       "0.06547381177173461"
      ]
     },
     "execution_count": 79,
     "metadata": {},
     "output_type": "execute_result"
    }
   ],
   "source": [
    "lgb_loss"
   ]
  },
  {
   "cell_type": "code",
   "execution_count": null,
   "metadata": {},
   "outputs": [],
   "source": []
  }
 ],
 "metadata": {
  "kernelspec": {
   "display_name": "Python 3",
   "language": "python",
   "name": "python3"
  },
  "language_info": {
   "codemirror_mode": {
    "name": "ipython",
    "version": 3
   },
   "file_extension": ".py",
   "mimetype": "text/x-python",
   "name": "python",
   "nbconvert_exporter": "python",
   "pygments_lexer": "ipython3",
   "version": "3.8.13"
  }
 },
 "nbformat": 4,
 "nbformat_minor": 2
}
